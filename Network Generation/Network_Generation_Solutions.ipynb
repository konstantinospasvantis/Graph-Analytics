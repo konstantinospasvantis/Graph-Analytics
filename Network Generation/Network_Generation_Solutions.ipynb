{
  "nbformat": 4,
  "nbformat_minor": 0,
  "metadata": {
    "colab": {
      "provenance": [],
      "collapsed_sections": [
        "ZZAqJnS-AX-Y"
      ]
    },
    "kernelspec": {
      "name": "python3",
      "display_name": "Python 3"
    },
    "language_info": {
      "name": "python"
    }
  },
  "cells": [
    {
      "cell_type": "markdown",
      "source": [
        "Σε αυτό το Notebook παρουσιάζεται η λύση της πρώτης εργασίας για το μάθημα Ανάλυση Δικτύων και Εξόρυξη Γνώσης από τον Παγκόσμιο Ιστό  "
      ],
      "metadata": {
        "id": "GHyyj-qfv43J"
      }
    },
    {
      "cell_type": "code",
      "source": [
        "#Importing Libraries\n",
        "import networkx as nx\n",
        "from networkx.algorithms.reciprocity import reciprocity\n",
        "import matplotlib.pyplot as plt\n",
        "import numpy as np\n",
        "import matplotlib as mpl\n",
        "import warnings\n",
        "%matplotlib inline\n",
        "warnings.filterwarnings('ignore')\n",
        "# change defaults to be less ugly\n",
        "mpl.rc('xtick', labelsize=14, color=\"#222222\") \n",
        "mpl.rc('ytick', labelsize=14, color=\"#222222\") \n",
        "mpl.rc('xtick.major', size=6, width=1)\n",
        "mpl.rc('xtick.minor', size=3, width=1)\n",
        "mpl.rc('ytick.major', size=6, width=1)\n",
        "mpl.rc('ytick.minor', size=3, width=1)\n",
        "mpl.rc('axes', linewidth=1, edgecolor=\"#222222\", labelcolor=\"#222222\")\n",
        "mpl.rc('text', usetex=False, color=\"#222222\")\n",
        "import warnings\n",
        "warnings.filterwarnings('ignore')"
      ],
      "metadata": {
        "id": "9B-4Y1scwQGs"
      },
      "execution_count": 1,
      "outputs": []
    },
    {
      "cell_type": "markdown",
      "source": [
        "# First Section (Gnutella Network) \n",
        "\n"
      ],
      "metadata": {
        "id": "pCCV-hvxfLRR"
      }
    },
    {
      "cell_type": "code",
      "execution_count": null,
      "metadata": {
        "id": "zblcCuejfJfC",
        "colab": {
          "base_uri": "https://localhost:8080/",
          "height": 624
        },
        "outputId": "209e614f-d7b4-4ab7-c658-e5d4b120eb7c"
      },
      "outputs": [
        {
          "output_type": "stream",
          "name": "stdout",
          "text": [
            "Basic Analysis for Gnutella Network (G1)\n",
            "\n",
            "Number of Nodes for G1 is: 8846\n",
            "Number of Edges for G1 is: 31839\n",
            "Number of Nodes with self loops is: 0\n",
            "Number of reciprocated edges is: 0.0\n",
            "Number of Sink Nodes in G1: 4996\n",
            "Number of Source Nodes in G1: 118\n",
            "Max in-going Degree of a Node: 79\n",
            "Min in-going Degree of a Node: 0\n",
            "Average in-going degree of Nodes: 3.5992539000678274\n",
            "Max Out-going Degree of a Node: 65\n",
            "Min Out-going Degree of a Node: 0\n",
            "Average Out-going degree of Nodes: 3.5992539000678274\n"
          ]
        },
        {
          "output_type": "error",
          "ename": "KeyboardInterrupt",
          "evalue": "ignored",
          "traceback": [
            "\u001b[0;31m---------------------------------------------------------------------------\u001b[0m",
            "\u001b[0;31mKeyboardInterrupt\u001b[0m                         Traceback (most recent call last)",
            "\u001b[0;32m<ipython-input-2-f96600a40739>\u001b[0m in \u001b[0;36m<module>\u001b[0;34m\u001b[0m\n\u001b[1;32m     45\u001b[0m \u001b[0mmax_diameter\u001b[0m \u001b[0;34m=\u001b[0m \u001b[0;36m0\u001b[0m\u001b[0;34m\u001b[0m\u001b[0;34m\u001b[0m\u001b[0m\n\u001b[1;32m     46\u001b[0m \u001b[0;32mfor\u001b[0m \u001b[0mcomponent\u001b[0m \u001b[0;32min\u001b[0m \u001b[0mcomponents\u001b[0m\u001b[0;34m:\u001b[0m\u001b[0;34m\u001b[0m\u001b[0;34m\u001b[0m\u001b[0m\n\u001b[0;32m---> 47\u001b[0;31m     \u001b[0mdiameter\u001b[0m \u001b[0;34m=\u001b[0m \u001b[0mnx\u001b[0m\u001b[0;34m.\u001b[0m\u001b[0mdiameter\u001b[0m\u001b[0;34m(\u001b[0m\u001b[0mG1\u001b[0m\u001b[0;34m.\u001b[0m\u001b[0msubgraph\u001b[0m\u001b[0;34m(\u001b[0m\u001b[0mcomponent\u001b[0m\u001b[0;34m)\u001b[0m\u001b[0;34m.\u001b[0m\u001b[0mto_undirected\u001b[0m\u001b[0;34m(\u001b[0m\u001b[0;34m)\u001b[0m\u001b[0;34m)\u001b[0m\u001b[0;34m\u001b[0m\u001b[0;34m\u001b[0m\u001b[0m\n\u001b[0m\u001b[1;32m     48\u001b[0m     \u001b[0;32mif\u001b[0m \u001b[0mdiameter\u001b[0m \u001b[0;34m>\u001b[0m \u001b[0mmax_diameter\u001b[0m\u001b[0;34m:\u001b[0m\u001b[0;34m\u001b[0m\u001b[0;34m\u001b[0m\u001b[0m\n\u001b[1;32m     49\u001b[0m         \u001b[0mmax_diameter\u001b[0m \u001b[0;34m=\u001b[0m \u001b[0mdiameter\u001b[0m\u001b[0;34m\u001b[0m\u001b[0;34m\u001b[0m\u001b[0m\n",
            "\u001b[0;32m/usr/local/lib/python3.9/dist-packages/networkx/algorithms/distance_measures.py\u001b[0m in \u001b[0;36mdiameter\u001b[0;34m(G, e, usebounds, weight)\u001b[0m\n\u001b[1;32m    375\u001b[0m         \u001b[0;32mreturn\u001b[0m \u001b[0m_extrema_bounding\u001b[0m\u001b[0;34m(\u001b[0m\u001b[0mG\u001b[0m\u001b[0;34m,\u001b[0m \u001b[0mcompute\u001b[0m\u001b[0;34m=\u001b[0m\u001b[0;34m\"diameter\"\u001b[0m\u001b[0;34m,\u001b[0m \u001b[0mweight\u001b[0m\u001b[0;34m=\u001b[0m\u001b[0mweight\u001b[0m\u001b[0;34m)\u001b[0m\u001b[0;34m\u001b[0m\u001b[0;34m\u001b[0m\u001b[0m\n\u001b[1;32m    376\u001b[0m     \u001b[0;32mif\u001b[0m \u001b[0me\u001b[0m \u001b[0;32mis\u001b[0m \u001b[0;32mNone\u001b[0m\u001b[0;34m:\u001b[0m\u001b[0;34m\u001b[0m\u001b[0;34m\u001b[0m\u001b[0m\n\u001b[0;32m--> 377\u001b[0;31m         \u001b[0me\u001b[0m \u001b[0;34m=\u001b[0m \u001b[0meccentricity\u001b[0m\u001b[0;34m(\u001b[0m\u001b[0mG\u001b[0m\u001b[0;34m,\u001b[0m \u001b[0mweight\u001b[0m\u001b[0;34m=\u001b[0m\u001b[0mweight\u001b[0m\u001b[0;34m)\u001b[0m\u001b[0;34m\u001b[0m\u001b[0;34m\u001b[0m\u001b[0m\n\u001b[0m\u001b[1;32m    378\u001b[0m     \u001b[0;32mreturn\u001b[0m \u001b[0mmax\u001b[0m\u001b[0;34m(\u001b[0m\u001b[0me\u001b[0m\u001b[0;34m.\u001b[0m\u001b[0mvalues\u001b[0m\u001b[0;34m(\u001b[0m\u001b[0;34m)\u001b[0m\u001b[0;34m)\u001b[0m\u001b[0;34m\u001b[0m\u001b[0;34m\u001b[0m\u001b[0m\n\u001b[1;32m    379\u001b[0m \u001b[0;34m\u001b[0m\u001b[0m\n",
            "\u001b[0;32m/usr/local/lib/python3.9/dist-packages/networkx/algorithms/distance_measures.py\u001b[0m in \u001b[0;36meccentricity\u001b[0;34m(G, v, sp, weight)\u001b[0m\n\u001b[1;32m    298\u001b[0m     \u001b[0;32mfor\u001b[0m \u001b[0mn\u001b[0m \u001b[0;32min\u001b[0m \u001b[0mG\u001b[0m\u001b[0;34m.\u001b[0m\u001b[0mnbunch_iter\u001b[0m\u001b[0;34m(\u001b[0m\u001b[0mv\u001b[0m\u001b[0;34m)\u001b[0m\u001b[0;34m:\u001b[0m\u001b[0;34m\u001b[0m\u001b[0;34m\u001b[0m\u001b[0m\n\u001b[1;32m    299\u001b[0m         \u001b[0;32mif\u001b[0m \u001b[0msp\u001b[0m \u001b[0;32mis\u001b[0m \u001b[0;32mNone\u001b[0m\u001b[0;34m:\u001b[0m\u001b[0;34m\u001b[0m\u001b[0;34m\u001b[0m\u001b[0m\n\u001b[0;32m--> 300\u001b[0;31m             \u001b[0mlength\u001b[0m \u001b[0;34m=\u001b[0m \u001b[0mnx\u001b[0m\u001b[0;34m.\u001b[0m\u001b[0mshortest_path_length\u001b[0m\u001b[0;34m(\u001b[0m\u001b[0mG\u001b[0m\u001b[0;34m,\u001b[0m \u001b[0msource\u001b[0m\u001b[0;34m=\u001b[0m\u001b[0mn\u001b[0m\u001b[0;34m,\u001b[0m \u001b[0mweight\u001b[0m\u001b[0;34m=\u001b[0m\u001b[0mweight\u001b[0m\u001b[0;34m)\u001b[0m\u001b[0;34m\u001b[0m\u001b[0;34m\u001b[0m\u001b[0m\n\u001b[0m\u001b[1;32m    301\u001b[0m \u001b[0;34m\u001b[0m\u001b[0m\n\u001b[1;32m    302\u001b[0m             \u001b[0mL\u001b[0m \u001b[0;34m=\u001b[0m \u001b[0mlen\u001b[0m\u001b[0;34m(\u001b[0m\u001b[0mlength\u001b[0m\u001b[0;34m)\u001b[0m\u001b[0;34m\u001b[0m\u001b[0;34m\u001b[0m\u001b[0m\n",
            "\u001b[0;32m/usr/local/lib/python3.9/dist-packages/networkx/classes/backends.py\u001b[0m in \u001b[0;36mwrapper\u001b[0;34m(*args, **kwds)\u001b[0m\n\u001b[1;32m    143\u001b[0m                         \u001b[0;34mf\"'{name}' not implemented by {plugin_name}\"\u001b[0m\u001b[0;34m\u001b[0m\u001b[0;34m\u001b[0m\u001b[0m\n\u001b[1;32m    144\u001b[0m                     )\n\u001b[0;32m--> 145\u001b[0;31m         \u001b[0;32mreturn\u001b[0m \u001b[0mfunc\u001b[0m\u001b[0;34m(\u001b[0m\u001b[0;34m*\u001b[0m\u001b[0margs\u001b[0m\u001b[0;34m,\u001b[0m \u001b[0;34m**\u001b[0m\u001b[0mkwds\u001b[0m\u001b[0;34m)\u001b[0m\u001b[0;34m\u001b[0m\u001b[0;34m\u001b[0m\u001b[0m\n\u001b[0m\u001b[1;32m    146\u001b[0m \u001b[0;34m\u001b[0m\u001b[0m\n\u001b[1;32m    147\u001b[0m     \u001b[0m_register_algo\u001b[0m\u001b[0;34m(\u001b[0m\u001b[0mname\u001b[0m\u001b[0;34m,\u001b[0m \u001b[0mwrapper\u001b[0m\u001b[0;34m)\u001b[0m\u001b[0;34m\u001b[0m\u001b[0;34m\u001b[0m\u001b[0m\n",
            "\u001b[0;32m/usr/local/lib/python3.9/dist-packages/networkx/algorithms/shortest_paths/generic.py\u001b[0m in \u001b[0;36mshortest_path_length\u001b[0;34m(G, source, target, weight, method)\u001b[0m\n\u001b[1;32m    298\u001b[0m             \u001b[0;31m# Find paths to all nodes accessible from the source.\u001b[0m\u001b[0;34m\u001b[0m\u001b[0;34m\u001b[0m\u001b[0m\n\u001b[1;32m    299\u001b[0m             \u001b[0;32mif\u001b[0m \u001b[0mmethod\u001b[0m \u001b[0;34m==\u001b[0m \u001b[0;34m\"unweighted\"\u001b[0m\u001b[0;34m:\u001b[0m\u001b[0;34m\u001b[0m\u001b[0;34m\u001b[0m\u001b[0m\n\u001b[0;32m--> 300\u001b[0;31m                 \u001b[0mpaths\u001b[0m \u001b[0;34m=\u001b[0m \u001b[0mnx\u001b[0m\u001b[0;34m.\u001b[0m\u001b[0msingle_source_shortest_path_length\u001b[0m\u001b[0;34m(\u001b[0m\u001b[0mG\u001b[0m\u001b[0;34m,\u001b[0m \u001b[0msource\u001b[0m\u001b[0;34m)\u001b[0m\u001b[0;34m\u001b[0m\u001b[0;34m\u001b[0m\u001b[0m\n\u001b[0m\u001b[1;32m    301\u001b[0m             \u001b[0;32melif\u001b[0m \u001b[0mmethod\u001b[0m \u001b[0;34m==\u001b[0m \u001b[0;34m\"dijkstra\"\u001b[0m\u001b[0;34m:\u001b[0m\u001b[0;34m\u001b[0m\u001b[0;34m\u001b[0m\u001b[0m\n\u001b[1;32m    302\u001b[0m                 \u001b[0mpath_length\u001b[0m \u001b[0;34m=\u001b[0m \u001b[0mnx\u001b[0m\u001b[0;34m.\u001b[0m\u001b[0msingle_source_dijkstra_path_length\u001b[0m\u001b[0;34m\u001b[0m\u001b[0;34m\u001b[0m\u001b[0m\n",
            "\u001b[0;32m/usr/local/lib/python3.9/dist-packages/networkx/algorithms/shortest_paths/unweighted.py\u001b[0m in \u001b[0;36msingle_source_shortest_path_length\u001b[0;34m(G, source, cutoff)\u001b[0m\n\u001b[1;32m     57\u001b[0m         \u001b[0mcutoff\u001b[0m \u001b[0;34m=\u001b[0m \u001b[0mfloat\u001b[0m\u001b[0;34m(\u001b[0m\u001b[0;34m\"inf\"\u001b[0m\u001b[0;34m)\u001b[0m\u001b[0;34m\u001b[0m\u001b[0;34m\u001b[0m\u001b[0m\n\u001b[1;32m     58\u001b[0m     \u001b[0mnextlevel\u001b[0m \u001b[0;34m=\u001b[0m \u001b[0;34m{\u001b[0m\u001b[0msource\u001b[0m\u001b[0;34m:\u001b[0m \u001b[0;36m1\u001b[0m\u001b[0;34m}\u001b[0m\u001b[0;34m\u001b[0m\u001b[0;34m\u001b[0m\u001b[0m\n\u001b[0;32m---> 59\u001b[0;31m     \u001b[0;32mreturn\u001b[0m \u001b[0mdict\u001b[0m\u001b[0;34m(\u001b[0m\u001b[0m_single_shortest_path_length\u001b[0m\u001b[0;34m(\u001b[0m\u001b[0mG\u001b[0m\u001b[0;34m.\u001b[0m\u001b[0madj\u001b[0m\u001b[0;34m,\u001b[0m \u001b[0mnextlevel\u001b[0m\u001b[0;34m,\u001b[0m \u001b[0mcutoff\u001b[0m\u001b[0;34m)\u001b[0m\u001b[0;34m)\u001b[0m\u001b[0;34m\u001b[0m\u001b[0;34m\u001b[0m\u001b[0m\n\u001b[0m\u001b[1;32m     60\u001b[0m \u001b[0;34m\u001b[0m\u001b[0m\n\u001b[1;32m     61\u001b[0m \u001b[0;34m\u001b[0m\u001b[0m\n",
            "\u001b[0;32m/usr/local/lib/python3.9/dist-packages/networkx/algorithms/shortest_paths/unweighted.py\u001b[0m in \u001b[0;36m_single_shortest_path_length\u001b[0;34m(adj, firstlevel, cutoff)\u001b[0m\n\u001b[1;32m     89\u001b[0m             \u001b[0;32mreturn\u001b[0m\u001b[0;34m\u001b[0m\u001b[0;34m\u001b[0m\u001b[0m\n\u001b[1;32m     90\u001b[0m         \u001b[0;32mfor\u001b[0m \u001b[0mv\u001b[0m \u001b[0;32min\u001b[0m \u001b[0mfound\u001b[0m\u001b[0;34m:\u001b[0m\u001b[0;34m\u001b[0m\u001b[0;34m\u001b[0m\u001b[0m\n\u001b[0;32m---> 91\u001b[0;31m             \u001b[0mnextlevel\u001b[0m\u001b[0;34m.\u001b[0m\u001b[0mupdate\u001b[0m\u001b[0;34m(\u001b[0m\u001b[0madj\u001b[0m\u001b[0;34m[\u001b[0m\u001b[0mv\u001b[0m\u001b[0;34m]\u001b[0m\u001b[0;34m)\u001b[0m\u001b[0;34m\u001b[0m\u001b[0;34m\u001b[0m\u001b[0m\n\u001b[0m\u001b[1;32m     92\u001b[0m         \u001b[0mlevel\u001b[0m \u001b[0;34m+=\u001b[0m \u001b[0;36m1\u001b[0m\u001b[0;34m\u001b[0m\u001b[0;34m\u001b[0m\u001b[0m\n\u001b[1;32m     93\u001b[0m     \u001b[0;32mdel\u001b[0m \u001b[0mseen\u001b[0m\u001b[0;34m\u001b[0m\u001b[0;34m\u001b[0m\u001b[0m\n",
            "\u001b[0;31mKeyboardInterrupt\u001b[0m: "
          ]
        }
      ],
      "source": [
        "G1 = nx.read_edgelist(\"p2p-Gnutella05.txt\",create_using=nx.DiGraph(), nodetype = int)\n",
        "\n",
        "print('Basic Analysis for Gnutella Network (G1)')\n",
        "print()\n",
        "#nodes - edges \n",
        "print('Number of Nodes for G1 is: ' + str(G1.number_of_nodes())) \n",
        "print('Number of Edges for G1 is: ' + str(G1.number_of_edges())) \n",
        "\n",
        "#Nodes with Self Loops \n",
        "print('Number of Nodes with self loops is: ' + str(len(list(nx.nodes_with_selfloops(G1)))))\n",
        "\n",
        "# Number of Reciprocated Edges (Το documentation του networkx μας αναφέρει ότι η συνάρτηση reciprocity υπολογίζει τον λόγο των ακμών που δείχνουν και στις δύο \n",
        "# κατευθήνσεις, προς το πλήθος όλων των ακμών του δικτύου. Οπότε για να υπολογίζουμε το πλήθος των reciprocated edges αρκεί να πολλαπλασιάσουμε το αποτέλεσμα\n",
        "# που παράγει η συνάρτηση reciprocity με το πλήθος όλων των ακμών) \n",
        "print('Number of reciprocated edges is: ' + str(reciprocity(G1)*G1.number_of_edges()))\n",
        "\n",
        "# #Number of Sink and Source nodes \n",
        "print('Number of Sink Nodes in G1: ' + str(len([node for node in G1.nodes if G1.out_degree(node) == 0])))\n",
        "print('Number of Source Nodes in G1: ' + str(len([node for node in G1.nodes if G1.in_degree(node) == 0])))\n",
        "\n",
        "\n",
        "#Max, Min and Average In-going Degree\n",
        "ingoing_degrees_G1 = dict(G1.in_degree())\n",
        "avg_ingoing_degree_G1 = sum(val for key, val in ingoing_degrees_G1.items()) / G1.number_of_nodes()\n",
        "print('Max in-going Degree of a Node: ' + str(max(ingoing_degrees_G1.values()))) \n",
        "print('Min in-going Degree of a Node: ' + str(min(ingoing_degrees_G1.values())))\n",
        "print('Average in-going degree of Nodes: ' + str(avg_ingoing_degree_G1)) \n",
        "\n",
        "# #Max, Min and Average Out-going Degree\n",
        "outgoing_degrees_G1 = dict(G1.out_degree())\n",
        "avg_outgoing_degree_G1 = sum(val for key, val in outgoing_degrees_G1.items()) / G1.number_of_nodes()\n",
        "print('Max Out-going Degree of a Node: ' + str(max(outgoing_degrees_G1.values()))) \n",
        "print('Min Out-going Degree of a Node: ' + str(min(outgoing_degrees_G1.values())))\n",
        "print('Average Out-going degree of Nodes: ' + str(avg_outgoing_degree_G1)) \n",
        "\n",
        "#Diameter of the Network (δεν είναι συνεκτικά συνδεδεμένο, οπότε θα βρω την μεγαλύτερη διάμετρο από τις συνιστώσες του. Επίσης δεν λαμβάνω υπόψη την φορά των συνιστωσών του\n",
        "# για να βρεθεί το ίδιο αποτέλεσμα όπως την ιστοσελίδα από την οποία κατέβασα το network)\n",
        "components = list(nx.weakly_connected_components(G1))\n",
        "max_diameter = 0\n",
        "for component in components:\n",
        "    diameter = nx.diameter(G1.subgraph(component).to_undirected())\n",
        "    if diameter > max_diameter:\n",
        "        max_diameter = diameter\n",
        "print(\"The diameter is:\", max_diameter)\n",
        "\n",
        "#Average clustering coefficient and global clustering coefficient \n",
        "clustering_coefficients = nx.clustering(G1)\n",
        "avg_clustering_coefficient = sum(val for key,val in clustering_coefficients.items())/G1.number_of_nodes()\n",
        "print('Average Clustering Coefficient is: ' + str(avg_clustering_coefficient*2)) \n",
        "#Για να βγει το σωστό αποτέλεσμα το πολλαπλασιάζω *2 \n",
        "\n",
        "global_clustering_coefficient = nx.transitivity(G1)\n",
        "print('Global Clustering Coefficient is ' + str(global_clustering_coefficient*2)) \n",
        "\n",
        "#strongly connected component\n",
        "scc_G1 = list(nx.strongly_connected_components(G1))\n",
        "largest_scc_G1 = max(scc_G1, key=len)\n",
        "print('Number of Nodes in the largest Strongly connected Component: ' + str(len(largest_scc_G1))) \n",
        "num_edges_largest_scc_G1 = G1.subgraph(largest_scc_G1).number_of_edges()\n",
        "print('Number of Nodes in the largest Strongly connected Component: ' + str(num_edges_largest_scc_G1))\n",
        "\n",
        "#Weakly connected component \n",
        "#weekly connected \n",
        "wcc_G1 = list(nx.weakly_connected_components(G1))\n",
        "\n",
        "largest_wcc_G1 = max(wcc_G1, key=len)\n",
        "print('Number of Nodes in the largest Weakly connected Component: ' + str(len(largest_wcc_G1))) \n",
        "num_edges_largest_wcc_G1 = G1.subgraph(largest_wcc_G1).number_of_edges()\n",
        "print('Number of Nodes in the largest Strongly connected Component: ' + str(num_edges_largest_wcc_G1))\n"
      ]
    },
    {
      "cell_type": "markdown",
      "source": [
        "# Second Section (General Relativity and Quantum Cosmology)"
      ],
      "metadata": {
        "id": "KiJURv4vPrNU"
      }
    },
    {
      "cell_type": "code",
      "source": [
        "G2 = nx.read_edgelist(\"CA-GrQc.txt\",create_using=nx.Graph(), nodetype = int)\n",
        "\n",
        "print('Basic Analysis for General Realtivity and Quantum Cosmology Network (G2)')\n",
        "print()\n",
        "#nodes - edges \n",
        "print('Number of Nodes for G2 is: ' + str(G2.number_of_nodes())) \n",
        "print('Number of Edges for G2 is: ' + str(G2.number_of_edges())) \n",
        "\n",
        "#Nodes with Self Loops \n",
        "print('Number of Nodes with self loops is: ' + str(len(list(nx.nodes_with_selfloops(G2)))))\n",
        "\n",
        "# Number of Reciprocated Edges (Το documentation του networkx μας αναφέρει ότι η συνάρτηση reciprocity υπολογίζει τον λόγο των ακμών που δείχνουν και στις δύο \n",
        "# κατευθήνσεις, προς το πλήθος όλων των ακμών του δικτύου. Οπότε για να υπολογίζουμε το πλήθος των reciprocated edges αρκεί να πολλαπλασιάσουμε το αποτέλεσμα\n",
        "# που παράγει η συνάρτηση reciprocity με το πλήθος όλων των ακμών) \n",
        "print('Number of reciprocated edges is: ' + str(reciprocity(G2)*G2.number_of_edges()))\n",
        "\n",
        "#Number of Sink and Source nodes (Δεν βγάζει νόημα αφού έχουμε μη-κατευθυνόμενο γράφο)\n",
        "\n",
        "# #Max, Min and Average Degree \n",
        "degrees_G2 = dict(G2.degree())\n",
        "print('Max Degree of a Node: ' + str(max(degrees_G2.values()))) \n",
        "print('Min Degree of a Node: ' + str(min(degrees_G2.values()))) \n",
        "avg_degree_G2 = sum(val for key, val in degrees_G2.items()) / G2.number_of_nodes()\n",
        "print('Average Degree of Nodes: ' + str(avg_degree_G2))\n",
        "\n",
        "#Max, Min and Average In-going Degree (Δεν βγάζει νόημα αφού έχουμε μη-κατευθυνόμενο γράφο)\n",
        "\n",
        "\n",
        "#Max, Min and Average Out-going Degree (Δεν βγάζει νόημα αφού έχουμε μη-κατευθυνόμενο γράφο)\n",
        "\n",
        "\n",
        "#Diameter of the Network (δεν είναι συνεκτικά συνδεδεμένο, οπότε θα βρω την μεγαλύτερη διάμετρο από τις συνιστώσες του)\n",
        "components = list(nx.connected_components(G2))\n",
        "max_diameter = 0\n",
        "for component in components:\n",
        "    diameter = nx.diameter(G2.subgraph(component))\n",
        "    if diameter > max_diameter:\n",
        "        max_diameter = diameter\n",
        "print(\"The diameter of the graph is:\", max_diameter)\n",
        "\n",
        "#Average clustering coefficient and global clustering coefficient \n",
        "clustering_coefficients = nx.clustering(G2)\n",
        "avg_clustering_coefficient = sum(val for key,val in clustering_coefficients.items())/G2.number_of_nodes()\n",
        "print('Average Clustering Coefficient is: ' + str(avg_clustering_coefficient)) \n",
        "\n",
        "global_clustering_coefficient = nx.transitivity(G2)\n",
        "print('Global Clustering Coefficient is ' + str(global_clustering_coefficient)) \n",
        "\n",
        "#Largest Strongly Connected And Weakly Connected Component \n",
        "#(Δεν έχει σημασία αφού ο γράφος είναι μη-κατευθυνόμενος, οπότε αρκεί να βρούμε μόνο την μεγαλύτερη συνιστώσα)\n",
        "cc_G2 = list(nx.connected_components(G2))\n",
        "largest_cc_G2 = max(cc_G2, key=len)\n",
        "print('Number of Nodes in the largest connected Component: ' + str(len(largest_cc_G2))) \n",
        "num_edges_largest_cc_G2 = G2.subgraph(largest_cc_G2).number_of_edges()\n",
        "print('Number of Nodes in the largest Strongly connected Component: ' + str(num_edges_largest_cc_G2))"
      ],
      "metadata": {
        "colab": {
          "base_uri": "https://localhost:8080/",
          "height": 537
        },
        "id": "ifbdZ682QNQm",
        "outputId": "2349ac7b-0518-42bb-c24b-0d4f493b16a8"
      },
      "execution_count": null,
      "outputs": [
        {
          "output_type": "stream",
          "name": "stdout",
          "text": [
            "Basic Analysis for General Realtivity and Quantum Cosmology Network (G2)\n",
            "\n",
            "Number of Nodes for G2 is: 5242\n",
            "Number of Edges for G2 is: 14496\n",
            "Number of Nodes with self loops is: 12\n",
            "Number of reciprocated edges is: 0.0\n",
            "Max Degree of a Node: 81\n",
            "Min Degree of a Node: 1\n",
            "Average Degree of Nodes: 5.530713468141931\n"
          ]
        },
        {
          "output_type": "error",
          "ename": "KeyboardInterrupt",
          "evalue": "ignored",
          "traceback": [
            "\u001b[0;31m---------------------------------------------------------------------------\u001b[0m",
            "\u001b[0;31mKeyboardInterrupt\u001b[0m                         Traceback (most recent call last)",
            "\u001b[0;32m<ipython-input-3-6a54920842aa>\u001b[0m in \u001b[0;36m<module>\u001b[0;34m\u001b[0m\n\u001b[1;32m     34\u001b[0m \u001b[0mmax_diameter\u001b[0m \u001b[0;34m=\u001b[0m \u001b[0;36m0\u001b[0m\u001b[0;34m\u001b[0m\u001b[0;34m\u001b[0m\u001b[0m\n\u001b[1;32m     35\u001b[0m \u001b[0;32mfor\u001b[0m \u001b[0mcomponent\u001b[0m \u001b[0;32min\u001b[0m \u001b[0mcomponents\u001b[0m\u001b[0;34m:\u001b[0m\u001b[0;34m\u001b[0m\u001b[0;34m\u001b[0m\u001b[0m\n\u001b[0;32m---> 36\u001b[0;31m     \u001b[0mdiameter\u001b[0m \u001b[0;34m=\u001b[0m \u001b[0mnx\u001b[0m\u001b[0;34m.\u001b[0m\u001b[0mdiameter\u001b[0m\u001b[0;34m(\u001b[0m\u001b[0mG2\u001b[0m\u001b[0;34m.\u001b[0m\u001b[0msubgraph\u001b[0m\u001b[0;34m(\u001b[0m\u001b[0mcomponent\u001b[0m\u001b[0;34m)\u001b[0m\u001b[0;34m)\u001b[0m\u001b[0;34m\u001b[0m\u001b[0;34m\u001b[0m\u001b[0m\n\u001b[0m\u001b[1;32m     37\u001b[0m     \u001b[0;32mif\u001b[0m \u001b[0mdiameter\u001b[0m \u001b[0;34m>\u001b[0m \u001b[0mmax_diameter\u001b[0m\u001b[0;34m:\u001b[0m\u001b[0;34m\u001b[0m\u001b[0;34m\u001b[0m\u001b[0m\n\u001b[1;32m     38\u001b[0m         \u001b[0mmax_diameter\u001b[0m \u001b[0;34m=\u001b[0m \u001b[0mdiameter\u001b[0m\u001b[0;34m\u001b[0m\u001b[0;34m\u001b[0m\u001b[0m\n",
            "\u001b[0;32m/usr/local/lib/python3.9/dist-packages/networkx/algorithms/distance_measures.py\u001b[0m in \u001b[0;36mdiameter\u001b[0;34m(G, e, usebounds, weight)\u001b[0m\n\u001b[1;32m    375\u001b[0m         \u001b[0;32mreturn\u001b[0m \u001b[0m_extrema_bounding\u001b[0m\u001b[0;34m(\u001b[0m\u001b[0mG\u001b[0m\u001b[0;34m,\u001b[0m \u001b[0mcompute\u001b[0m\u001b[0;34m=\u001b[0m\u001b[0;34m\"diameter\"\u001b[0m\u001b[0;34m,\u001b[0m \u001b[0mweight\u001b[0m\u001b[0;34m=\u001b[0m\u001b[0mweight\u001b[0m\u001b[0;34m)\u001b[0m\u001b[0;34m\u001b[0m\u001b[0;34m\u001b[0m\u001b[0m\n\u001b[1;32m    376\u001b[0m     \u001b[0;32mif\u001b[0m \u001b[0me\u001b[0m \u001b[0;32mis\u001b[0m \u001b[0;32mNone\u001b[0m\u001b[0;34m:\u001b[0m\u001b[0;34m\u001b[0m\u001b[0;34m\u001b[0m\u001b[0m\n\u001b[0;32m--> 377\u001b[0;31m         \u001b[0me\u001b[0m \u001b[0;34m=\u001b[0m \u001b[0meccentricity\u001b[0m\u001b[0;34m(\u001b[0m\u001b[0mG\u001b[0m\u001b[0;34m,\u001b[0m \u001b[0mweight\u001b[0m\u001b[0;34m=\u001b[0m\u001b[0mweight\u001b[0m\u001b[0;34m)\u001b[0m\u001b[0;34m\u001b[0m\u001b[0;34m\u001b[0m\u001b[0m\n\u001b[0m\u001b[1;32m    378\u001b[0m     \u001b[0;32mreturn\u001b[0m \u001b[0mmax\u001b[0m\u001b[0;34m(\u001b[0m\u001b[0me\u001b[0m\u001b[0;34m.\u001b[0m\u001b[0mvalues\u001b[0m\u001b[0;34m(\u001b[0m\u001b[0;34m)\u001b[0m\u001b[0;34m)\u001b[0m\u001b[0;34m\u001b[0m\u001b[0;34m\u001b[0m\u001b[0m\n\u001b[1;32m    379\u001b[0m \u001b[0;34m\u001b[0m\u001b[0m\n",
            "\u001b[0;32m/usr/local/lib/python3.9/dist-packages/networkx/algorithms/distance_measures.py\u001b[0m in \u001b[0;36meccentricity\u001b[0;34m(G, v, sp, weight)\u001b[0m\n\u001b[1;32m    298\u001b[0m     \u001b[0;32mfor\u001b[0m \u001b[0mn\u001b[0m \u001b[0;32min\u001b[0m \u001b[0mG\u001b[0m\u001b[0;34m.\u001b[0m\u001b[0mnbunch_iter\u001b[0m\u001b[0;34m(\u001b[0m\u001b[0mv\u001b[0m\u001b[0;34m)\u001b[0m\u001b[0;34m:\u001b[0m\u001b[0;34m\u001b[0m\u001b[0;34m\u001b[0m\u001b[0m\n\u001b[1;32m    299\u001b[0m         \u001b[0;32mif\u001b[0m \u001b[0msp\u001b[0m \u001b[0;32mis\u001b[0m \u001b[0;32mNone\u001b[0m\u001b[0;34m:\u001b[0m\u001b[0;34m\u001b[0m\u001b[0;34m\u001b[0m\u001b[0m\n\u001b[0;32m--> 300\u001b[0;31m             \u001b[0mlength\u001b[0m \u001b[0;34m=\u001b[0m \u001b[0mnx\u001b[0m\u001b[0;34m.\u001b[0m\u001b[0mshortest_path_length\u001b[0m\u001b[0;34m(\u001b[0m\u001b[0mG\u001b[0m\u001b[0;34m,\u001b[0m \u001b[0msource\u001b[0m\u001b[0;34m=\u001b[0m\u001b[0mn\u001b[0m\u001b[0;34m,\u001b[0m \u001b[0mweight\u001b[0m\u001b[0;34m=\u001b[0m\u001b[0mweight\u001b[0m\u001b[0;34m)\u001b[0m\u001b[0;34m\u001b[0m\u001b[0;34m\u001b[0m\u001b[0m\n\u001b[0m\u001b[1;32m    301\u001b[0m \u001b[0;34m\u001b[0m\u001b[0m\n\u001b[1;32m    302\u001b[0m             \u001b[0mL\u001b[0m \u001b[0;34m=\u001b[0m \u001b[0mlen\u001b[0m\u001b[0;34m(\u001b[0m\u001b[0mlength\u001b[0m\u001b[0;34m)\u001b[0m\u001b[0;34m\u001b[0m\u001b[0;34m\u001b[0m\u001b[0m\n",
            "\u001b[0;32m/usr/local/lib/python3.9/dist-packages/networkx/classes/backends.py\u001b[0m in \u001b[0;36mwrapper\u001b[0;34m(*args, **kwds)\u001b[0m\n\u001b[1;32m    143\u001b[0m                         \u001b[0;34mf\"'{name}' not implemented by {plugin_name}\"\u001b[0m\u001b[0;34m\u001b[0m\u001b[0;34m\u001b[0m\u001b[0m\n\u001b[1;32m    144\u001b[0m                     )\n\u001b[0;32m--> 145\u001b[0;31m         \u001b[0;32mreturn\u001b[0m \u001b[0mfunc\u001b[0m\u001b[0;34m(\u001b[0m\u001b[0;34m*\u001b[0m\u001b[0margs\u001b[0m\u001b[0;34m,\u001b[0m \u001b[0;34m**\u001b[0m\u001b[0mkwds\u001b[0m\u001b[0;34m)\u001b[0m\u001b[0;34m\u001b[0m\u001b[0;34m\u001b[0m\u001b[0m\n\u001b[0m\u001b[1;32m    146\u001b[0m \u001b[0;34m\u001b[0m\u001b[0m\n\u001b[1;32m    147\u001b[0m     \u001b[0m_register_algo\u001b[0m\u001b[0;34m(\u001b[0m\u001b[0mname\u001b[0m\u001b[0;34m,\u001b[0m \u001b[0mwrapper\u001b[0m\u001b[0;34m)\u001b[0m\u001b[0;34m\u001b[0m\u001b[0;34m\u001b[0m\u001b[0m\n",
            "\u001b[0;32m/usr/local/lib/python3.9/dist-packages/networkx/algorithms/shortest_paths/generic.py\u001b[0m in \u001b[0;36mshortest_path_length\u001b[0;34m(G, source, target, weight, method)\u001b[0m\n\u001b[1;32m    298\u001b[0m             \u001b[0;31m# Find paths to all nodes accessible from the source.\u001b[0m\u001b[0;34m\u001b[0m\u001b[0;34m\u001b[0m\u001b[0m\n\u001b[1;32m    299\u001b[0m             \u001b[0;32mif\u001b[0m \u001b[0mmethod\u001b[0m \u001b[0;34m==\u001b[0m \u001b[0;34m\"unweighted\"\u001b[0m\u001b[0;34m:\u001b[0m\u001b[0;34m\u001b[0m\u001b[0;34m\u001b[0m\u001b[0m\n\u001b[0;32m--> 300\u001b[0;31m                 \u001b[0mpaths\u001b[0m \u001b[0;34m=\u001b[0m \u001b[0mnx\u001b[0m\u001b[0;34m.\u001b[0m\u001b[0msingle_source_shortest_path_length\u001b[0m\u001b[0;34m(\u001b[0m\u001b[0mG\u001b[0m\u001b[0;34m,\u001b[0m \u001b[0msource\u001b[0m\u001b[0;34m)\u001b[0m\u001b[0;34m\u001b[0m\u001b[0;34m\u001b[0m\u001b[0m\n\u001b[0m\u001b[1;32m    301\u001b[0m             \u001b[0;32melif\u001b[0m \u001b[0mmethod\u001b[0m \u001b[0;34m==\u001b[0m \u001b[0;34m\"dijkstra\"\u001b[0m\u001b[0;34m:\u001b[0m\u001b[0;34m\u001b[0m\u001b[0;34m\u001b[0m\u001b[0m\n\u001b[1;32m    302\u001b[0m                 \u001b[0mpath_length\u001b[0m \u001b[0;34m=\u001b[0m \u001b[0mnx\u001b[0m\u001b[0;34m.\u001b[0m\u001b[0msingle_source_dijkstra_path_length\u001b[0m\u001b[0;34m\u001b[0m\u001b[0;34m\u001b[0m\u001b[0m\n",
            "\u001b[0;32m/usr/local/lib/python3.9/dist-packages/networkx/algorithms/shortest_paths/unweighted.py\u001b[0m in \u001b[0;36msingle_source_shortest_path_length\u001b[0;34m(G, source, cutoff)\u001b[0m\n\u001b[1;32m     57\u001b[0m         \u001b[0mcutoff\u001b[0m \u001b[0;34m=\u001b[0m \u001b[0mfloat\u001b[0m\u001b[0;34m(\u001b[0m\u001b[0;34m\"inf\"\u001b[0m\u001b[0;34m)\u001b[0m\u001b[0;34m\u001b[0m\u001b[0;34m\u001b[0m\u001b[0m\n\u001b[1;32m     58\u001b[0m     \u001b[0mnextlevel\u001b[0m \u001b[0;34m=\u001b[0m \u001b[0;34m{\u001b[0m\u001b[0msource\u001b[0m\u001b[0;34m:\u001b[0m \u001b[0;36m1\u001b[0m\u001b[0;34m}\u001b[0m\u001b[0;34m\u001b[0m\u001b[0;34m\u001b[0m\u001b[0m\n\u001b[0;32m---> 59\u001b[0;31m     \u001b[0;32mreturn\u001b[0m \u001b[0mdict\u001b[0m\u001b[0;34m(\u001b[0m\u001b[0m_single_shortest_path_length\u001b[0m\u001b[0;34m(\u001b[0m\u001b[0mG\u001b[0m\u001b[0;34m.\u001b[0m\u001b[0madj\u001b[0m\u001b[0;34m,\u001b[0m \u001b[0mnextlevel\u001b[0m\u001b[0;34m,\u001b[0m \u001b[0mcutoff\u001b[0m\u001b[0;34m)\u001b[0m\u001b[0;34m)\u001b[0m\u001b[0;34m\u001b[0m\u001b[0;34m\u001b[0m\u001b[0m\n\u001b[0m\u001b[1;32m     60\u001b[0m \u001b[0;34m\u001b[0m\u001b[0m\n\u001b[1;32m     61\u001b[0m \u001b[0;34m\u001b[0m\u001b[0m\n",
            "\u001b[0;32m/usr/local/lib/python3.9/dist-packages/networkx/algorithms/shortest_paths/unweighted.py\u001b[0m in \u001b[0;36m_single_shortest_path_length\u001b[0;34m(adj, firstlevel, cutoff)\u001b[0m\n\u001b[1;32m     76\u001b[0m     \u001b[0mlevel\u001b[0m \u001b[0;34m=\u001b[0m \u001b[0;36m0\u001b[0m  \u001b[0;31m# the current level\u001b[0m\u001b[0;34m\u001b[0m\u001b[0;34m\u001b[0m\u001b[0m\n\u001b[1;32m     77\u001b[0m     \u001b[0mnextlevel\u001b[0m \u001b[0;34m=\u001b[0m \u001b[0mset\u001b[0m\u001b[0;34m(\u001b[0m\u001b[0mfirstlevel\u001b[0m\u001b[0;34m)\u001b[0m  \u001b[0;31m# set of nodes to check at next level\u001b[0m\u001b[0;34m\u001b[0m\u001b[0;34m\u001b[0m\u001b[0m\n\u001b[0;32m---> 78\u001b[0;31m     \u001b[0mn\u001b[0m \u001b[0;34m=\u001b[0m \u001b[0mlen\u001b[0m\u001b[0;34m(\u001b[0m\u001b[0madj\u001b[0m\u001b[0;34m)\u001b[0m\u001b[0;34m\u001b[0m\u001b[0;34m\u001b[0m\u001b[0m\n\u001b[0m\u001b[1;32m     79\u001b[0m     \u001b[0;32mwhile\u001b[0m \u001b[0mnextlevel\u001b[0m \u001b[0;32mand\u001b[0m \u001b[0mcutoff\u001b[0m \u001b[0;34m>=\u001b[0m \u001b[0mlevel\u001b[0m\u001b[0;34m:\u001b[0m\u001b[0;34m\u001b[0m\u001b[0;34m\u001b[0m\u001b[0m\n\u001b[1;32m     80\u001b[0m         \u001b[0mthislevel\u001b[0m \u001b[0;34m=\u001b[0m \u001b[0mnextlevel\u001b[0m  \u001b[0;31m# advance to next level\u001b[0m\u001b[0;34m\u001b[0m\u001b[0;34m\u001b[0m\u001b[0m\n",
            "\u001b[0;32m/usr/local/lib/python3.9/dist-packages/networkx/classes/coreviews.py\u001b[0m in \u001b[0;36m__len__\u001b[0;34m(self)\u001b[0m\n\u001b[1;32m     45\u001b[0m \u001b[0;34m\u001b[0m\u001b[0m\n\u001b[1;32m     46\u001b[0m     \u001b[0;32mdef\u001b[0m \u001b[0m__len__\u001b[0m\u001b[0;34m(\u001b[0m\u001b[0mself\u001b[0m\u001b[0;34m)\u001b[0m\u001b[0;34m:\u001b[0m\u001b[0;34m\u001b[0m\u001b[0;34m\u001b[0m\u001b[0m\n\u001b[0;32m---> 47\u001b[0;31m         \u001b[0;32mreturn\u001b[0m \u001b[0mlen\u001b[0m\u001b[0;34m(\u001b[0m\u001b[0mself\u001b[0m\u001b[0;34m.\u001b[0m\u001b[0m_atlas\u001b[0m\u001b[0;34m)\u001b[0m\u001b[0;34m\u001b[0m\u001b[0;34m\u001b[0m\u001b[0m\n\u001b[0m\u001b[1;32m     48\u001b[0m \u001b[0;34m\u001b[0m\u001b[0m\n\u001b[1;32m     49\u001b[0m     \u001b[0;32mdef\u001b[0m \u001b[0m__iter__\u001b[0m\u001b[0;34m(\u001b[0m\u001b[0mself\u001b[0m\u001b[0;34m)\u001b[0m\u001b[0;34m:\u001b[0m\u001b[0;34m\u001b[0m\u001b[0;34m\u001b[0m\u001b[0m\n",
            "\u001b[0;32m/usr/local/lib/python3.9/dist-packages/networkx/classes/coreviews.py\u001b[0m in \u001b[0;36m__len__\u001b[0;34m(self)\u001b[0m\n\u001b[1;32m    300\u001b[0m \u001b[0;34m\u001b[0m\u001b[0m\n\u001b[1;32m    301\u001b[0m     \u001b[0;32mdef\u001b[0m \u001b[0m__len__\u001b[0m\u001b[0;34m(\u001b[0m\u001b[0mself\u001b[0m\u001b[0;34m)\u001b[0m\u001b[0;34m:\u001b[0m\u001b[0;34m\u001b[0m\u001b[0;34m\u001b[0m\u001b[0m\n\u001b[0;32m--> 302\u001b[0;31m         \u001b[0;32mreturn\u001b[0m \u001b[0msum\u001b[0m\u001b[0;34m(\u001b[0m\u001b[0;36m1\u001b[0m \u001b[0;32mfor\u001b[0m \u001b[0mn\u001b[0m \u001b[0;32min\u001b[0m \u001b[0mself\u001b[0m\u001b[0;34m)\u001b[0m\u001b[0;34m\u001b[0m\u001b[0;34m\u001b[0m\u001b[0m\n\u001b[0m\u001b[1;32m    303\u001b[0m \u001b[0;34m\u001b[0m\u001b[0m\n\u001b[1;32m    304\u001b[0m     \u001b[0;32mdef\u001b[0m \u001b[0m__iter__\u001b[0m\u001b[0;34m(\u001b[0m\u001b[0mself\u001b[0m\u001b[0;34m)\u001b[0m\u001b[0;34m:\u001b[0m\u001b[0;34m\u001b[0m\u001b[0;34m\u001b[0m\u001b[0m\n",
            "\u001b[0;32m/usr/local/lib/python3.9/dist-packages/networkx/classes/coreviews.py\u001b[0m in \u001b[0;36m<genexpr>\u001b[0;34m(.0)\u001b[0m\n\u001b[1;32m    300\u001b[0m \u001b[0;34m\u001b[0m\u001b[0m\n\u001b[1;32m    301\u001b[0m     \u001b[0;32mdef\u001b[0m \u001b[0m__len__\u001b[0m\u001b[0;34m(\u001b[0m\u001b[0mself\u001b[0m\u001b[0;34m)\u001b[0m\u001b[0;34m:\u001b[0m\u001b[0;34m\u001b[0m\u001b[0;34m\u001b[0m\u001b[0m\n\u001b[0;32m--> 302\u001b[0;31m         \u001b[0;32mreturn\u001b[0m \u001b[0msum\u001b[0m\u001b[0;34m(\u001b[0m\u001b[0;36m1\u001b[0m \u001b[0;32mfor\u001b[0m \u001b[0mn\u001b[0m \u001b[0;32min\u001b[0m \u001b[0mself\u001b[0m\u001b[0;34m)\u001b[0m\u001b[0;34m\u001b[0m\u001b[0;34m\u001b[0m\u001b[0m\n\u001b[0m\u001b[1;32m    303\u001b[0m \u001b[0;34m\u001b[0m\u001b[0m\n\u001b[1;32m    304\u001b[0m     \u001b[0;32mdef\u001b[0m \u001b[0m__iter__\u001b[0m\u001b[0;34m(\u001b[0m\u001b[0mself\u001b[0m\u001b[0;34m)\u001b[0m\u001b[0;34m:\u001b[0m\u001b[0;34m\u001b[0m\u001b[0;34m\u001b[0m\u001b[0m\n",
            "\u001b[0;31mKeyboardInterrupt\u001b[0m: "
          ]
        }
      ]
    },
    {
      "cell_type": "markdown",
      "source": [
        "# Third Section (Erdos renyi random graph)"
      ],
      "metadata": {
        "id": "rA-l98SfkrtE"
      }
    },
    {
      "cell_type": "markdown",
      "source": [
        "Θα δημιουργήσω ένα δίκτυο με την βοήθεια του αλγορίθμου erdos- renyi με 5200 κόμβους. Μένει να διαλέξω τιμή για την παράμετρο p, δηλαδή την πιθανότητα που θα έχουν δύο κόμβοι να συνδεθούν μεταξύ τους. Μετά από λίγο ψάγιμο, βρήκα ότι ο αριθμός των expected ακμών, E, υπολογίζεται σύμφωνα από την σχέση $E = p \\cdot \\frac{n\\cdot(n-1)}{2}$, όπου p είναι η πιθανότητα δύο κόμβοι να συνδέονται μεταξύ τους, και n ο αριθμός των κόμβων του δικτύου. Οπότε, εφόσον θέλω δίκτυο με 5200 κόμβους, και ο αριθμός των ακμών θέλω να είναι παρόμοιος με το δίκτυο G2 (δηλαδή Ε = 14496), υπολογίζω το p από την προηγούμενη σχέση και βρίσω ότι $p=\\frac{2\\cdot E}{n\\cdot (n-1)} = \\frac{2\\cdot 14496}{5200\\cdot 5199} = 0.00107$"
      ],
      "metadata": {
        "id": "0G4TA8klqUHv"
      }
    },
    {
      "cell_type": "code",
      "source": [
        "# Create an Erdos-Rényi graph\n",
        "G3 = nx.erdos_renyi_graph(5200, 0.00107)"
      ],
      "metadata": {
        "id": "Kql44tM_krBd"
      },
      "execution_count": null,
      "outputs": []
    },
    {
      "cell_type": "markdown",
      "source": [
        "Αφού έχει δημιουργηθέι το δίκτυο, κάνουμε τις ίδιες μετρήσεις όπως το G2 και παίρνουμε: "
      ],
      "metadata": {
        "id": "fKlndP6stPE6"
      }
    },
    {
      "cell_type": "code",
      "source": [
        "print('Basic Analysis for Random Erdos - Renyi Network (G3)')\n",
        "print()\n",
        "#nodes - edges \n",
        "print('Number of Nodes for G3 is: ' + str(G3.number_of_nodes())) \n",
        "print('Number of Edges for G3 is: ' + str(G3.number_of_edges())) \n",
        "\n",
        "#Nodes with Self Loops \n",
        "print('Number of Nodes with self loops is: ' + str(len(list(nx.nodes_with_selfloops(G3)))))\n",
        "\n",
        "# Number of Reciprocated Edges (Το documentation του networkx μας αναφέρει ότι η συνάρτηση reciprocity υπολογίζει τον λόγο των ακμών που δείχνουν και στις δύο \n",
        "# κατευθήνσεις, προς το πλήθος όλων των ακμών του δικτύου. Οπότε για να υπολογίζουμε το πλήθος των reciprocated edges αρκεί να πολλαπλασιάσουμε το αποτέλεσμα\n",
        "# που παράγει η συνάρτηση reciprocity με το πλήθος όλων των ακμών) \n",
        "print('Number of reciprocated edges is: ' + str(reciprocity(G3)*G3.number_of_edges()))\n",
        "\n",
        "#Number of Sink and Source nodes (Δεν βγάζει νόημα αφού έχουμε μη-κατευθυνόμενο γράφο)\n",
        "\n",
        "# #Max, Min and Average Degree \n",
        "degrees_G3 = dict(G3.degree())\n",
        "print('Max Degree of a Node: ' + str(max(degrees_G3.values()))) \n",
        "print('Min Degree of a Node: ' + str(min(degrees_G3.values()))) \n",
        "avg_degree_G3 = sum(val for key, val in degrees_G3.items()) / G3.number_of_nodes()\n",
        "print('Average Degree of Nodes: ' + str(avg_degree_G3))\n",
        "\n",
        "#Max, Min and Average In-going Degree (Δεν βγάζει νόημα αφού έχουμε μη-κατευθυνόμενο γράφο)\n",
        "\n",
        "\n",
        "#Max, Min and Average Out-going Degree (Δεν βγάζει νόημα αφού έχουμε μη-κατευθυνόμενο γράφο)\n",
        "\n",
        "\n",
        "#Diameter of the Network (δεν είναι συνεκτικά συνδεδεμένο, οπότε θα βρω την μεγαλύτερη διάμετρο από τις συνιστώσες του)\n",
        "components = list(nx.connected_components(G3))\n",
        "max_diameter = 0\n",
        "for component in components:\n",
        "    diameter = nx.diameter(G3.subgraph(component))\n",
        "    if diameter > max_diameter:\n",
        "        max_diameter = diameter\n",
        "print(\"The diameter of the graph is:\", max_diameter)\n",
        "\n",
        "#Average clustering coefficient and global clustering coefficient \n",
        "clustering_coefficients = nx.clustering(G3)\n",
        "avg_clustering_coefficient = sum(val for key,val in clustering_coefficients.items())/G3.number_of_nodes()\n",
        "print('Average Clustering Coefficient is: ' + str(avg_clustering_coefficient)) \n",
        "\n",
        "global_clustering_coefficient = nx.transitivity(G3)\n",
        "print('Global Clustering Coefficient is ' + str(global_clustering_coefficient)) \n",
        "\n",
        "#Largest Strongly Connected And Weakly Connected Component \n",
        "#(Δεν έχει σημασία αφού ο γράφος είναι μη-κατευθυνόμενος, οπότε αρκεί να βρούμε μόνο την μεγαλύτερη συνιστώσα)\n",
        "cc_G3 = list(nx.connected_components(G3))\n",
        "largest_cc_G3 = max(cc_G3, key=len)\n",
        "print('Number of Nodes in the largest connected Component: ' + str(len(largest_cc_G3))) \n",
        "num_edges_largest_cc_G3 = G3.subgraph(largest_cc_G3).number_of_edges()\n",
        "print('Number of Nodes in the largest Strongly connected Component: ' + str(num_edges_largest_cc_G3))"
      ],
      "metadata": {
        "colab": {
          "base_uri": "https://localhost:8080/",
          "height": 537
        },
        "id": "ni6X5WFRk4DN",
        "outputId": "f3ad76df-65fc-45f5-aa95-7f2fce8a2e0a"
      },
      "execution_count": null,
      "outputs": [
        {
          "output_type": "stream",
          "name": "stdout",
          "text": [
            "Basic Analysis for Random Erdos - Renyi Network (G3)\n",
            "\n",
            "Number of Nodes for G3 is: 5200\n",
            "Number of Edges for G3 is: 14453\n",
            "Number of Nodes with self loops is: 0\n",
            "Number of reciprocated edges is: 0.0\n",
            "Max Degree of a Node: 15\n",
            "Min Degree of a Node: 0\n",
            "Average Degree of Nodes: 5.5588461538461535\n"
          ]
        },
        {
          "output_type": "error",
          "ename": "KeyboardInterrupt",
          "evalue": "ignored",
          "traceback": [
            "\u001b[0;31m---------------------------------------------------------------------------\u001b[0m",
            "\u001b[0;31mKeyboardInterrupt\u001b[0m                         Traceback (most recent call last)",
            "\u001b[0;32m<ipython-input-5-b3209f71e9c9>\u001b[0m in \u001b[0;36m<module>\u001b[0;34m\u001b[0m\n\u001b[1;32m     32\u001b[0m \u001b[0mmax_diameter\u001b[0m \u001b[0;34m=\u001b[0m \u001b[0;36m0\u001b[0m\u001b[0;34m\u001b[0m\u001b[0;34m\u001b[0m\u001b[0m\n\u001b[1;32m     33\u001b[0m \u001b[0;32mfor\u001b[0m \u001b[0mcomponent\u001b[0m \u001b[0;32min\u001b[0m \u001b[0mcomponents\u001b[0m\u001b[0;34m:\u001b[0m\u001b[0;34m\u001b[0m\u001b[0;34m\u001b[0m\u001b[0m\n\u001b[0;32m---> 34\u001b[0;31m     \u001b[0mdiameter\u001b[0m \u001b[0;34m=\u001b[0m \u001b[0mnx\u001b[0m\u001b[0;34m.\u001b[0m\u001b[0mdiameter\u001b[0m\u001b[0;34m(\u001b[0m\u001b[0mG3\u001b[0m\u001b[0;34m.\u001b[0m\u001b[0msubgraph\u001b[0m\u001b[0;34m(\u001b[0m\u001b[0mcomponent\u001b[0m\u001b[0;34m)\u001b[0m\u001b[0;34m)\u001b[0m\u001b[0;34m\u001b[0m\u001b[0;34m\u001b[0m\u001b[0m\n\u001b[0m\u001b[1;32m     35\u001b[0m     \u001b[0;32mif\u001b[0m \u001b[0mdiameter\u001b[0m \u001b[0;34m>\u001b[0m \u001b[0mmax_diameter\u001b[0m\u001b[0;34m:\u001b[0m\u001b[0;34m\u001b[0m\u001b[0;34m\u001b[0m\u001b[0m\n\u001b[1;32m     36\u001b[0m         \u001b[0mmax_diameter\u001b[0m \u001b[0;34m=\u001b[0m \u001b[0mdiameter\u001b[0m\u001b[0;34m\u001b[0m\u001b[0;34m\u001b[0m\u001b[0m\n",
            "\u001b[0;32m/usr/local/lib/python3.9/dist-packages/networkx/algorithms/distance_measures.py\u001b[0m in \u001b[0;36mdiameter\u001b[0;34m(G, e, usebounds, weight)\u001b[0m\n\u001b[1;32m    375\u001b[0m         \u001b[0;32mreturn\u001b[0m \u001b[0m_extrema_bounding\u001b[0m\u001b[0;34m(\u001b[0m\u001b[0mG\u001b[0m\u001b[0;34m,\u001b[0m \u001b[0mcompute\u001b[0m\u001b[0;34m=\u001b[0m\u001b[0;34m\"diameter\"\u001b[0m\u001b[0;34m,\u001b[0m \u001b[0mweight\u001b[0m\u001b[0;34m=\u001b[0m\u001b[0mweight\u001b[0m\u001b[0;34m)\u001b[0m\u001b[0;34m\u001b[0m\u001b[0;34m\u001b[0m\u001b[0m\n\u001b[1;32m    376\u001b[0m     \u001b[0;32mif\u001b[0m \u001b[0me\u001b[0m \u001b[0;32mis\u001b[0m \u001b[0;32mNone\u001b[0m\u001b[0;34m:\u001b[0m\u001b[0;34m\u001b[0m\u001b[0;34m\u001b[0m\u001b[0m\n\u001b[0;32m--> 377\u001b[0;31m         \u001b[0me\u001b[0m \u001b[0;34m=\u001b[0m \u001b[0meccentricity\u001b[0m\u001b[0;34m(\u001b[0m\u001b[0mG\u001b[0m\u001b[0;34m,\u001b[0m \u001b[0mweight\u001b[0m\u001b[0;34m=\u001b[0m\u001b[0mweight\u001b[0m\u001b[0;34m)\u001b[0m\u001b[0;34m\u001b[0m\u001b[0;34m\u001b[0m\u001b[0m\n\u001b[0m\u001b[1;32m    378\u001b[0m     \u001b[0;32mreturn\u001b[0m \u001b[0mmax\u001b[0m\u001b[0;34m(\u001b[0m\u001b[0me\u001b[0m\u001b[0;34m.\u001b[0m\u001b[0mvalues\u001b[0m\u001b[0;34m(\u001b[0m\u001b[0;34m)\u001b[0m\u001b[0;34m)\u001b[0m\u001b[0;34m\u001b[0m\u001b[0;34m\u001b[0m\u001b[0m\n\u001b[1;32m    379\u001b[0m \u001b[0;34m\u001b[0m\u001b[0m\n",
            "\u001b[0;32m/usr/local/lib/python3.9/dist-packages/networkx/algorithms/distance_measures.py\u001b[0m in \u001b[0;36meccentricity\u001b[0;34m(G, v, sp, weight)\u001b[0m\n\u001b[1;32m    298\u001b[0m     \u001b[0;32mfor\u001b[0m \u001b[0mn\u001b[0m \u001b[0;32min\u001b[0m \u001b[0mG\u001b[0m\u001b[0;34m.\u001b[0m\u001b[0mnbunch_iter\u001b[0m\u001b[0;34m(\u001b[0m\u001b[0mv\u001b[0m\u001b[0;34m)\u001b[0m\u001b[0;34m:\u001b[0m\u001b[0;34m\u001b[0m\u001b[0;34m\u001b[0m\u001b[0m\n\u001b[1;32m    299\u001b[0m         \u001b[0;32mif\u001b[0m \u001b[0msp\u001b[0m \u001b[0;32mis\u001b[0m \u001b[0;32mNone\u001b[0m\u001b[0;34m:\u001b[0m\u001b[0;34m\u001b[0m\u001b[0;34m\u001b[0m\u001b[0m\n\u001b[0;32m--> 300\u001b[0;31m             \u001b[0mlength\u001b[0m \u001b[0;34m=\u001b[0m \u001b[0mnx\u001b[0m\u001b[0;34m.\u001b[0m\u001b[0mshortest_path_length\u001b[0m\u001b[0;34m(\u001b[0m\u001b[0mG\u001b[0m\u001b[0;34m,\u001b[0m \u001b[0msource\u001b[0m\u001b[0;34m=\u001b[0m\u001b[0mn\u001b[0m\u001b[0;34m,\u001b[0m \u001b[0mweight\u001b[0m\u001b[0;34m=\u001b[0m\u001b[0mweight\u001b[0m\u001b[0;34m)\u001b[0m\u001b[0;34m\u001b[0m\u001b[0;34m\u001b[0m\u001b[0m\n\u001b[0m\u001b[1;32m    301\u001b[0m \u001b[0;34m\u001b[0m\u001b[0m\n\u001b[1;32m    302\u001b[0m             \u001b[0mL\u001b[0m \u001b[0;34m=\u001b[0m \u001b[0mlen\u001b[0m\u001b[0;34m(\u001b[0m\u001b[0mlength\u001b[0m\u001b[0;34m)\u001b[0m\u001b[0;34m\u001b[0m\u001b[0;34m\u001b[0m\u001b[0m\n",
            "\u001b[0;32m/usr/local/lib/python3.9/dist-packages/networkx/classes/backends.py\u001b[0m in \u001b[0;36mwrapper\u001b[0;34m(*args, **kwds)\u001b[0m\n\u001b[1;32m    143\u001b[0m                         \u001b[0;34mf\"'{name}' not implemented by {plugin_name}\"\u001b[0m\u001b[0;34m\u001b[0m\u001b[0;34m\u001b[0m\u001b[0m\n\u001b[1;32m    144\u001b[0m                     )\n\u001b[0;32m--> 145\u001b[0;31m         \u001b[0;32mreturn\u001b[0m \u001b[0mfunc\u001b[0m\u001b[0;34m(\u001b[0m\u001b[0;34m*\u001b[0m\u001b[0margs\u001b[0m\u001b[0;34m,\u001b[0m \u001b[0;34m**\u001b[0m\u001b[0mkwds\u001b[0m\u001b[0;34m)\u001b[0m\u001b[0;34m\u001b[0m\u001b[0;34m\u001b[0m\u001b[0m\n\u001b[0m\u001b[1;32m    146\u001b[0m \u001b[0;34m\u001b[0m\u001b[0m\n\u001b[1;32m    147\u001b[0m     \u001b[0m_register_algo\u001b[0m\u001b[0;34m(\u001b[0m\u001b[0mname\u001b[0m\u001b[0;34m,\u001b[0m \u001b[0mwrapper\u001b[0m\u001b[0;34m)\u001b[0m\u001b[0;34m\u001b[0m\u001b[0;34m\u001b[0m\u001b[0m\n",
            "\u001b[0;32m/usr/local/lib/python3.9/dist-packages/networkx/algorithms/shortest_paths/generic.py\u001b[0m in \u001b[0;36mshortest_path_length\u001b[0;34m(G, source, target, weight, method)\u001b[0m\n\u001b[1;32m    298\u001b[0m             \u001b[0;31m# Find paths to all nodes accessible from the source.\u001b[0m\u001b[0;34m\u001b[0m\u001b[0;34m\u001b[0m\u001b[0m\n\u001b[1;32m    299\u001b[0m             \u001b[0;32mif\u001b[0m \u001b[0mmethod\u001b[0m \u001b[0;34m==\u001b[0m \u001b[0;34m\"unweighted\"\u001b[0m\u001b[0;34m:\u001b[0m\u001b[0;34m\u001b[0m\u001b[0;34m\u001b[0m\u001b[0m\n\u001b[0;32m--> 300\u001b[0;31m                 \u001b[0mpaths\u001b[0m \u001b[0;34m=\u001b[0m \u001b[0mnx\u001b[0m\u001b[0;34m.\u001b[0m\u001b[0msingle_source_shortest_path_length\u001b[0m\u001b[0;34m(\u001b[0m\u001b[0mG\u001b[0m\u001b[0;34m,\u001b[0m \u001b[0msource\u001b[0m\u001b[0;34m)\u001b[0m\u001b[0;34m\u001b[0m\u001b[0;34m\u001b[0m\u001b[0m\n\u001b[0m\u001b[1;32m    301\u001b[0m             \u001b[0;32melif\u001b[0m \u001b[0mmethod\u001b[0m \u001b[0;34m==\u001b[0m \u001b[0;34m\"dijkstra\"\u001b[0m\u001b[0;34m:\u001b[0m\u001b[0;34m\u001b[0m\u001b[0;34m\u001b[0m\u001b[0m\n\u001b[1;32m    302\u001b[0m                 \u001b[0mpath_length\u001b[0m \u001b[0;34m=\u001b[0m \u001b[0mnx\u001b[0m\u001b[0;34m.\u001b[0m\u001b[0msingle_source_dijkstra_path_length\u001b[0m\u001b[0;34m\u001b[0m\u001b[0;34m\u001b[0m\u001b[0m\n",
            "\u001b[0;32m/usr/local/lib/python3.9/dist-packages/networkx/algorithms/shortest_paths/unweighted.py\u001b[0m in \u001b[0;36msingle_source_shortest_path_length\u001b[0;34m(G, source, cutoff)\u001b[0m\n\u001b[1;32m     57\u001b[0m         \u001b[0mcutoff\u001b[0m \u001b[0;34m=\u001b[0m \u001b[0mfloat\u001b[0m\u001b[0;34m(\u001b[0m\u001b[0;34m\"inf\"\u001b[0m\u001b[0;34m)\u001b[0m\u001b[0;34m\u001b[0m\u001b[0;34m\u001b[0m\u001b[0m\n\u001b[1;32m     58\u001b[0m     \u001b[0mnextlevel\u001b[0m \u001b[0;34m=\u001b[0m \u001b[0;34m{\u001b[0m\u001b[0msource\u001b[0m\u001b[0;34m:\u001b[0m \u001b[0;36m1\u001b[0m\u001b[0;34m}\u001b[0m\u001b[0;34m\u001b[0m\u001b[0;34m\u001b[0m\u001b[0m\n\u001b[0;32m---> 59\u001b[0;31m     \u001b[0;32mreturn\u001b[0m \u001b[0mdict\u001b[0m\u001b[0;34m(\u001b[0m\u001b[0m_single_shortest_path_length\u001b[0m\u001b[0;34m(\u001b[0m\u001b[0mG\u001b[0m\u001b[0;34m.\u001b[0m\u001b[0madj\u001b[0m\u001b[0;34m,\u001b[0m \u001b[0mnextlevel\u001b[0m\u001b[0;34m,\u001b[0m \u001b[0mcutoff\u001b[0m\u001b[0;34m)\u001b[0m\u001b[0;34m)\u001b[0m\u001b[0;34m\u001b[0m\u001b[0;34m\u001b[0m\u001b[0m\n\u001b[0m\u001b[1;32m     60\u001b[0m \u001b[0;34m\u001b[0m\u001b[0m\n\u001b[1;32m     61\u001b[0m \u001b[0;34m\u001b[0m\u001b[0m\n",
            "\u001b[0;32m/usr/local/lib/python3.9/dist-packages/networkx/algorithms/shortest_paths/unweighted.py\u001b[0m in \u001b[0;36m_single_shortest_path_length\u001b[0;34m(adj, firstlevel, cutoff)\u001b[0m\n\u001b[1;32m     89\u001b[0m             \u001b[0;32mreturn\u001b[0m\u001b[0;34m\u001b[0m\u001b[0;34m\u001b[0m\u001b[0m\n\u001b[1;32m     90\u001b[0m         \u001b[0;32mfor\u001b[0m \u001b[0mv\u001b[0m \u001b[0;32min\u001b[0m \u001b[0mfound\u001b[0m\u001b[0;34m:\u001b[0m\u001b[0;34m\u001b[0m\u001b[0;34m\u001b[0m\u001b[0m\n\u001b[0;32m---> 91\u001b[0;31m             \u001b[0mnextlevel\u001b[0m\u001b[0;34m.\u001b[0m\u001b[0mupdate\u001b[0m\u001b[0;34m(\u001b[0m\u001b[0madj\u001b[0m\u001b[0;34m[\u001b[0m\u001b[0mv\u001b[0m\u001b[0;34m]\u001b[0m\u001b[0;34m)\u001b[0m\u001b[0;34m\u001b[0m\u001b[0;34m\u001b[0m\u001b[0m\n\u001b[0m\u001b[1;32m     92\u001b[0m         \u001b[0mlevel\u001b[0m \u001b[0;34m+=\u001b[0m \u001b[0;36m1\u001b[0m\u001b[0;34m\u001b[0m\u001b[0;34m\u001b[0m\u001b[0m\n\u001b[1;32m     93\u001b[0m     \u001b[0;32mdel\u001b[0m \u001b[0mseen\u001b[0m\u001b[0;34m\u001b[0m\u001b[0;34m\u001b[0m\u001b[0m\n",
            "\u001b[0;32m/usr/local/lib/python3.9/dist-packages/networkx/classes/coreviews.py\u001b[0m in \u001b[0;36m__getitem__\u001b[0;34m(self, name)\u001b[0m\n\u001b[1;32m     79\u001b[0m \u001b[0;34m\u001b[0m\u001b[0m\n\u001b[1;32m     80\u001b[0m     \u001b[0;32mdef\u001b[0m \u001b[0m__getitem__\u001b[0m\u001b[0;34m(\u001b[0m\u001b[0mself\u001b[0m\u001b[0;34m,\u001b[0m \u001b[0mname\u001b[0m\u001b[0;34m)\u001b[0m\u001b[0;34m:\u001b[0m\u001b[0;34m\u001b[0m\u001b[0;34m\u001b[0m\u001b[0m\n\u001b[0;32m---> 81\u001b[0;31m         \u001b[0;32mreturn\u001b[0m \u001b[0mAtlasView\u001b[0m\u001b[0;34m(\u001b[0m\u001b[0mself\u001b[0m\u001b[0;34m.\u001b[0m\u001b[0m_atlas\u001b[0m\u001b[0;34m[\u001b[0m\u001b[0mname\u001b[0m\u001b[0;34m]\u001b[0m\u001b[0;34m)\u001b[0m\u001b[0;34m\u001b[0m\u001b[0;34m\u001b[0m\u001b[0m\n\u001b[0m\u001b[1;32m     82\u001b[0m \u001b[0;34m\u001b[0m\u001b[0m\n\u001b[1;32m     83\u001b[0m     \u001b[0;32mdef\u001b[0m \u001b[0mcopy\u001b[0m\u001b[0;34m(\u001b[0m\u001b[0mself\u001b[0m\u001b[0;34m)\u001b[0m\u001b[0;34m:\u001b[0m\u001b[0;34m\u001b[0m\u001b[0;34m\u001b[0m\u001b[0m\n",
            "\u001b[0;32m/usr/local/lib/python3.9/dist-packages/networkx/classes/coreviews.py\u001b[0m in \u001b[0;36m__getitem__\u001b[0;34m(self, node)\u001b[0m\n\u001b[1;32m    317\u001b[0m                 \u001b[0;32mreturn\u001b[0m \u001b[0mself\u001b[0m\u001b[0;34m.\u001b[0m\u001b[0mNODE_OK\u001b[0m\u001b[0;34m(\u001b[0m\u001b[0mnbr\u001b[0m\u001b[0;34m)\u001b[0m \u001b[0;32mand\u001b[0m \u001b[0mself\u001b[0m\u001b[0;34m.\u001b[0m\u001b[0mEDGE_OK\u001b[0m\u001b[0;34m(\u001b[0m\u001b[0mnode\u001b[0m\u001b[0;34m,\u001b[0m \u001b[0mnbr\u001b[0m\u001b[0;34m)\u001b[0m\u001b[0;34m\u001b[0m\u001b[0;34m\u001b[0m\u001b[0m\n\u001b[1;32m    318\u001b[0m \u001b[0;34m\u001b[0m\u001b[0m\n\u001b[0;32m--> 319\u001b[0;31m             \u001b[0;32mreturn\u001b[0m \u001b[0mFilterAtlas\u001b[0m\u001b[0;34m(\u001b[0m\u001b[0mself\u001b[0m\u001b[0;34m.\u001b[0m\u001b[0m_atlas\u001b[0m\u001b[0;34m[\u001b[0m\u001b[0mnode\u001b[0m\u001b[0;34m]\u001b[0m\u001b[0;34m,\u001b[0m \u001b[0mnew_node_ok\u001b[0m\u001b[0;34m)\u001b[0m\u001b[0;34m\u001b[0m\u001b[0;34m\u001b[0m\u001b[0m\n\u001b[0m\u001b[1;32m    320\u001b[0m         \u001b[0;32mraise\u001b[0m \u001b[0mKeyError\u001b[0m\u001b[0;34m(\u001b[0m\u001b[0;34mf\"Key {node} not found\"\u001b[0m\u001b[0;34m)\u001b[0m\u001b[0;34m\u001b[0m\u001b[0;34m\u001b[0m\u001b[0m\n\u001b[1;32m    321\u001b[0m \u001b[0;34m\u001b[0m\u001b[0m\n",
            "\u001b[0;32m/usr/local/lib/python3.9/dist-packages/networkx/classes/coreviews.py\u001b[0m in \u001b[0;36m__init__\u001b[0;34m(self, d, NODE_OK)\u001b[0m\n\u001b[1;32m    265\u001b[0m \u001b[0;34m\u001b[0m\u001b[0m\n\u001b[1;32m    266\u001b[0m \u001b[0;32mclass\u001b[0m \u001b[0mFilterAtlas\u001b[0m\u001b[0;34m(\u001b[0m\u001b[0mMapping\u001b[0m\u001b[0;34m)\u001b[0m\u001b[0;34m:\u001b[0m  \u001b[0;31m# nodedict, nbrdict, keydict\u001b[0m\u001b[0;34m\u001b[0m\u001b[0;34m\u001b[0m\u001b[0m\n\u001b[0;32m--> 267\u001b[0;31m     \u001b[0;32mdef\u001b[0m \u001b[0m__init__\u001b[0m\u001b[0;34m(\u001b[0m\u001b[0mself\u001b[0m\u001b[0;34m,\u001b[0m \u001b[0md\u001b[0m\u001b[0;34m,\u001b[0m \u001b[0mNODE_OK\u001b[0m\u001b[0;34m)\u001b[0m\u001b[0;34m:\u001b[0m\u001b[0;34m\u001b[0m\u001b[0;34m\u001b[0m\u001b[0m\n\u001b[0m\u001b[1;32m    268\u001b[0m         \u001b[0mself\u001b[0m\u001b[0;34m.\u001b[0m\u001b[0m_atlas\u001b[0m \u001b[0;34m=\u001b[0m \u001b[0md\u001b[0m\u001b[0;34m\u001b[0m\u001b[0;34m\u001b[0m\u001b[0m\n\u001b[1;32m    269\u001b[0m         \u001b[0mself\u001b[0m\u001b[0;34m.\u001b[0m\u001b[0mNODE_OK\u001b[0m \u001b[0;34m=\u001b[0m \u001b[0mNODE_OK\u001b[0m\u001b[0;34m\u001b[0m\u001b[0;34m\u001b[0m\u001b[0m\n",
            "\u001b[0;31mKeyboardInterrupt\u001b[0m: "
          ]
        }
      ]
    },
    {
      "cell_type": "markdown",
      "source": [
        "Παρατηρούμε ότι τα χαρακτηριστικά του γράφου που δημιουργήθηκε είναι παρόμοια με τα χαρακτηριστικά του δεύτερου δικτύου, με εξαίρεση τον μέγιστο βαθμό των κόμβων, ο οποίος στο δευ΄τερο δίκτυο ήταν 81 ενώ τώρα είναι μόνο 15, και το clustering coefficient (average και global), το οποίο έπεσε κατά πολύ. Αν μπορούσα να το ερμηνεύσω θα έλεγα ότι είναι λογικό να συμβαίνει κάτι τέτοιο, αφού αν ένας κόμβος έχει πιθανότητα 0.00107 να συνδεθεί με κάποιον γείτονά του, η πιθανότητα να συνδεθέι ένας ακόμα γείτονας με τον ίδιο κόμβο πέφτει στο $0.00107\\cdot 0.00107$, κάνοντας έτσι την τιμή του clustering coefficient για κάθε κόμβο να γίνει πολύ μικρή."
      ],
      "metadata": {
        "id": "VMHkGXAfu1hU"
      }
    },
    {
      "cell_type": "markdown",
      "source": [
        "# Fourth Section (Watts και Strogatz random Graph)"
      ],
      "metadata": {
        "id": "yGhwVIGuux0X"
      }
    },
    {
      "cell_type": "markdown",
      "source": [
        "Το να δημιουργηθεί δίκτυο χρησιμοποιώντας τον αλγόριθμο Watts and Strogatz είναι πιο εύκολο όσον αφορά τις επιλογές των παραμέτρων ώστε να μοιάζει το δεύτερο δίκτυο. Πιο συγκεκριμένα έχουμε να επιλέξουμε 3 τιμές, μία για τους κόμβους που ξέρουμε ήδη ότι είναι 5200, μία για το k, το οποίο είναι ο αριθμός των γειτόνων που συνδέεται ένας κομβός μαζί τους, και μία για το p, το οποίο είναι η πιθανότητα μία ακμή από αυτές που συνδέεουν τους k πλησιέστερους γείτονες με έναν κόμβο να διαγραφεί και να δημιουργηθεί μία νέα. Οπότε, εφόσον ο μέσος βαθμός των κόμβων στο δεύτερο δίκτυο ήταν 5.5307, θέτω το k = 6, δηλαδή κάθε κόμβος θα συνδέεται με τους 6 κοντινότερους γείτονές του. Και επειδή θέλω να διατηρηθεί το clustering coefficient σχετικά ψηλά, θέλω οι γείτονες ενός κόμβου να συνδέονται και μεταξύ τους, οπότε διαλέγω μία μικ΄ρη τιμή για το p, p = 0.05.  "
      ],
      "metadata": {
        "id": "XWJbGn7BysmZ"
      }
    },
    {
      "cell_type": "code",
      "source": [
        "G4 = nx.watts_strogatz_graph(5200, 6, 0.05)"
      ],
      "metadata": {
        "id": "1aZBhZFCwaZp"
      },
      "execution_count": null,
      "outputs": []
    },
    {
      "cell_type": "code",
      "source": [
        "print('Basic Analysis for Random Watts and Strogatz Graph (G4)')\n",
        "print()\n",
        "#nodes - edges \n",
        "print('Number of Nodes for G4 is: ' + str(G4.number_of_nodes())) \n",
        "print('Number of Edges for G4 is: ' + str(G4.number_of_edges())) \n",
        "\n",
        "#Nodes with Self Loops \n",
        "print('Number of Nodes with self loops is: ' + str(len(list(nx.nodes_with_selfloops(G4)))))\n",
        "\n",
        "# Number of Reciprocated Edges (Το documentation του networkx μας αναφέρει ότι η συνάρτηση reciprocity υπολογίζει τον λόγο των ακμών που δείχνουν και στις δύο \n",
        "# κατευθήνσεις, προς το πλήθος όλων των ακμών του δικτύου. Οπότε για να υπολογίζουμε το πλήθος των reciprocated edges αρκεί να πολλαπλασιάσουμε το αποτέλεσμα\n",
        "# που παράγει η συνάρτηση reciprocity με το πλήθος όλων των ακμών) \n",
        "print('Number of reciprocated edges is: ' + str(reciprocity(G4)*G4.number_of_edges()))\n",
        "\n",
        "#Number of Sink and Source nodes (Δεν βγάζει νόημα αφού έχουμε μη-κατευθυνόμενο γράφο)\n",
        "\n",
        "# #Max, Min and Average Degree \n",
        "degrees_G4 = dict(G4.degree())\n",
        "print('Max Degree of a Node: ' + str(max(degrees_G4.values()))) \n",
        "print('Min Degree of a Node: ' + str(min(degrees_G4.values()))) \n",
        "avg_degree_G4 = sum(val for key, val in degrees_G4.items()) / G4.number_of_nodes()\n",
        "print('Average Degree of Nodes: ' + str(avg_degree_G4))\n",
        "\n",
        "#Max, Min and Average In-going Degree (Δεν βγάζει νόημα αφού έχουμε μη-κατευθυνόμενο γράφο)\n",
        "\n",
        "\n",
        "#Max, Min and Average Out-going Degree (Δεν βγάζει νόημα αφού έχουμε μη-κατευθυνόμενο γράφο)\n",
        "\n",
        "\n",
        "#Diameter of the Network (δεν είναι συνεκτικά συνδεδεμένο, οπότε θα βρω την μεγαλύτερη διάμετρο από τις συνιστώσες του)\n",
        "components = list(nx.connected_components(G4))\n",
        "max_diameter = 0\n",
        "for component in components:\n",
        "    diameter = nx.diameter(G4.subgraph(component))\n",
        "    if diameter > max_diameter:\n",
        "        max_diameter = diameter\n",
        "print(\"The diameter of the graph is:\", max_diameter)\n",
        "\n",
        "#Average clustering coefficient and global clustering coefficient \n",
        "clustering_coefficients = nx.clustering(G4)\n",
        "avg_clustering_coefficient = sum(val for key,val in clustering_coefficients.items())/G4.number_of_nodes()\n",
        "print('Average Clustering Coefficient is: ' + str(avg_clustering_coefficient)) \n",
        "\n",
        "global_clustering_coefficient = nx.transitivity(G4)\n",
        "print('Global Clustering Coefficient is ' + str(global_clustering_coefficient)) \n",
        "\n",
        "#Largest Strongly Connected And Weakly Connected Component \n",
        "#(Δεν έχει σημασία αφού ο γράφος είναι μη-κατευθυνόμενος, οπότε αρκεί να βρούμε μόνο την μεγαλύτερη συνιστώσα)\n",
        "cc_G4 = list(nx.connected_components(G4))\n",
        "largest_cc_G4 = max(cc_G4, key=len)\n",
        "print('Number of Nodes in the largest connected Component: ' + str(len(largest_cc_G4))) \n",
        "num_edges_largest_cc_G4 = G4.subgraph(largest_cc_G4).number_of_edges()\n",
        "print('Number of Nodes in the largest Strongly connected Component: ' + str(num_edges_largest_cc_G4))"
      ],
      "metadata": {
        "colab": {
          "base_uri": "https://localhost:8080/",
          "height": 537
        },
        "id": "Xkam2idyxFWz",
        "outputId": "4b67e428-a53a-4a06-9df7-f78c8e565bd1"
      },
      "execution_count": null,
      "outputs": [
        {
          "output_type": "stream",
          "name": "stdout",
          "text": [
            "Basic Analysis for Random Watts and Strogatz Graph (G4)\n",
            "\n",
            "Number of Nodes for G4 is: 5200\n",
            "Number of Edges for G4 is: 15600\n",
            "Number of Nodes with self loops is: 0\n",
            "Number of reciprocated edges is: 0.0\n",
            "Max Degree of a Node: 8\n",
            "Min Degree of a Node: 3\n",
            "Average Degree of Nodes: 6.0\n"
          ]
        },
        {
          "output_type": "error",
          "ename": "KeyboardInterrupt",
          "evalue": "ignored",
          "traceback": [
            "\u001b[0;31m---------------------------------------------------------------------------\u001b[0m",
            "\u001b[0;31mKeyboardInterrupt\u001b[0m                         Traceback (most recent call last)",
            "\u001b[0;32m<ipython-input-7-329b898b8b50>\u001b[0m in \u001b[0;36m<module>\u001b[0;34m\u001b[0m\n\u001b[1;32m     32\u001b[0m \u001b[0mmax_diameter\u001b[0m \u001b[0;34m=\u001b[0m \u001b[0;36m0\u001b[0m\u001b[0;34m\u001b[0m\u001b[0;34m\u001b[0m\u001b[0m\n\u001b[1;32m     33\u001b[0m \u001b[0;32mfor\u001b[0m \u001b[0mcomponent\u001b[0m \u001b[0;32min\u001b[0m \u001b[0mcomponents\u001b[0m\u001b[0;34m:\u001b[0m\u001b[0;34m\u001b[0m\u001b[0;34m\u001b[0m\u001b[0m\n\u001b[0;32m---> 34\u001b[0;31m     \u001b[0mdiameter\u001b[0m \u001b[0;34m=\u001b[0m \u001b[0mnx\u001b[0m\u001b[0;34m.\u001b[0m\u001b[0mdiameter\u001b[0m\u001b[0;34m(\u001b[0m\u001b[0mG4\u001b[0m\u001b[0;34m.\u001b[0m\u001b[0msubgraph\u001b[0m\u001b[0;34m(\u001b[0m\u001b[0mcomponent\u001b[0m\u001b[0;34m)\u001b[0m\u001b[0;34m)\u001b[0m\u001b[0;34m\u001b[0m\u001b[0;34m\u001b[0m\u001b[0m\n\u001b[0m\u001b[1;32m     35\u001b[0m     \u001b[0;32mif\u001b[0m \u001b[0mdiameter\u001b[0m \u001b[0;34m>\u001b[0m \u001b[0mmax_diameter\u001b[0m\u001b[0;34m:\u001b[0m\u001b[0;34m\u001b[0m\u001b[0;34m\u001b[0m\u001b[0m\n\u001b[1;32m     36\u001b[0m         \u001b[0mmax_diameter\u001b[0m \u001b[0;34m=\u001b[0m \u001b[0mdiameter\u001b[0m\u001b[0;34m\u001b[0m\u001b[0;34m\u001b[0m\u001b[0m\n",
            "\u001b[0;32m/usr/local/lib/python3.9/dist-packages/networkx/algorithms/distance_measures.py\u001b[0m in \u001b[0;36mdiameter\u001b[0;34m(G, e, usebounds, weight)\u001b[0m\n\u001b[1;32m    375\u001b[0m         \u001b[0;32mreturn\u001b[0m \u001b[0m_extrema_bounding\u001b[0m\u001b[0;34m(\u001b[0m\u001b[0mG\u001b[0m\u001b[0;34m,\u001b[0m \u001b[0mcompute\u001b[0m\u001b[0;34m=\u001b[0m\u001b[0;34m\"diameter\"\u001b[0m\u001b[0;34m,\u001b[0m \u001b[0mweight\u001b[0m\u001b[0;34m=\u001b[0m\u001b[0mweight\u001b[0m\u001b[0;34m)\u001b[0m\u001b[0;34m\u001b[0m\u001b[0;34m\u001b[0m\u001b[0m\n\u001b[1;32m    376\u001b[0m     \u001b[0;32mif\u001b[0m \u001b[0me\u001b[0m \u001b[0;32mis\u001b[0m \u001b[0;32mNone\u001b[0m\u001b[0;34m:\u001b[0m\u001b[0;34m\u001b[0m\u001b[0;34m\u001b[0m\u001b[0m\n\u001b[0;32m--> 377\u001b[0;31m         \u001b[0me\u001b[0m \u001b[0;34m=\u001b[0m \u001b[0meccentricity\u001b[0m\u001b[0;34m(\u001b[0m\u001b[0mG\u001b[0m\u001b[0;34m,\u001b[0m \u001b[0mweight\u001b[0m\u001b[0;34m=\u001b[0m\u001b[0mweight\u001b[0m\u001b[0;34m)\u001b[0m\u001b[0;34m\u001b[0m\u001b[0;34m\u001b[0m\u001b[0m\n\u001b[0m\u001b[1;32m    378\u001b[0m     \u001b[0;32mreturn\u001b[0m \u001b[0mmax\u001b[0m\u001b[0;34m(\u001b[0m\u001b[0me\u001b[0m\u001b[0;34m.\u001b[0m\u001b[0mvalues\u001b[0m\u001b[0;34m(\u001b[0m\u001b[0;34m)\u001b[0m\u001b[0;34m)\u001b[0m\u001b[0;34m\u001b[0m\u001b[0;34m\u001b[0m\u001b[0m\n\u001b[1;32m    379\u001b[0m \u001b[0;34m\u001b[0m\u001b[0m\n",
            "\u001b[0;32m/usr/local/lib/python3.9/dist-packages/networkx/algorithms/distance_measures.py\u001b[0m in \u001b[0;36meccentricity\u001b[0;34m(G, v, sp, weight)\u001b[0m\n\u001b[1;32m    298\u001b[0m     \u001b[0;32mfor\u001b[0m \u001b[0mn\u001b[0m \u001b[0;32min\u001b[0m \u001b[0mG\u001b[0m\u001b[0;34m.\u001b[0m\u001b[0mnbunch_iter\u001b[0m\u001b[0;34m(\u001b[0m\u001b[0mv\u001b[0m\u001b[0;34m)\u001b[0m\u001b[0;34m:\u001b[0m\u001b[0;34m\u001b[0m\u001b[0;34m\u001b[0m\u001b[0m\n\u001b[1;32m    299\u001b[0m         \u001b[0;32mif\u001b[0m \u001b[0msp\u001b[0m \u001b[0;32mis\u001b[0m \u001b[0;32mNone\u001b[0m\u001b[0;34m:\u001b[0m\u001b[0;34m\u001b[0m\u001b[0;34m\u001b[0m\u001b[0m\n\u001b[0;32m--> 300\u001b[0;31m             \u001b[0mlength\u001b[0m \u001b[0;34m=\u001b[0m \u001b[0mnx\u001b[0m\u001b[0;34m.\u001b[0m\u001b[0mshortest_path_length\u001b[0m\u001b[0;34m(\u001b[0m\u001b[0mG\u001b[0m\u001b[0;34m,\u001b[0m \u001b[0msource\u001b[0m\u001b[0;34m=\u001b[0m\u001b[0mn\u001b[0m\u001b[0;34m,\u001b[0m \u001b[0mweight\u001b[0m\u001b[0;34m=\u001b[0m\u001b[0mweight\u001b[0m\u001b[0;34m)\u001b[0m\u001b[0;34m\u001b[0m\u001b[0;34m\u001b[0m\u001b[0m\n\u001b[0m\u001b[1;32m    301\u001b[0m \u001b[0;34m\u001b[0m\u001b[0m\n\u001b[1;32m    302\u001b[0m             \u001b[0mL\u001b[0m \u001b[0;34m=\u001b[0m \u001b[0mlen\u001b[0m\u001b[0;34m(\u001b[0m\u001b[0mlength\u001b[0m\u001b[0;34m)\u001b[0m\u001b[0;34m\u001b[0m\u001b[0;34m\u001b[0m\u001b[0m\n",
            "\u001b[0;32m/usr/local/lib/python3.9/dist-packages/networkx/classes/backends.py\u001b[0m in \u001b[0;36mwrapper\u001b[0;34m(*args, **kwds)\u001b[0m\n\u001b[1;32m    143\u001b[0m                         \u001b[0;34mf\"'{name}' not implemented by {plugin_name}\"\u001b[0m\u001b[0;34m\u001b[0m\u001b[0;34m\u001b[0m\u001b[0m\n\u001b[1;32m    144\u001b[0m                     )\n\u001b[0;32m--> 145\u001b[0;31m         \u001b[0;32mreturn\u001b[0m \u001b[0mfunc\u001b[0m\u001b[0;34m(\u001b[0m\u001b[0;34m*\u001b[0m\u001b[0margs\u001b[0m\u001b[0;34m,\u001b[0m \u001b[0;34m**\u001b[0m\u001b[0mkwds\u001b[0m\u001b[0;34m)\u001b[0m\u001b[0;34m\u001b[0m\u001b[0;34m\u001b[0m\u001b[0m\n\u001b[0m\u001b[1;32m    146\u001b[0m \u001b[0;34m\u001b[0m\u001b[0m\n\u001b[1;32m    147\u001b[0m     \u001b[0m_register_algo\u001b[0m\u001b[0;34m(\u001b[0m\u001b[0mname\u001b[0m\u001b[0;34m,\u001b[0m \u001b[0mwrapper\u001b[0m\u001b[0;34m)\u001b[0m\u001b[0;34m\u001b[0m\u001b[0;34m\u001b[0m\u001b[0m\n",
            "\u001b[0;32m/usr/local/lib/python3.9/dist-packages/networkx/algorithms/shortest_paths/generic.py\u001b[0m in \u001b[0;36mshortest_path_length\u001b[0;34m(G, source, target, weight, method)\u001b[0m\n\u001b[1;32m    298\u001b[0m             \u001b[0;31m# Find paths to all nodes accessible from the source.\u001b[0m\u001b[0;34m\u001b[0m\u001b[0;34m\u001b[0m\u001b[0m\n\u001b[1;32m    299\u001b[0m             \u001b[0;32mif\u001b[0m \u001b[0mmethod\u001b[0m \u001b[0;34m==\u001b[0m \u001b[0;34m\"unweighted\"\u001b[0m\u001b[0;34m:\u001b[0m\u001b[0;34m\u001b[0m\u001b[0;34m\u001b[0m\u001b[0m\n\u001b[0;32m--> 300\u001b[0;31m                 \u001b[0mpaths\u001b[0m \u001b[0;34m=\u001b[0m \u001b[0mnx\u001b[0m\u001b[0;34m.\u001b[0m\u001b[0msingle_source_shortest_path_length\u001b[0m\u001b[0;34m(\u001b[0m\u001b[0mG\u001b[0m\u001b[0;34m,\u001b[0m \u001b[0msource\u001b[0m\u001b[0;34m)\u001b[0m\u001b[0;34m\u001b[0m\u001b[0;34m\u001b[0m\u001b[0m\n\u001b[0m\u001b[1;32m    301\u001b[0m             \u001b[0;32melif\u001b[0m \u001b[0mmethod\u001b[0m \u001b[0;34m==\u001b[0m \u001b[0;34m\"dijkstra\"\u001b[0m\u001b[0;34m:\u001b[0m\u001b[0;34m\u001b[0m\u001b[0;34m\u001b[0m\u001b[0m\n\u001b[1;32m    302\u001b[0m                 \u001b[0mpath_length\u001b[0m \u001b[0;34m=\u001b[0m \u001b[0mnx\u001b[0m\u001b[0;34m.\u001b[0m\u001b[0msingle_source_dijkstra_path_length\u001b[0m\u001b[0;34m\u001b[0m\u001b[0;34m\u001b[0m\u001b[0m\n",
            "\u001b[0;32m/usr/local/lib/python3.9/dist-packages/networkx/algorithms/shortest_paths/unweighted.py\u001b[0m in \u001b[0;36msingle_source_shortest_path_length\u001b[0;34m(G, source, cutoff)\u001b[0m\n\u001b[1;32m     57\u001b[0m         \u001b[0mcutoff\u001b[0m \u001b[0;34m=\u001b[0m \u001b[0mfloat\u001b[0m\u001b[0;34m(\u001b[0m\u001b[0;34m\"inf\"\u001b[0m\u001b[0;34m)\u001b[0m\u001b[0;34m\u001b[0m\u001b[0;34m\u001b[0m\u001b[0m\n\u001b[1;32m     58\u001b[0m     \u001b[0mnextlevel\u001b[0m \u001b[0;34m=\u001b[0m \u001b[0;34m{\u001b[0m\u001b[0msource\u001b[0m\u001b[0;34m:\u001b[0m \u001b[0;36m1\u001b[0m\u001b[0;34m}\u001b[0m\u001b[0;34m\u001b[0m\u001b[0;34m\u001b[0m\u001b[0m\n\u001b[0;32m---> 59\u001b[0;31m     \u001b[0;32mreturn\u001b[0m \u001b[0mdict\u001b[0m\u001b[0;34m(\u001b[0m\u001b[0m_single_shortest_path_length\u001b[0m\u001b[0;34m(\u001b[0m\u001b[0mG\u001b[0m\u001b[0;34m.\u001b[0m\u001b[0madj\u001b[0m\u001b[0;34m,\u001b[0m \u001b[0mnextlevel\u001b[0m\u001b[0;34m,\u001b[0m \u001b[0mcutoff\u001b[0m\u001b[0;34m)\u001b[0m\u001b[0;34m)\u001b[0m\u001b[0;34m\u001b[0m\u001b[0;34m\u001b[0m\u001b[0m\n\u001b[0m\u001b[1;32m     60\u001b[0m \u001b[0;34m\u001b[0m\u001b[0m\n\u001b[1;32m     61\u001b[0m \u001b[0;34m\u001b[0m\u001b[0m\n",
            "\u001b[0;32m/usr/local/lib/python3.9/dist-packages/networkx/algorithms/shortest_paths/unweighted.py\u001b[0m in \u001b[0;36m_single_shortest_path_length\u001b[0;34m(adj, firstlevel, cutoff)\u001b[0m\n\u001b[1;32m     89\u001b[0m             \u001b[0;32mreturn\u001b[0m\u001b[0;34m\u001b[0m\u001b[0;34m\u001b[0m\u001b[0m\n\u001b[1;32m     90\u001b[0m         \u001b[0;32mfor\u001b[0m \u001b[0mv\u001b[0m \u001b[0;32min\u001b[0m \u001b[0mfound\u001b[0m\u001b[0;34m:\u001b[0m\u001b[0;34m\u001b[0m\u001b[0;34m\u001b[0m\u001b[0m\n\u001b[0;32m---> 91\u001b[0;31m             \u001b[0mnextlevel\u001b[0m\u001b[0;34m.\u001b[0m\u001b[0mupdate\u001b[0m\u001b[0;34m(\u001b[0m\u001b[0madj\u001b[0m\u001b[0;34m[\u001b[0m\u001b[0mv\u001b[0m\u001b[0;34m]\u001b[0m\u001b[0;34m)\u001b[0m\u001b[0;34m\u001b[0m\u001b[0;34m\u001b[0m\u001b[0m\n\u001b[0m\u001b[1;32m     92\u001b[0m         \u001b[0mlevel\u001b[0m \u001b[0;34m+=\u001b[0m \u001b[0;36m1\u001b[0m\u001b[0;34m\u001b[0m\u001b[0;34m\u001b[0m\u001b[0m\n\u001b[1;32m     93\u001b[0m     \u001b[0;32mdel\u001b[0m \u001b[0mseen\u001b[0m\u001b[0;34m\u001b[0m\u001b[0;34m\u001b[0m\u001b[0m\n",
            "\u001b[0;32m/usr/local/lib/python3.9/dist-packages/networkx/classes/coreviews.py\u001b[0m in \u001b[0;36m<genexpr>\u001b[0;34m(.0)\u001b[0m\n\u001b[1;32m    279\u001b[0m         \u001b[0;32mif\u001b[0m \u001b[0mnode_ok_shorter\u001b[0m\u001b[0;34m:\u001b[0m\u001b[0;34m\u001b[0m\u001b[0;34m\u001b[0m\u001b[0m\n\u001b[1;32m    280\u001b[0m             \u001b[0;32mreturn\u001b[0m \u001b[0;34m(\u001b[0m\u001b[0mn\u001b[0m \u001b[0;32mfor\u001b[0m \u001b[0mn\u001b[0m \u001b[0;32min\u001b[0m \u001b[0mself\u001b[0m\u001b[0;34m.\u001b[0m\u001b[0mNODE_OK\u001b[0m\u001b[0;34m.\u001b[0m\u001b[0mnodes\u001b[0m \u001b[0;32mif\u001b[0m \u001b[0mn\u001b[0m \u001b[0;32min\u001b[0m \u001b[0mself\u001b[0m\u001b[0;34m.\u001b[0m\u001b[0m_atlas\u001b[0m\u001b[0;34m)\u001b[0m\u001b[0;34m\u001b[0m\u001b[0;34m\u001b[0m\u001b[0m\n\u001b[0;32m--> 281\u001b[0;31m         \u001b[0;32mreturn\u001b[0m \u001b[0;34m(\u001b[0m\u001b[0mn\u001b[0m \u001b[0;32mfor\u001b[0m \u001b[0mn\u001b[0m \u001b[0;32min\u001b[0m \u001b[0mself\u001b[0m\u001b[0;34m.\u001b[0m\u001b[0m_atlas\u001b[0m \u001b[0;32mif\u001b[0m \u001b[0mself\u001b[0m\u001b[0;34m.\u001b[0m\u001b[0mNODE_OK\u001b[0m\u001b[0;34m(\u001b[0m\u001b[0mn\u001b[0m\u001b[0;34m)\u001b[0m\u001b[0;34m)\u001b[0m\u001b[0;34m\u001b[0m\u001b[0;34m\u001b[0m\u001b[0m\n\u001b[0m\u001b[1;32m    282\u001b[0m \u001b[0;34m\u001b[0m\u001b[0m\n\u001b[1;32m    283\u001b[0m     \u001b[0;32mdef\u001b[0m \u001b[0m__getitem__\u001b[0m\u001b[0;34m(\u001b[0m\u001b[0mself\u001b[0m\u001b[0;34m,\u001b[0m \u001b[0mkey\u001b[0m\u001b[0;34m)\u001b[0m\u001b[0;34m:\u001b[0m\u001b[0;34m\u001b[0m\u001b[0;34m\u001b[0m\u001b[0m\n",
            "\u001b[0;32m/usr/local/lib/python3.9/dist-packages/networkx/classes/coreviews.py\u001b[0m in \u001b[0;36mnew_node_ok\u001b[0;34m(nbr)\u001b[0m\n\u001b[1;32m    315\u001b[0m \u001b[0;34m\u001b[0m\u001b[0m\n\u001b[1;32m    316\u001b[0m             \u001b[0;32mdef\u001b[0m \u001b[0mnew_node_ok\u001b[0m\u001b[0;34m(\u001b[0m\u001b[0mnbr\u001b[0m\u001b[0;34m)\u001b[0m\u001b[0;34m:\u001b[0m\u001b[0;34m\u001b[0m\u001b[0;34m\u001b[0m\u001b[0m\n\u001b[0;32m--> 317\u001b[0;31m                 \u001b[0;32mreturn\u001b[0m \u001b[0mself\u001b[0m\u001b[0;34m.\u001b[0m\u001b[0mNODE_OK\u001b[0m\u001b[0;34m(\u001b[0m\u001b[0mnbr\u001b[0m\u001b[0;34m)\u001b[0m \u001b[0;32mand\u001b[0m \u001b[0mself\u001b[0m\u001b[0;34m.\u001b[0m\u001b[0mEDGE_OK\u001b[0m\u001b[0;34m(\u001b[0m\u001b[0mnode\u001b[0m\u001b[0;34m,\u001b[0m \u001b[0mnbr\u001b[0m\u001b[0;34m)\u001b[0m\u001b[0;34m\u001b[0m\u001b[0;34m\u001b[0m\u001b[0m\n\u001b[0m\u001b[1;32m    318\u001b[0m \u001b[0;34m\u001b[0m\u001b[0m\n\u001b[1;32m    319\u001b[0m             \u001b[0;32mreturn\u001b[0m \u001b[0mFilterAtlas\u001b[0m\u001b[0;34m(\u001b[0m\u001b[0mself\u001b[0m\u001b[0;34m.\u001b[0m\u001b[0m_atlas\u001b[0m\u001b[0;34m[\u001b[0m\u001b[0mnode\u001b[0m\u001b[0;34m]\u001b[0m\u001b[0;34m,\u001b[0m \u001b[0mnew_node_ok\u001b[0m\u001b[0;34m)\u001b[0m\u001b[0;34m\u001b[0m\u001b[0;34m\u001b[0m\u001b[0m\n",
            "\u001b[0;31mKeyboardInterrupt\u001b[0m: "
          ]
        }
      ]
    },
    {
      "cell_type": "markdown",
      "source": [
        "Βλέπουμε ότι όντως τα χαρακτηριστικά του δεύτερου και του τελευταίου δικτύου είναι παρόμοια."
      ],
      "metadata": {
        "id": "eBliYcA01rmG"
      }
    },
    {
      "cell_type": "markdown",
      "source": [
        "# Fifth Section (Barabasi - Albert Graph - Undirected) "
      ],
      "metadata": {
        "id": "VWnTCpp110im"
      }
    },
    {
      "cell_type": "markdown",
      "source": [
        "Εδώ πρέπει να βρούμε την κατάλληλη τιμή για το m, όπου m είναι ο αριθμος των κόμβων που συνδέεται ο κόμβος που εισάγεται κάθε φορά στο δίκτυο. Εδώ στην αρχή είχα διαλέξει για το m την τιμή 6, καθώς είχα σκεφτεί ότι εφόσον έχουμε μέσο βαθμό κόμβων το 6, κάθε κόμβος που εισάγεται θα πρέπει να συνδεθεί με 6 κόμβους οι οποίοι προυπήρχαν στο δίκτυο. Με αυτόν τον τρόπο όμως, οι τελικές ακμές του δικτύου έβγαιναν περίπου 32000, κάτι το οποίο μου φάνηκε παράξενο, όπως και το γεγονός ότι ο μέσος βαθμών των κόμβων έβγαινε περίπου 11. Μετά απο σκέψη όμως συνειδητοποίησα ότι όταν ξεκινάει να δημιουργείται το δίκτυο, αν προσθέτω κάθε φορά 6 ακμές με κάθε εισαγωγή κόμβου, το δίκτυο γίνεται υπερβολικά πολύ πυκνό, μεγαλόνωντας κατά πολύ έτσι τον μέσο βαθμό των κόμβων. Επίσης σε αυτό το μοντέλο συνειδητοποίησα ότι είναι λογικό ο μέγιστος βαθμός των κόμβων να είναι μεγάλος, λόγω και πάλι του ξεκινήματος δημιουργίας του δικτύου, αφού οι νέοι κόμβοι που εισέρχονται δεν έχουν πολλές επιλογές για να συνδεθούν με άλλους κόμβους. Για να διορθωθεί το πρόβλημα των πολλών ακμών επίσης, χρησιμοποίησα m = 3, για να πλησιάσουμε τις 15000 ακμές."
      ],
      "metadata": {
        "id": "hHog_BAo3aI6"
      }
    },
    {
      "cell_type": "code",
      "source": [
        "G5 = nx.barabasi_albert_graph(5200, 3)\n"
      ],
      "metadata": {
        "id": "aWigzrK92A5W"
      },
      "execution_count": null,
      "outputs": []
    },
    {
      "cell_type": "code",
      "source": [
        "print('Basic Analysis for Random Barabasi - Albert Graph (G5)')\n",
        "print()\n",
        "#nodes - edges \n",
        "print('Number of Nodes for G5 is: ' + str(G5.number_of_nodes())) \n",
        "print('Number of Edges for G5 is: ' + str(G5.number_of_edges())) \n",
        "\n",
        "#Nodes with Self Loops \n",
        "print('Number of Nodes with self loops is: ' + str(len(list(nx.nodes_with_selfloops(G5)))))\n",
        "\n",
        "# Number of Reciprocated Edges (Το documentation του networkx μας αναφέρει ότι η συνάρτηση reciprocity υπολογίζει τον λόγο των ακμών που δείχνουν και στις δύο \n",
        "# κατευθήνσεις, προς το πλήθος όλων των ακμών του δικτύου. Οπότε για να υπολογίζουμε το πλήθος των reciprocated edges αρκεί να πολλαπλασιάσουμε το αποτέλεσμα\n",
        "# που παράγει η συνάρτηση reciprocity με το πλήθος όλων των ακμών) \n",
        "print('Number of reciprocated edges is: ' + str(reciprocity(G5)*G5.number_of_edges()))\n",
        "\n",
        "#Number of Sink and Source nodes (Δεν βγάζει νόημα αφού έχουμε μη-κατευθυνόμενο γράφο)\n",
        "\n",
        "# #Max, Min and Average Degree \n",
        "degrees_G5 = dict(G5.degree())\n",
        "print('Max Degree of a Node: ' + str(max(degrees_G5.values()))) \n",
        "print('Min Degree of a Node: ' + str(min(degrees_G5.values()))) \n",
        "avg_degree_G5 = sum(val for key, val in degrees_G5.items()) / G5.number_of_nodes()\n",
        "print('Average Degree of Nodes: ' + str(avg_degree_G5))\n",
        "\n",
        "#Max, Min and Average In-going Degree (Δεν βγάζει νόημα αφού έχουμε μη-κατευθυνόμενο γράφο)\n",
        "\n",
        "\n",
        "#Max, Min and Average Out-going Degree (Δεν βγάζει νόημα αφού έχουμε μη-κατευθυνόμενο γράφο)\n",
        "\n",
        "\n",
        "#Diameter of the Network (δεν είναι συνεκτικά συνδεδεμένο, οπότε θα βρω την μεγαλύτερη διάμετρο από τις συνιστώσες του)\n",
        "components = list(nx.connected_components(G5))\n",
        "max_diameter = 0\n",
        "for component in components:\n",
        "    diameter = nx.diameter(G5.subgraph(component))\n",
        "    if diameter > max_diameter:\n",
        "        max_diameter = diameter\n",
        "print(\"The diameter of the graph is:\", max_diameter)\n",
        "\n",
        "#Average clustering coefficient and global clustering coefficient \n",
        "clustering_coefficients = nx.clustering(G5)\n",
        "avg_clustering_coefficient = sum(val for key,val in clustering_coefficients.items())/G5.number_of_nodes()\n",
        "print('Average Clustering Coefficient is: ' + str(avg_clustering_coefficient)) \n",
        "\n",
        "global_clustering_coefficient = nx.transitivity(G5)\n",
        "print('Global Clustering Coefficient is ' + str(global_clustering_coefficient)) \n",
        "\n",
        "#Largest Strongly Connected And Weakly Connected Component \n",
        "#(Δεν έχει σημασία αφού ο γράφος είναι μη-κατευθυνόμενος, οπότε αρκεί να βρούμε μόνο την μεγαλύτερη συνιστώσα)\n",
        "cc_G5 = list(nx.connected_components(G5))\n",
        "largest_cc_G5 = max(cc_G5, key=len)\n",
        "print('Number of Nodes in the largest connected Component: ' + str(len(largest_cc_G5))) \n",
        "num_edges_largest_cc_G5 = G5.subgraph(largest_cc_G5).number_of_edges()\n",
        "print('Number of Nodes in the largest Strongly connected Component: ' + str(num_edges_largest_cc_G5))"
      ],
      "metadata": {
        "colab": {
          "base_uri": "https://localhost:8080/",
          "height": 537
        },
        "id": "RfXGvRHx2OYm",
        "outputId": "0578b80a-9272-404b-a4da-62a3f700d7ca"
      },
      "execution_count": null,
      "outputs": [
        {
          "output_type": "stream",
          "name": "stdout",
          "text": [
            "Basic Analysis for Random Barabasi - Albert Graph (G5)\n",
            "\n",
            "Number of Nodes for G5 is: 5200\n",
            "Number of Edges for G5 is: 15591\n",
            "Number of Nodes with self loops is: 0\n",
            "Number of reciprocated edges is: 0.0\n",
            "Max Degree of a Node: 220\n",
            "Min Degree of a Node: 3\n",
            "Average Degree of Nodes: 5.996538461538462\n"
          ]
        },
        {
          "output_type": "error",
          "ename": "KeyboardInterrupt",
          "evalue": "ignored",
          "traceback": [
            "\u001b[0;31m---------------------------------------------------------------------------\u001b[0m",
            "\u001b[0;31mKeyboardInterrupt\u001b[0m                         Traceback (most recent call last)",
            "\u001b[0;32m<ipython-input-9-2ed3f2c66aaf>\u001b[0m in \u001b[0;36m<module>\u001b[0;34m\u001b[0m\n\u001b[1;32m     32\u001b[0m \u001b[0mmax_diameter\u001b[0m \u001b[0;34m=\u001b[0m \u001b[0;36m0\u001b[0m\u001b[0;34m\u001b[0m\u001b[0;34m\u001b[0m\u001b[0m\n\u001b[1;32m     33\u001b[0m \u001b[0;32mfor\u001b[0m \u001b[0mcomponent\u001b[0m \u001b[0;32min\u001b[0m \u001b[0mcomponents\u001b[0m\u001b[0;34m:\u001b[0m\u001b[0;34m\u001b[0m\u001b[0;34m\u001b[0m\u001b[0m\n\u001b[0;32m---> 34\u001b[0;31m     \u001b[0mdiameter\u001b[0m \u001b[0;34m=\u001b[0m \u001b[0mnx\u001b[0m\u001b[0;34m.\u001b[0m\u001b[0mdiameter\u001b[0m\u001b[0;34m(\u001b[0m\u001b[0mG5\u001b[0m\u001b[0;34m.\u001b[0m\u001b[0msubgraph\u001b[0m\u001b[0;34m(\u001b[0m\u001b[0mcomponent\u001b[0m\u001b[0;34m)\u001b[0m\u001b[0;34m)\u001b[0m\u001b[0;34m\u001b[0m\u001b[0;34m\u001b[0m\u001b[0m\n\u001b[0m\u001b[1;32m     35\u001b[0m     \u001b[0;32mif\u001b[0m \u001b[0mdiameter\u001b[0m \u001b[0;34m>\u001b[0m \u001b[0mmax_diameter\u001b[0m\u001b[0;34m:\u001b[0m\u001b[0;34m\u001b[0m\u001b[0;34m\u001b[0m\u001b[0m\n\u001b[1;32m     36\u001b[0m         \u001b[0mmax_diameter\u001b[0m \u001b[0;34m=\u001b[0m \u001b[0mdiameter\u001b[0m\u001b[0;34m\u001b[0m\u001b[0;34m\u001b[0m\u001b[0m\n",
            "\u001b[0;32m/usr/local/lib/python3.9/dist-packages/networkx/algorithms/distance_measures.py\u001b[0m in \u001b[0;36mdiameter\u001b[0;34m(G, e, usebounds, weight)\u001b[0m\n\u001b[1;32m    375\u001b[0m         \u001b[0;32mreturn\u001b[0m \u001b[0m_extrema_bounding\u001b[0m\u001b[0;34m(\u001b[0m\u001b[0mG\u001b[0m\u001b[0;34m,\u001b[0m \u001b[0mcompute\u001b[0m\u001b[0;34m=\u001b[0m\u001b[0;34m\"diameter\"\u001b[0m\u001b[0;34m,\u001b[0m \u001b[0mweight\u001b[0m\u001b[0;34m=\u001b[0m\u001b[0mweight\u001b[0m\u001b[0;34m)\u001b[0m\u001b[0;34m\u001b[0m\u001b[0;34m\u001b[0m\u001b[0m\n\u001b[1;32m    376\u001b[0m     \u001b[0;32mif\u001b[0m \u001b[0me\u001b[0m \u001b[0;32mis\u001b[0m \u001b[0;32mNone\u001b[0m\u001b[0;34m:\u001b[0m\u001b[0;34m\u001b[0m\u001b[0;34m\u001b[0m\u001b[0m\n\u001b[0;32m--> 377\u001b[0;31m         \u001b[0me\u001b[0m \u001b[0;34m=\u001b[0m \u001b[0meccentricity\u001b[0m\u001b[0;34m(\u001b[0m\u001b[0mG\u001b[0m\u001b[0;34m,\u001b[0m \u001b[0mweight\u001b[0m\u001b[0;34m=\u001b[0m\u001b[0mweight\u001b[0m\u001b[0;34m)\u001b[0m\u001b[0;34m\u001b[0m\u001b[0;34m\u001b[0m\u001b[0m\n\u001b[0m\u001b[1;32m    378\u001b[0m     \u001b[0;32mreturn\u001b[0m \u001b[0mmax\u001b[0m\u001b[0;34m(\u001b[0m\u001b[0me\u001b[0m\u001b[0;34m.\u001b[0m\u001b[0mvalues\u001b[0m\u001b[0;34m(\u001b[0m\u001b[0;34m)\u001b[0m\u001b[0;34m)\u001b[0m\u001b[0;34m\u001b[0m\u001b[0;34m\u001b[0m\u001b[0m\n\u001b[1;32m    379\u001b[0m \u001b[0;34m\u001b[0m\u001b[0m\n",
            "\u001b[0;32m/usr/local/lib/python3.9/dist-packages/networkx/algorithms/distance_measures.py\u001b[0m in \u001b[0;36meccentricity\u001b[0;34m(G, v, sp, weight)\u001b[0m\n\u001b[1;32m    298\u001b[0m     \u001b[0;32mfor\u001b[0m \u001b[0mn\u001b[0m \u001b[0;32min\u001b[0m \u001b[0mG\u001b[0m\u001b[0;34m.\u001b[0m\u001b[0mnbunch_iter\u001b[0m\u001b[0;34m(\u001b[0m\u001b[0mv\u001b[0m\u001b[0;34m)\u001b[0m\u001b[0;34m:\u001b[0m\u001b[0;34m\u001b[0m\u001b[0;34m\u001b[0m\u001b[0m\n\u001b[1;32m    299\u001b[0m         \u001b[0;32mif\u001b[0m \u001b[0msp\u001b[0m \u001b[0;32mis\u001b[0m \u001b[0;32mNone\u001b[0m\u001b[0;34m:\u001b[0m\u001b[0;34m\u001b[0m\u001b[0;34m\u001b[0m\u001b[0m\n\u001b[0;32m--> 300\u001b[0;31m             \u001b[0mlength\u001b[0m \u001b[0;34m=\u001b[0m \u001b[0mnx\u001b[0m\u001b[0;34m.\u001b[0m\u001b[0mshortest_path_length\u001b[0m\u001b[0;34m(\u001b[0m\u001b[0mG\u001b[0m\u001b[0;34m,\u001b[0m \u001b[0msource\u001b[0m\u001b[0;34m=\u001b[0m\u001b[0mn\u001b[0m\u001b[0;34m,\u001b[0m \u001b[0mweight\u001b[0m\u001b[0;34m=\u001b[0m\u001b[0mweight\u001b[0m\u001b[0;34m)\u001b[0m\u001b[0;34m\u001b[0m\u001b[0;34m\u001b[0m\u001b[0m\n\u001b[0m\u001b[1;32m    301\u001b[0m \u001b[0;34m\u001b[0m\u001b[0m\n\u001b[1;32m    302\u001b[0m             \u001b[0mL\u001b[0m \u001b[0;34m=\u001b[0m \u001b[0mlen\u001b[0m\u001b[0;34m(\u001b[0m\u001b[0mlength\u001b[0m\u001b[0;34m)\u001b[0m\u001b[0;34m\u001b[0m\u001b[0;34m\u001b[0m\u001b[0m\n",
            "\u001b[0;32m/usr/local/lib/python3.9/dist-packages/networkx/classes/backends.py\u001b[0m in \u001b[0;36mwrapper\u001b[0;34m(*args, **kwds)\u001b[0m\n\u001b[1;32m    143\u001b[0m                         \u001b[0;34mf\"'{name}' not implemented by {plugin_name}\"\u001b[0m\u001b[0;34m\u001b[0m\u001b[0;34m\u001b[0m\u001b[0m\n\u001b[1;32m    144\u001b[0m                     )\n\u001b[0;32m--> 145\u001b[0;31m         \u001b[0;32mreturn\u001b[0m \u001b[0mfunc\u001b[0m\u001b[0;34m(\u001b[0m\u001b[0;34m*\u001b[0m\u001b[0margs\u001b[0m\u001b[0;34m,\u001b[0m \u001b[0;34m**\u001b[0m\u001b[0mkwds\u001b[0m\u001b[0;34m)\u001b[0m\u001b[0;34m\u001b[0m\u001b[0;34m\u001b[0m\u001b[0m\n\u001b[0m\u001b[1;32m    146\u001b[0m \u001b[0;34m\u001b[0m\u001b[0m\n\u001b[1;32m    147\u001b[0m     \u001b[0m_register_algo\u001b[0m\u001b[0;34m(\u001b[0m\u001b[0mname\u001b[0m\u001b[0;34m,\u001b[0m \u001b[0mwrapper\u001b[0m\u001b[0;34m)\u001b[0m\u001b[0;34m\u001b[0m\u001b[0;34m\u001b[0m\u001b[0m\n",
            "\u001b[0;32m/usr/local/lib/python3.9/dist-packages/networkx/algorithms/shortest_paths/generic.py\u001b[0m in \u001b[0;36mshortest_path_length\u001b[0;34m(G, source, target, weight, method)\u001b[0m\n\u001b[1;32m    298\u001b[0m             \u001b[0;31m# Find paths to all nodes accessible from the source.\u001b[0m\u001b[0;34m\u001b[0m\u001b[0;34m\u001b[0m\u001b[0m\n\u001b[1;32m    299\u001b[0m             \u001b[0;32mif\u001b[0m \u001b[0mmethod\u001b[0m \u001b[0;34m==\u001b[0m \u001b[0;34m\"unweighted\"\u001b[0m\u001b[0;34m:\u001b[0m\u001b[0;34m\u001b[0m\u001b[0;34m\u001b[0m\u001b[0m\n\u001b[0;32m--> 300\u001b[0;31m                 \u001b[0mpaths\u001b[0m \u001b[0;34m=\u001b[0m \u001b[0mnx\u001b[0m\u001b[0;34m.\u001b[0m\u001b[0msingle_source_shortest_path_length\u001b[0m\u001b[0;34m(\u001b[0m\u001b[0mG\u001b[0m\u001b[0;34m,\u001b[0m \u001b[0msource\u001b[0m\u001b[0;34m)\u001b[0m\u001b[0;34m\u001b[0m\u001b[0;34m\u001b[0m\u001b[0m\n\u001b[0m\u001b[1;32m    301\u001b[0m             \u001b[0;32melif\u001b[0m \u001b[0mmethod\u001b[0m \u001b[0;34m==\u001b[0m \u001b[0;34m\"dijkstra\"\u001b[0m\u001b[0;34m:\u001b[0m\u001b[0;34m\u001b[0m\u001b[0;34m\u001b[0m\u001b[0m\n\u001b[1;32m    302\u001b[0m                 \u001b[0mpath_length\u001b[0m \u001b[0;34m=\u001b[0m \u001b[0mnx\u001b[0m\u001b[0;34m.\u001b[0m\u001b[0msingle_source_dijkstra_path_length\u001b[0m\u001b[0;34m\u001b[0m\u001b[0;34m\u001b[0m\u001b[0m\n",
            "\u001b[0;32m/usr/local/lib/python3.9/dist-packages/networkx/algorithms/shortest_paths/unweighted.py\u001b[0m in \u001b[0;36msingle_source_shortest_path_length\u001b[0;34m(G, source, cutoff)\u001b[0m\n\u001b[1;32m     57\u001b[0m         \u001b[0mcutoff\u001b[0m \u001b[0;34m=\u001b[0m \u001b[0mfloat\u001b[0m\u001b[0;34m(\u001b[0m\u001b[0;34m\"inf\"\u001b[0m\u001b[0;34m)\u001b[0m\u001b[0;34m\u001b[0m\u001b[0;34m\u001b[0m\u001b[0m\n\u001b[1;32m     58\u001b[0m     \u001b[0mnextlevel\u001b[0m \u001b[0;34m=\u001b[0m \u001b[0;34m{\u001b[0m\u001b[0msource\u001b[0m\u001b[0;34m:\u001b[0m \u001b[0;36m1\u001b[0m\u001b[0;34m}\u001b[0m\u001b[0;34m\u001b[0m\u001b[0;34m\u001b[0m\u001b[0m\n\u001b[0;32m---> 59\u001b[0;31m     \u001b[0;32mreturn\u001b[0m \u001b[0mdict\u001b[0m\u001b[0;34m(\u001b[0m\u001b[0m_single_shortest_path_length\u001b[0m\u001b[0;34m(\u001b[0m\u001b[0mG\u001b[0m\u001b[0;34m.\u001b[0m\u001b[0madj\u001b[0m\u001b[0;34m,\u001b[0m \u001b[0mnextlevel\u001b[0m\u001b[0;34m,\u001b[0m \u001b[0mcutoff\u001b[0m\u001b[0;34m)\u001b[0m\u001b[0;34m)\u001b[0m\u001b[0;34m\u001b[0m\u001b[0;34m\u001b[0m\u001b[0m\n\u001b[0m\u001b[1;32m     60\u001b[0m \u001b[0;34m\u001b[0m\u001b[0m\n\u001b[1;32m     61\u001b[0m \u001b[0;34m\u001b[0m\u001b[0m\n",
            "\u001b[0;32m/usr/local/lib/python3.9/dist-packages/networkx/algorithms/shortest_paths/unweighted.py\u001b[0m in \u001b[0;36m_single_shortest_path_length\u001b[0;34m(adj, firstlevel, cutoff)\u001b[0m\n\u001b[1;32m     89\u001b[0m             \u001b[0;32mreturn\u001b[0m\u001b[0;34m\u001b[0m\u001b[0;34m\u001b[0m\u001b[0m\n\u001b[1;32m     90\u001b[0m         \u001b[0;32mfor\u001b[0m \u001b[0mv\u001b[0m \u001b[0;32min\u001b[0m \u001b[0mfound\u001b[0m\u001b[0;34m:\u001b[0m\u001b[0;34m\u001b[0m\u001b[0;34m\u001b[0m\u001b[0m\n\u001b[0;32m---> 91\u001b[0;31m             \u001b[0mnextlevel\u001b[0m\u001b[0;34m.\u001b[0m\u001b[0mupdate\u001b[0m\u001b[0;34m(\u001b[0m\u001b[0madj\u001b[0m\u001b[0;34m[\u001b[0m\u001b[0mv\u001b[0m\u001b[0;34m]\u001b[0m\u001b[0;34m)\u001b[0m\u001b[0;34m\u001b[0m\u001b[0;34m\u001b[0m\u001b[0m\n\u001b[0m\u001b[1;32m     92\u001b[0m         \u001b[0mlevel\u001b[0m \u001b[0;34m+=\u001b[0m \u001b[0;36m1\u001b[0m\u001b[0;34m\u001b[0m\u001b[0;34m\u001b[0m\u001b[0m\n\u001b[1;32m     93\u001b[0m     \u001b[0;32mdel\u001b[0m \u001b[0mseen\u001b[0m\u001b[0;34m\u001b[0m\u001b[0;34m\u001b[0m\u001b[0m\n",
            "\u001b[0;32m/usr/local/lib/python3.9/dist-packages/networkx/classes/coreviews.py\u001b[0m in \u001b[0;36m<genexpr>\u001b[0;34m(.0)\u001b[0m\n\u001b[1;32m    279\u001b[0m         \u001b[0;32mif\u001b[0m \u001b[0mnode_ok_shorter\u001b[0m\u001b[0;34m:\u001b[0m\u001b[0;34m\u001b[0m\u001b[0;34m\u001b[0m\u001b[0m\n\u001b[1;32m    280\u001b[0m             \u001b[0;32mreturn\u001b[0m \u001b[0;34m(\u001b[0m\u001b[0mn\u001b[0m \u001b[0;32mfor\u001b[0m \u001b[0mn\u001b[0m \u001b[0;32min\u001b[0m \u001b[0mself\u001b[0m\u001b[0;34m.\u001b[0m\u001b[0mNODE_OK\u001b[0m\u001b[0;34m.\u001b[0m\u001b[0mnodes\u001b[0m \u001b[0;32mif\u001b[0m \u001b[0mn\u001b[0m \u001b[0;32min\u001b[0m \u001b[0mself\u001b[0m\u001b[0;34m.\u001b[0m\u001b[0m_atlas\u001b[0m\u001b[0;34m)\u001b[0m\u001b[0;34m\u001b[0m\u001b[0;34m\u001b[0m\u001b[0m\n\u001b[0;32m--> 281\u001b[0;31m         \u001b[0;32mreturn\u001b[0m \u001b[0;34m(\u001b[0m\u001b[0mn\u001b[0m \u001b[0;32mfor\u001b[0m \u001b[0mn\u001b[0m \u001b[0;32min\u001b[0m \u001b[0mself\u001b[0m\u001b[0;34m.\u001b[0m\u001b[0m_atlas\u001b[0m \u001b[0;32mif\u001b[0m \u001b[0mself\u001b[0m\u001b[0;34m.\u001b[0m\u001b[0mNODE_OK\u001b[0m\u001b[0;34m(\u001b[0m\u001b[0mn\u001b[0m\u001b[0;34m)\u001b[0m\u001b[0;34m)\u001b[0m\u001b[0;34m\u001b[0m\u001b[0;34m\u001b[0m\u001b[0m\n\u001b[0m\u001b[1;32m    282\u001b[0m \u001b[0;34m\u001b[0m\u001b[0m\n\u001b[1;32m    283\u001b[0m     \u001b[0;32mdef\u001b[0m \u001b[0m__getitem__\u001b[0m\u001b[0;34m(\u001b[0m\u001b[0mself\u001b[0m\u001b[0;34m,\u001b[0m \u001b[0mkey\u001b[0m\u001b[0;34m)\u001b[0m\u001b[0;34m:\u001b[0m\u001b[0;34m\u001b[0m\u001b[0;34m\u001b[0m\u001b[0m\n",
            "\u001b[0;32m/usr/local/lib/python3.9/dist-packages/networkx/classes/coreviews.py\u001b[0m in \u001b[0;36mnew_node_ok\u001b[0;34m(nbr)\u001b[0m\n\u001b[1;32m    315\u001b[0m \u001b[0;34m\u001b[0m\u001b[0m\n\u001b[1;32m    316\u001b[0m             \u001b[0;32mdef\u001b[0m \u001b[0mnew_node_ok\u001b[0m\u001b[0;34m(\u001b[0m\u001b[0mnbr\u001b[0m\u001b[0;34m)\u001b[0m\u001b[0;34m:\u001b[0m\u001b[0;34m\u001b[0m\u001b[0;34m\u001b[0m\u001b[0m\n\u001b[0;32m--> 317\u001b[0;31m                 \u001b[0;32mreturn\u001b[0m \u001b[0mself\u001b[0m\u001b[0;34m.\u001b[0m\u001b[0mNODE_OK\u001b[0m\u001b[0;34m(\u001b[0m\u001b[0mnbr\u001b[0m\u001b[0;34m)\u001b[0m \u001b[0;32mand\u001b[0m \u001b[0mself\u001b[0m\u001b[0;34m.\u001b[0m\u001b[0mEDGE_OK\u001b[0m\u001b[0;34m(\u001b[0m\u001b[0mnode\u001b[0m\u001b[0;34m,\u001b[0m \u001b[0mnbr\u001b[0m\u001b[0;34m)\u001b[0m\u001b[0;34m\u001b[0m\u001b[0;34m\u001b[0m\u001b[0m\n\u001b[0m\u001b[1;32m    318\u001b[0m \u001b[0;34m\u001b[0m\u001b[0m\n\u001b[1;32m    319\u001b[0m             \u001b[0;32mreturn\u001b[0m \u001b[0mFilterAtlas\u001b[0m\u001b[0;34m(\u001b[0m\u001b[0mself\u001b[0m\u001b[0;34m.\u001b[0m\u001b[0m_atlas\u001b[0m\u001b[0;34m[\u001b[0m\u001b[0mnode\u001b[0m\u001b[0;34m]\u001b[0m\u001b[0;34m,\u001b[0m \u001b[0mnew_node_ok\u001b[0m\u001b[0;34m)\u001b[0m\u001b[0;34m\u001b[0m\u001b[0;34m\u001b[0m\u001b[0m\n",
            "\u001b[0;31mKeyboardInterrupt\u001b[0m: "
          ]
        }
      ]
    },
    {
      "cell_type": "markdown",
      "source": [
        "Παρατηρούμε για ακόμα μία φορά ότι το clustering coefficient είναι πιο μικρό από ότι θα έπρεπε, και αυτό είναι λογικό να συμβαίνει διότι οι γείτονες κάθε νέου κόμβου που προστίθεται δεν είναι πολύ εύκολο να συνδέονται μεταξύ τους. "
      ],
      "metadata": {
        "id": "NUBpTBFR7Q-F"
      }
    },
    {
      "cell_type": "markdown",
      "source": [
        "# Sixth Section (Baraasi - Albert Graph - Directed)  "
      ],
      "metadata": {
        "id": "vFQjnRuk7vyM"
      }
    },
    {
      "cell_type": "markdown",
      "source": [
        "Εδώ πέρα δεν κατάλαβα πως ένας κατευθυνόμενος γράφος μπορεί να έχει τα ίδια χαρακτηριστικά με κάποιον μη- κατευθυνόμενο, οπότε δημιοούργησα με τον αλγόριθμο Barabasi - Albert ενα δίκτυο με όλες τις ακμές του reciprocated, ώστε να δημιουργηθεί ένα πλήθος ακμών που να μπορεί να συγκριθεί με το δεύτερο δίκτυο. "
      ],
      "metadata": {
        "id": "EBWQf3HU_IPn"
      }
    },
    {
      "cell_type": "code",
      "source": [
        "G6 = nx.DiGraph(nx.barabasi_albert_graph(5200, 2))"
      ],
      "metadata": {
        "id": "SQu6eAdu8Ej8"
      },
      "execution_count": null,
      "outputs": []
    },
    {
      "cell_type": "code",
      "source": [
        "print('Basic Analysis for Barabasi - Albert Graph (G6)')\n",
        "print()\n",
        "#nodes - edges \n",
        "print('Number of Nodes for G6 is: ' + str(G6.number_of_nodes())) \n",
        "print('Number of Edges for G6 is: ' + str(G6.number_of_edges())) \n",
        "\n",
        "#Nodes with Self Loops \n",
        "print('Number of Nodes with self loops is: ' + str(len(list(nx.nodes_with_selfloops(G6)))))\n",
        "\n",
        "# Number of Reciprocated Edges (Το documentation του networkx μας αναφέρει ότι η συνάρτηση reciprocity υπολογίζει τον λόγο των ακμών που δείχνουν και στις δύο \n",
        "# κατευθήνσεις, προς το πλήθος όλων των ακμών του δικτύου. Οπότε για να υπολογίζουμε το πλήθος των reciprocated edges αρκεί να πολλαπλασιάσουμε το αποτέλεσμα\n",
        "# που παράγει η συνάρτηση reciprocity με το πλήθος όλων των ακμών) \n",
        "print('Number of reciprocated edges is: ' + str(reciprocity(G6)*G6.number_of_edges()))\n",
        "\n",
        "# #Number of Sink and Source nodes \n",
        "print('Number of Sink Nodes in G6: ' + str(len([node for node in G6.nodes if G6.out_degree(node) == 0])))\n",
        "print('Number of Source Nodes in G6: ' + str(len([node for node in G6.nodes if G6.in_degree(node) == 0])))\n",
        "\n",
        "#Max, Min and Average In-Going Degrees\n",
        "ingoing_degrees_G6 = dict(G6.in_degree())\n",
        "avg_ingoing_degree_G6 = sum(val for key, val in ingoing_degrees_G6.items()) / G6.number_of_nodes()\n",
        "print('Max in-going Degree of a Node: ' + str(max(ingoing_degrees_G6.values()))) \n",
        "print('Min in-going Degree of a Node: ' + str(min(ingoing_degrees_G6.values())))\n",
        "print('Average in-going degree of Nodes: ' + str(avg_ingoing_degree_G6)) \n",
        "\n",
        "# #Max, Min and Average Out-going Degree\n",
        "outgoing_degrees_G6 = dict(G1.out_degree())\n",
        "avg_outgoing_degree_G6 = sum(val for key, val in outgoing_degrees_G6.items()) / G6.number_of_nodes()\n",
        "print('Max Out-going Degree of a Node: ' + str(max(outgoing_degrees_G6.values()))) \n",
        "print('Min Out-going Degree of a Node: ' + str(min(outgoing_degrees_G6.values())))\n",
        "print('Average Out-going degree of Nodes: ' + str(avg_outgoing_degree_G6)) \n",
        "\n",
        "#Diameter of the Network (δεν είναι συνεκτικά συνδεδεμένο, οπότε θα βρω την μεγαλύτερη διάμετρο από τις συνιστώσες του. Επίσης δεν λαμβάνω υπόψη την φορά των συνιστωσών του.\n",
        "components = list(nx.weakly_connected_components(G6))\n",
        "max_diameter = 0\n",
        "for component in components:\n",
        "    diameter = nx.diameter(G6.subgraph(component).to_undirected())\n",
        "    if diameter > max_diameter:\n",
        "        max_diameter = diameter\n",
        "print(\"The diameter is:\", max_diameter)\n",
        "\n",
        "#Average clustering coefficient and global clustering coefficient \n",
        "clustering_coefficients = nx.clustering(G6)\n",
        "avg_clustering_coefficient = sum(val for key,val in clustering_coefficients.items())/G6.number_of_nodes()\n",
        "print('Average Clustering Coefficient is: ' + str(avg_clustering_coefficient*2)) \n",
        "#Για να βγει το σωστό αποτέλεσμα το πολλαπλασιάζω *2 \n",
        "\n",
        "global_clustering_coefficient = nx.transitivity(G6)\n",
        "print('Global Clustering Coefficient is ' + str(global_clustering_coefficient*2)) \n",
        "\n",
        "#strongly connected component\n",
        "scc_G6 = list(nx.strongly_connected_components(G6))\n",
        "largest_scc_G6 = max(scc_G6, key=len)\n",
        "print('Number of Nodes in the largest Strongly connected Component: ' + str(len(largest_scc_G6))) \n",
        "num_edges_largest_scc_G6 = G6.subgraph(largest_scc_G6).number_of_edges()\n",
        "print('Number of Nodes in the largest Strongly connected Component: ' + str(num_edges_largest_scc_G6))\n",
        "\n",
        "#Weakly connected component  \n",
        "wcc_G6 = list(nx.weakly_connected_components(G6))\n",
        "\n",
        "largest_wcc_G6 = max(wcc_G6, key=len)\n",
        "print('Number of Nodes in the largest Weakly connected Component: ' + str(len(largest_wcc_G6))) \n",
        "num_edges_largest_wcc_G6 = G6.subgraph(largest_wcc_G6).number_of_edges()\n",
        "print('Number of Nodes in the largest Strongly connected Component: ' + str(num_edges_largest_wcc_G6))\n"
      ],
      "metadata": {
        "id": "mEpchsj-8YYV"
      },
      "execution_count": null,
      "outputs": []
    },
    {
      "cell_type": "markdown",
      "source": [
        "# Συγκριτικά Αποτελέσματα όλων των δικτύων αποτυπωμένα σε πίνακα "
      ],
      "metadata": {
        "id": "gLXr1Nf1APBl"
      }
    },
    {
      "cell_type": "markdown",
      "source": [
        "\n",
        "|  | Gnutella (G1) |GrQc (G2)| Erdős-Renyi (G3) |Watts and Strogatz (G4)|Barabasi - Albert (Undirected) (G5) |Barabasi - Albert (Directed) (G6)|\n",
        "|-------|:-----|:----- |:-----|:-----|:-----|:------|\n",
        "| Number Of Nodes| 8846 | 5242| 5200|5200|5200|5200\n",
        "| Number Of Nodes with Self Loops|0|12| 0|0|0|0\n",
        "|Number of Edges|31839|14496| 14567| 15600|15591|20792\n",
        "|Number of Recirpocated Edges| 0|0| 0| 0 |0|20792\n",
        "|Number of Sink Nodes|4996|-| - |-|-|0\n",
        "|Number of Source Nodes|118|-| - |-|-|0\n",
        "|Max Degree|-| 81| 15|10|264|-\n",
        "|Min Degree|-| 1| 0 |4|3|-\n",
        "|Average Degree|-| 5.5307| 5.6026|6|5.9965|-\n",
        "|Max in-going Degree|79|-| -|-|-|133\n",
        "|Min in-going Degree|0|-| -|-|-|2\n",
        "|Average in-going Degree|3.599|-| -| -|-|3.9984\n",
        "|Max out-going Degree|65|-| - |-|-|65\n",
        "|Min out-going Degree|0|-|-|-|-|0\n",
        "|Average out-going Degree|3.599|-|-|-|-|6.122\n",
        "|Diameter|9|17|10 |20|7|8\n",
        "|Average Clustering Coefficient| 0.007201|0.5296| 0.00100| 0.5218|0.01060|0.01274\n",
        "|Global Clustering Coefficient|0.007493|0.62984|0.00102 |0.5134|0.005266|0.00464\n",
        "|Number of Nodes in Largest Strongly Connected Component| 3234| 4158|5179 |5200|5200|5200\n",
        "|Number of Edges in Largest Strongly Connected Component|13453|13428|14567 |15600|15591|20792\n",
        "|Number of Nodes in Largest Weakly Connected Component|8842|4158|5179 |5200|5200|5200\n",
        "|Number of Edges in Largest Weakly Connected Component|31837|13428| 14567|15600|15591|20792"
      ],
      "metadata": {
        "id": "0NBtOyPNuGyP"
      }
    },
    {
      "cell_type": "markdown",
      "source": [
        "# Edge Distribution for every Graph "
      ],
      "metadata": {
        "id": "ZZAqJnS-AX-Y"
      }
    },
    {
      "cell_type": "markdown",
      "source": [
        "### Edge distribution using Linear Scale "
      ],
      "metadata": {
        "id": "B380FRflAgia"
      }
    },
    {
      "cell_type": "code",
      "source": [
        "#Θα πρέπει να δημιουργηθεί ένα λεξικό το οποίο θα μετράει για κάθε δίκτυο την πιθανότητα των ακμών. \n",
        "#Για τα κατευθυνόμενα δίκτυα θα δημιουργήσω δύο γραφήματα, ένα για τις εξερχόμενες και ένα για τις εισερχόμενες ακμές\n",
        "\n",
        "#G1\n",
        "#In-going Degrees\n",
        "degree_in_count_G1 = {}\n",
        "for d in ingoing_degrees_G1.values():\n",
        "    if d not in degree_in_count_G1:\n",
        "        degree_in_count_G1[d] = 1\n",
        "    else:\n",
        "        degree_in_count_G1[d] += 1\n",
        "total_nodes = G1.number_of_nodes()\n",
        "degree_in_prob_G1 = {k: v / total_nodes for k, v in degree_in_count_G1.items()}\n",
        "# Plot the degree distribution\n",
        "plt.scatter(degree_in_prob_G1.keys(), degree_in_prob_G1.values())\n",
        "plt.xlabel('Degree')\n",
        "plt.ylabel('Probability')\n",
        "plt.title('Ingoing-Degree Distribution of G1 Graph')\n",
        "plt.xscale('linear')\n",
        "plt.yscale('linear')\n",
        "plt.show()\n",
        "\n",
        "#Outgoing Degrees\n",
        "degree_out_count_G1 = {}\n",
        "for d in outgoing_degrees_G1.values():\n",
        "    if d not in degree_out_count_G1:\n",
        "        degree_out_count_G1[d] = 1\n",
        "    else:\n",
        "        degree_out_count_G1[d] += 1\n",
        "total_nodes = G1.number_of_nodes()\n",
        "degree_out_prob_G1 = {k: v / total_nodes for k, v in degree_out_count_G1.items()}\n",
        "# Plot the degree distribution\n",
        "plt.scatter(degree_out_prob_G1.keys(), degree_out_prob_G1.values())\n",
        "plt.xlabel('Degree')\n",
        "plt.ylabel('Probability')\n",
        "plt.title('Outgoing-Degree Distribution of G1 Graph')\n",
        "plt.xscale('linear')\n",
        "plt.yscale('linear')\n",
        "plt.show()\n",
        "\n",
        "#G2\n",
        "degree_count_G2 = {}\n",
        "for d in degrees_G2.values():\n",
        "    if d not in degree_count_G2:\n",
        "        degree_count_G2[d] = 1\n",
        "    else:\n",
        "        degree_count_G2[d] += 1\n",
        "total_nodes = G2.number_of_nodes()\n",
        "degree_prob_G2 = {k: v / total_nodes for k, v in degree_count_G2.items()}\n",
        "# Plot the degree distribution\n",
        "plt.scatter(degree_prob_G2.keys(), degree_prob_G2.values())\n",
        "plt.xlabel('Degree')\n",
        "plt.ylabel('Probability')\n",
        "plt.title('Degree Distribution of G2 Graph')\n",
        "plt.xscale('linear')\n",
        "plt.yscale('linear')\n",
        "plt.show()\n",
        "\n",
        "#G3\n",
        "degree_count_G3 = {}\n",
        "for d in degrees_G3.values():\n",
        "    if d not in degree_count_G3:\n",
        "        degree_count_G3[d] = 1\n",
        "    else:\n",
        "        degree_count_G3[d] += 1\n",
        "total_nodes = G3.number_of_nodes()\n",
        "degree_prob_G3 = {k: v / total_nodes for k, v in degree_count_G3.items()}\n",
        "# Plot the degree distribution\n",
        "plt.scatter(degree_prob_G3.keys(), degree_prob_G3.values())\n",
        "plt.xlabel('Degree')\n",
        "plt.ylabel('Probability')\n",
        "plt.title('Degree Distribution of G3 Graph')\n",
        "plt.xscale('linear')\n",
        "plt.yscale('linear')\n",
        "plt.show()\n",
        "\n",
        "#G4\n",
        "degree_count_G4 = {}\n",
        "for d in degrees_G4.values():\n",
        "    if d not in degree_count_G4:\n",
        "        degree_count_G4[d] = 1\n",
        "    else:\n",
        "        degree_count_G4[d] += 1\n",
        "total_nodes = G4.number_of_nodes()\n",
        "degree_prob_G4 = {k: v / total_nodes for k, v in degree_count_G4.items()}\n",
        "# Plot the degree distribution\n",
        "plt.scatter(degree_prob_G4.keys(), degree_prob_G4.values())\n",
        "plt.xlabel('Degree')\n",
        "plt.ylabel('Probability')\n",
        "plt.title('Degree Distribution of G4 Graph')\n",
        "plt.xscale('linear')\n",
        "plt.yscale('linear')\n",
        "plt.show()\n",
        "\n",
        "#G5\n",
        "degree_count_G5 = {}\n",
        "for d in degrees_G5.values():\n",
        "    if d not in degree_count_G5:\n",
        "        degree_count_G5[d] = 1\n",
        "    else:\n",
        "        degree_count_G5[d] += 1\n",
        "total_nodes = G5.number_of_nodes()\n",
        "degree_prob_G5 = {k: v / total_nodes for k, v in degree_count_G5.items()}\n",
        "# Plot the degree distribution\n",
        "plt.scatter(degree_prob_G5.keys(), degree_prob_G5.values())\n",
        "plt.xlabel('Degree')\n",
        "plt.ylabel('Probability')\n",
        "plt.title('Degree Distribution of G5 Graph')\n",
        "plt.xscale('linear')\n",
        "plt.yscale('linear')\n",
        "plt.show()\n",
        "\n",
        "#G6\n",
        "#In-going Degrees\n",
        "degree_in_count_G6 = {}\n",
        "for d in ingoing_degrees_G6.values():\n",
        "    if d not in degree_in_count_G6:\n",
        "        degree_in_count_G6[d] = 1\n",
        "    else:\n",
        "        degree_in_count_G6[d] += 1\n",
        "total_nodes = G6.number_of_nodes()\n",
        "degree_in_prob_G6 = {k: v / total_nodes for k, v in degree_in_count_G6.items()}\n",
        "# Plot the degree distribution\n",
        "plt.scatter(degree_in_prob_G6.keys(), degree_in_prob_G6.values())\n",
        "plt.xlabel('Degree')\n",
        "plt.ylabel('Probability')\n",
        "plt.title('Ingoing-Degree Distribution of G6 Graph')\n",
        "plt.xscale('linear')\n",
        "plt.yscale('linear')\n",
        "plt.show()\n",
        "#Outgoing Degrees\n",
        "degree_out_count_G6 = {}\n",
        "for d in outgoing_degrees_G6.values():\n",
        "    if d not in degree_out_count_G6:\n",
        "        degree_out_count_G6[d] = 1\n",
        "    else:\n",
        "        degree_out_count_G6[d] += 1\n",
        "total_nodes = G6.number_of_nodes()\n",
        "degree_out_prob_G6 = {k: v / total_nodes for k, v in degree_out_count_G6.items()}\n",
        "# Plot the degree distribution\n",
        "plt.scatter(degree_out_prob_G6.keys(), degree_out_prob_G6.values())\n",
        "plt.xlabel('Degree')\n",
        "plt.ylabel('Probability')\n",
        "plt.title('Outgoing-Degree Distribution of G6 Graph')\n",
        "plt.xscale('linear')\n",
        "plt.yscale('linear')\n",
        "plt.show()"
      ],
      "metadata": {
        "id": "9EMIOkk1Upy8"
      },
      "execution_count": null,
      "outputs": []
    },
    {
      "cell_type": "markdown",
      "source": [
        "### Edge distribution using Log-Log Scale"
      ],
      "metadata": {
        "id": "TFIjeTBvU5pu"
      }
    },
    {
      "cell_type": "code",
      "source": [
        "#Με παρόμοια κώδικα όπως πριν θα δημιουργήσω και τα γραφήματα σε λογαριθμική κλίμακα, απλά θα θέσω το x.scale και το y.scale να είναι log\n",
        "#G1\n",
        "#In-going Degrees\n",
        "degree_in_count_G1 = {}\n",
        "for d in ingoing_degrees_G1.values():\n",
        "    if d not in degree_in_count_G1:\n",
        "        degree_in_count_G1[d] = 1\n",
        "    else:\n",
        "        degree_in_count_G1[d] += 1\n",
        "total_nodes = G1.number_of_nodes()\n",
        "degree_in_prob_G1 = {k: v / total_nodes for k, v in degree_in_count_G1.items()}\n",
        "# Plot the degree distribution\n",
        "plt.scatter(degree_in_prob_G1.keys(), degree_in_prob_G1.values())\n",
        "plt.xlabel('Degree')\n",
        "plt.ylabel('Probability')\n",
        "plt.title('Ingoing-Degree Distribution of G1 Graph using log-log scale')\n",
        "plt.xscale('log')\n",
        "plt.yscale('log')\n",
        "plt.show()\n",
        "\n",
        "#Outgoing Degrees\n",
        "degree_out_count_G1 = {}\n",
        "for d in outgoing_degrees_G1.values():\n",
        "    if d not in degree_out_count_G1:\n",
        "        degree_out_count_G1[d] = 1\n",
        "    else:\n",
        "        degree_out_count_G1[d] += 1\n",
        "total_nodes = G1.number_of_nodes()\n",
        "degree_out_prob_G1 = {k: v / total_nodes for k, v in degree_out_count_G1.items()}\n",
        "# Plot the degree distribution\n",
        "plt.scatter(degree_out_prob_G1.keys(), degree_out_prob_G1.values())\n",
        "plt.xlabel('Degree')\n",
        "plt.ylabel('Probability')\n",
        "plt.title('Outgoing-Degree Distribution of G1 Graph using log-log scale')\n",
        "plt.xscale('log')\n",
        "plt.yscale('log')\n",
        "plt.show()\n",
        "\n",
        "#G2\n",
        "degree_count_G2 = {}\n",
        "for d in degrees_G2.values():\n",
        "    if d not in degree_count_G2:\n",
        "        degree_count_G2[d] = 1\n",
        "    else:\n",
        "        degree_count_G2[d] += 1\n",
        "total_nodes = G2.number_of_nodes()\n",
        "degree_prob_G2 = {k: v / total_nodes for k, v in degree_count_G2.items()}\n",
        "# Plot the degree distribution\n",
        "plt.scatter(degree_prob_G2.keys(), degree_prob_G2.values())\n",
        "plt.xlabel('Degree')\n",
        "plt.ylabel('Probability')\n",
        "plt.title('Degree Distribution of G2 Graph using log-log scale')\n",
        "plt.xscale('log')\n",
        "plt.yscale('log')\n",
        "plt.show()\n",
        "\n",
        "#G3\n",
        "degree_count_G3 = {}\n",
        "for d in degrees_G3.values():\n",
        "    if d not in degree_count_G3:\n",
        "        degree_count_G3[d] = 1\n",
        "    else:\n",
        "        degree_count_G3[d] += 1\n",
        "total_nodes = G3.number_of_nodes()\n",
        "degree_prob_G3 = {k: v / total_nodes for k, v in degree_count_G3.items()}\n",
        "# Plot the degree distribution\n",
        "plt.scatter(degree_prob_G3.keys(), degree_prob_G3.values())\n",
        "plt.xlabel('Degree')\n",
        "plt.ylabel('Probability')\n",
        "plt.title('Degree Distribution of G3 Graph using log-log scale')\n",
        "plt.xscale('log')\n",
        "plt.yscale('log')\n",
        "plt.show()\n",
        "\n",
        "#G4\n",
        "degree_count_G4 = {}\n",
        "for d in degrees_G4.values():\n",
        "    if d not in degree_count_G4:\n",
        "        degree_count_G4[d] = 1\n",
        "    else:\n",
        "        degree_count_G4[d] += 1\n",
        "total_nodes = G4.number_of_nodes()\n",
        "degree_prob_G4 = {k: v / total_nodes for k, v in degree_count_G4.items()}\n",
        "# Plot the degree distribution\n",
        "plt.scatter(degree_prob_G4.keys(), degree_prob_G4.values())\n",
        "plt.xlabel('Degree')\n",
        "plt.ylabel('Probability')\n",
        "plt.title('Degree Distribution of G4 Graph using log-log scale')\n",
        "plt.xscale('log')\n",
        "plt.yscale('log')\n",
        "plt.show()\n",
        "\n",
        "#G5\n",
        "degree_count_G5 = {}\n",
        "for d in degrees_G5.values():\n",
        "    if d not in degree_count_G5:\n",
        "        degree_count_G5[d] = 1\n",
        "    else:\n",
        "        degree_count_G5[d] += 1\n",
        "total_nodes = G5.number_of_nodes()\n",
        "degree_prob_G5 = {k: v / total_nodes for k, v in degree_count_G5.items()}\n",
        "# Plot the degree distribution\n",
        "plt.scatter(degree_prob_G5.keys(), degree_prob_G5.values())\n",
        "plt.xlabel('Degree')\n",
        "plt.ylabel('Probability')\n",
        "plt.title('Degree Distribution of G5 Graph using log-log scale')\n",
        "plt.xscale('log')\n",
        "plt.yscale('log')\n",
        "plt.show()\n",
        "\n",
        "#G6\n",
        "#In-going Degrees\n",
        "degree_in_count_G6 = {}\n",
        "for d in ingoing_degrees_G6.values():\n",
        "    if d not in degree_in_count_G6:\n",
        "        degree_in_count_G6[d] = 1\n",
        "    else:\n",
        "        degree_in_count_G6[d] += 1\n",
        "total_nodes = G6.number_of_nodes()\n",
        "degree_in_prob_G6 = {k: v / total_nodes for k, v in degree_in_count_G6.items()}\n",
        "# Plot the degree distribution\n",
        "plt.scatter(degree_in_prob_G6.keys(), degree_in_prob_G6.values())\n",
        "plt.xlabel('Degree')\n",
        "plt.ylabel('Probability')\n",
        "plt.title('Ingoing-Degree Distribution of G6 Graph using log-log scale')\n",
        "plt.xscale('log')\n",
        "plt.yscale('log')\n",
        "plt.show()\n",
        "#Outgoing Degrees\n",
        "degree_out_count_G6 = {}\n",
        "for d in outgoing_degrees_G6.values():\n",
        "    if d not in degree_out_count_G6:\n",
        "        degree_out_count_G6[d] = 1\n",
        "    else:\n",
        "        degree_out_count_G6[d] += 1\n",
        "total_nodes = G6.number_of_nodes()\n",
        "degree_out_prob_G6 = {k: v / total_nodes for k, v in degree_out_count_G6.items()}\n",
        "# Plot the degree distribution\n",
        "plt.scatter(degree_out_prob_G6.keys(), degree_out_prob_G6.values())\n",
        "plt.xlabel('Degree')\n",
        "plt.ylabel('Probability')\n",
        "plt.title('Outgoing-Degree Distribution of G6 Graph using log-log scale')\n",
        "plt.xscale('log')\n",
        "plt.yscale('log')\n",
        "plt.show()"
      ],
      "metadata": {
        "id": "ZwxGthiolxDd"
      },
      "execution_count": null,
      "outputs": []
    },
    {
      "cell_type": "markdown",
      "source": [
        "### Edge distribution using Log - Bining Scale"
      ],
      "metadata": {
        "id": "Do_S_Um4nucM"
      }
    },
    {
      "cell_type": "code",
      "source": [
        "#Πρώτα από όλα βρίσκω όπως το αρχείο που ανέβηκε στο open e-class, τα kmin και kmax κάθε δικτύου, και σχηματίζω σε λίστα τους βαθμούς των δικτύων. Στην περίπτωση των κατευθυνόμενων γράφων θα δημιουργήσω\n",
        "# δύο γραφήματα για κάθε περίπτωση, ένα για την κατανομή των εξερχόμενων ακμών, και ένα για την κατανομή των εισερχόμενων ακμών\n",
        "\n",
        "#Gnutella Network\n",
        "in_degrees_G1 = [d for n, d in G1.in_degree()]\n",
        "k_in_min_G1 = min(in_degrees_G1)\n",
        "k_in_max_G1 = max(in_degrees_G1)\n",
        "\n",
        "out_degrees_G1 = [d for n, d in G1.out_degree()]\n",
        "k_out_min_G1 = min(out_degrees_G1)\n",
        "k_out_max_G1 = max(out_degrees_G1)\n",
        "\n",
        "# G2\n",
        "degrees_G2 = [d for n, d in G2.degree()]\n",
        "k_min_G2 = min(degrees_G2)\n",
        "k_max_G2 = max(degrees_G2)\n",
        "\n",
        "#G3 \n",
        "degrees_G3 = [d for n, d in G3.degree()]\n",
        "k_min_G3 = min(degrees_G3)\n",
        "k_max_G3 = max(degrees_G3)\n",
        "\n",
        "#G4\n",
        "degrees_G4 = [d for n, d in G4.degree()]\n",
        "k_min_G4 = min(degrees_G4)\n",
        "k_max_G4 = max(degrees_G4)\n",
        "\n",
        "#G5\n",
        "degrees_G5 = [d for n, d in G5.degree()]\n",
        "k_min_G5 = min(degrees_G5)\n",
        "k_max_G5 = max(degrees_G5)\n",
        "\n",
        "#G6\n",
        "in_degrees_G6 = [d for n, d in G6.in_degree()]\n",
        "k_in_min_G6 = min(in_degrees_G6)\n",
        "k_in_max_G6 = max(in_degrees_G6)\n",
        "\n",
        "out_degrees_G6 = [d for n, d in G6.out_degree()]\n",
        "k_out_min_G6 = min(out_degrees_G6)\n",
        "k_out_max_G6 = max(out_degrees_G6)\n"
      ],
      "metadata": {
        "id": "se0fUbQjVNhK"
      },
      "execution_count": null,
      "outputs": []
    },
    {
      "cell_type": "code",
      "source": [
        "#G1\n",
        "#In-going\n",
        "bins = np.logspace(np.log10(k_in_min_G1+1), np.log10(k_in_max_G1+1), 10)\n",
        "hist, _ = np.histogram(in_degrees_G1, bins=bins)\n",
        "bin_centers = (bins[1:] + bins[:-1])/2\n",
        "pdf = hist/sum(hist)\n",
        "# Plot the degree distribution using logarithmic bins\n",
        "fig, ax = plt.subplots()\n",
        "ax.loglog(bin_centers, pdf, '.', markersize=10)\n",
        "ax.set_xlabel('Degree')\n",
        "ax.set_ylabel('Probability ')\n",
        "ax.set_title('Degree Distribution (Logarithmic Binning) for in-going degrees of G1')\n",
        "plt.show()\n",
        "#Out-going\n",
        "bins = np.logspace(np.log10(k_out_min_G1+1), np.log10(k_out_max_G1+1), 10)\n",
        "hist, _ = np.histogram(out_degrees_G1, bins=bins)\n",
        "bin_centers = (bins[1:] + bins[:-1])/2\n",
        "pdf = hist/sum(hist)\n",
        "# Plot the degree distribution using logarithmic bins\n",
        "fig, ax = plt.subplots()\n",
        "ax.loglog(bin_centers, pdf, '.', markersize=10)\n",
        "ax.set_xlabel('Degree')\n",
        "ax.set_ylabel('Probability ')\n",
        "ax.set_title('Degree Distribution (Logarithmic Binning) for out-going degrees of G1')\n",
        "plt.show()\n",
        "\n",
        "#G2\n",
        "bins = np.logspace(np.log10(k_min_G2), np.log10(k_max_G2+1), 10)\n",
        "hist, _ = np.histogram(degrees_G2, bins=bins)\n",
        "bin_centers = (bins[1:] + bins[:-1])/2\n",
        "pdf = hist/sum(hist)\n",
        "# Plot the degree distribution using logarithmic bins\n",
        "fig, ax = plt.subplots()\n",
        "ax.loglog(bin_centers, pdf, '.', markersize=10)\n",
        "ax.set_xlabel('Degree')\n",
        "ax.set_ylabel('Probability ')\n",
        "ax.set_title('Degree Distribution (Logarithmic Binning) for G2')\n",
        "plt.show()\n",
        "\n",
        "#G3\n",
        "bins = np.logspace(np.log10(k_min_G3+1), np.log10(k_max_G3+1), 10)\n",
        "hist, _ = np.histogram(degrees_G3, bins=bins)\n",
        "bin_centers = (bins[1:] + bins[:-1])/2\n",
        "pdf = hist/sum(hist)\n",
        "# Plot the degree distribution using logarithmic bins\n",
        "fig, ax = plt.subplots()\n",
        "ax.loglog(bin_centers, pdf, '.', markersize=10)\n",
        "ax.set_xlabel('Degree')\n",
        "ax.set_ylabel('Probability ')\n",
        "ax.set_title('Degree Distribution (Logarithmic Binning) for G3')\n",
        "plt.show()\n",
        "\n",
        "#G4\n",
        "bins = np.logspace(np.log10(k_min_G4), np.log10(k_max_G4+1), 10)\n",
        "hist, _ = np.histogram(degrees_G4, bins=bins)\n",
        "bin_centers = (bins[1:] + bins[:-1])/2\n",
        "pdf = hist/sum(hist)\n",
        "# Plot the degree distribution using logarithmic bins\n",
        "fig, ax = plt.subplots()\n",
        "ax.loglog(bin_centers, pdf, '.', markersize=10)\n",
        "ax.set_xlabel('Degree')\n",
        "ax.set_ylabel('Probability ')\n",
        "ax.set_title('Degree Distribution (Logarithmic Binning) for G4')\n",
        "plt.show()\n",
        "\n",
        "#G5\n",
        "bins = np.logspace(np.log10(k_min_G5), np.log10(k_max_G5+1), 10)\n",
        "hist, _ = np.histogram(degrees_G5, bins=bins)\n",
        "bin_centers = (bins[1:] + bins[:-1])/2\n",
        "pdf = hist/sum(hist)\n",
        "# Plot the degree distribution using logarithmic bins\n",
        "fig, ax = plt.subplots()\n",
        "ax.loglog(bin_centers, pdf, '.', markersize=10)\n",
        "ax.set_xlabel('Degree')\n",
        "ax.set_ylabel('Probability ')\n",
        "ax.set_title('Degree Distribution (Logarithmic Binning) for G5')\n",
        "plt.show()\n",
        "\n",
        "#G6\n",
        "#In-going\n",
        "bins = np.logspace(np.log10(k_in_min_G6+1), np.log10(k_in_max_G6+1), 10)\n",
        "hist, _ = np.histogram(in_degrees_G6, bins=bins)\n",
        "bin_centers = (bins[1:] + bins[:-1])/2\n",
        "pdf = hist/sum(hist)\n",
        "# Plot the degree distribution using logarithmic bins\n",
        "fig, ax = plt.subplots()\n",
        "ax.loglog(bin_centers, pdf, '.', markersize=10)\n",
        "ax.set_xlabel('Degree')\n",
        "ax.set_ylabel('Probability ')\n",
        "ax.set_title('Degree Distribution (Logarithmic Binning) for in-going degrees of G6')\n",
        "plt.show()\n",
        "#Out-going\n",
        "bins = np.logspace(np.log10(k_out_min_G6+1), np.log10(k_out_max_G6+1), 10)\n",
        "hist, _ = np.histogram(out_degrees_G6, bins=bins)\n",
        "bin_centers = (bins[1:] + bins[:-1])/2\n",
        "pdf = hist/sum(hist)\n",
        "# Plot the degree distribution using logarithmic bins\n",
        "fig, ax = plt.subplots()\n",
        "ax.loglog(bin_centers, pdf, '.', markersize=10)\n",
        "ax.set_xlabel('Degree')\n",
        "ax.set_ylabel('Probability ')\n",
        "ax.set_title('Degree Distribution (Logarithmic Binning) for out-going degrees of G6')\n",
        "plt.show()\n"
      ],
      "metadata": {
        "id": "Dk8zrdQMnt10"
      },
      "execution_count": null,
      "outputs": []
    }
  ]
}
