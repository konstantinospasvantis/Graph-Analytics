{
  "nbformat": 4,
  "nbformat_minor": 0,
  "metadata": {
    "colab": {
      "provenance": []
    },
    "kernelspec": {
      "name": "python3",
      "display_name": "Python 3"
    },
    "language_info": {
      "name": "python"
    },
    "widgets": {
      "application/vnd.jupyter.widget-state+json": {
        "9e68beeca9f847e2a4ecbc3176157efd": {
          "model_module": "@jupyter-widgets/controls",
          "model_name": "HBoxModel",
          "model_module_version": "1.5.0",
          "state": {
            "_dom_classes": [],
            "_model_module": "@jupyter-widgets/controls",
            "_model_module_version": "1.5.0",
            "_model_name": "HBoxModel",
            "_view_count": null,
            "_view_module": "@jupyter-widgets/controls",
            "_view_module_version": "1.5.0",
            "_view_name": "HBoxView",
            "box_style": "",
            "children": [
              "IPY_MODEL_8cff5f25246047beaeedd355d2e3ed3b",
              "IPY_MODEL_bda5bfb52ca445c8bc9db245128c5fdd",
              "IPY_MODEL_07e3c3a16577465e98eb2b9fa4c38832"
            ],
            "layout": "IPY_MODEL_055a418637264bffad100a8c5c0549b2"
          }
        },
        "8cff5f25246047beaeedd355d2e3ed3b": {
          "model_module": "@jupyter-widgets/controls",
          "model_name": "HTMLModel",
          "model_module_version": "1.5.0",
          "state": {
            "_dom_classes": [],
            "_model_module": "@jupyter-widgets/controls",
            "_model_module_version": "1.5.0",
            "_model_name": "HTMLModel",
            "_view_count": null,
            "_view_module": "@jupyter-widgets/controls",
            "_view_module_version": "1.5.0",
            "_view_name": "HTMLView",
            "description": "",
            "description_tooltip": null,
            "layout": "IPY_MODEL_1e4f6549c55d48febbbdd0360489b34a",
            "placeholder": "​",
            "style": "IPY_MODEL_3cd46a3d258a40cb987745972f8884c3",
            "value": "Computing transition probabilities: 100%"
          }
        },
        "bda5bfb52ca445c8bc9db245128c5fdd": {
          "model_module": "@jupyter-widgets/controls",
          "model_name": "FloatProgressModel",
          "model_module_version": "1.5.0",
          "state": {
            "_dom_classes": [],
            "_model_module": "@jupyter-widgets/controls",
            "_model_module_version": "1.5.0",
            "_model_name": "FloatProgressModel",
            "_view_count": null,
            "_view_module": "@jupyter-widgets/controls",
            "_view_module_version": "1.5.0",
            "_view_name": "ProgressView",
            "bar_style": "success",
            "description": "",
            "description_tooltip": null,
            "layout": "IPY_MODEL_3098aa11152b4590873ab699102e26d3",
            "max": 105,
            "min": 0,
            "orientation": "horizontal",
            "style": "IPY_MODEL_a7f4e59663494090a870817b2578a895",
            "value": 105
          }
        },
        "07e3c3a16577465e98eb2b9fa4c38832": {
          "model_module": "@jupyter-widgets/controls",
          "model_name": "HTMLModel",
          "model_module_version": "1.5.0",
          "state": {
            "_dom_classes": [],
            "_model_module": "@jupyter-widgets/controls",
            "_model_module_version": "1.5.0",
            "_model_name": "HTMLModel",
            "_view_count": null,
            "_view_module": "@jupyter-widgets/controls",
            "_view_module_version": "1.5.0",
            "_view_name": "HTMLView",
            "description": "",
            "description_tooltip": null,
            "layout": "IPY_MODEL_21e27914747c49a1a93488f62100d3df",
            "placeholder": "​",
            "style": "IPY_MODEL_9d721bf07a854a5294ca6efbf5688f61",
            "value": " 105/105 [00:00&lt;00:00, 1773.85it/s]"
          }
        },
        "055a418637264bffad100a8c5c0549b2": {
          "model_module": "@jupyter-widgets/base",
          "model_name": "LayoutModel",
          "model_module_version": "1.2.0",
          "state": {
            "_model_module": "@jupyter-widgets/base",
            "_model_module_version": "1.2.0",
            "_model_name": "LayoutModel",
            "_view_count": null,
            "_view_module": "@jupyter-widgets/base",
            "_view_module_version": "1.2.0",
            "_view_name": "LayoutView",
            "align_content": null,
            "align_items": null,
            "align_self": null,
            "border": null,
            "bottom": null,
            "display": null,
            "flex": null,
            "flex_flow": null,
            "grid_area": null,
            "grid_auto_columns": null,
            "grid_auto_flow": null,
            "grid_auto_rows": null,
            "grid_column": null,
            "grid_gap": null,
            "grid_row": null,
            "grid_template_areas": null,
            "grid_template_columns": null,
            "grid_template_rows": null,
            "height": null,
            "justify_content": null,
            "justify_items": null,
            "left": null,
            "margin": null,
            "max_height": null,
            "max_width": null,
            "min_height": null,
            "min_width": null,
            "object_fit": null,
            "object_position": null,
            "order": null,
            "overflow": null,
            "overflow_x": null,
            "overflow_y": null,
            "padding": null,
            "right": null,
            "top": null,
            "visibility": null,
            "width": null
          }
        },
        "1e4f6549c55d48febbbdd0360489b34a": {
          "model_module": "@jupyter-widgets/base",
          "model_name": "LayoutModel",
          "model_module_version": "1.2.0",
          "state": {
            "_model_module": "@jupyter-widgets/base",
            "_model_module_version": "1.2.0",
            "_model_name": "LayoutModel",
            "_view_count": null,
            "_view_module": "@jupyter-widgets/base",
            "_view_module_version": "1.2.0",
            "_view_name": "LayoutView",
            "align_content": null,
            "align_items": null,
            "align_self": null,
            "border": null,
            "bottom": null,
            "display": null,
            "flex": null,
            "flex_flow": null,
            "grid_area": null,
            "grid_auto_columns": null,
            "grid_auto_flow": null,
            "grid_auto_rows": null,
            "grid_column": null,
            "grid_gap": null,
            "grid_row": null,
            "grid_template_areas": null,
            "grid_template_columns": null,
            "grid_template_rows": null,
            "height": null,
            "justify_content": null,
            "justify_items": null,
            "left": null,
            "margin": null,
            "max_height": null,
            "max_width": null,
            "min_height": null,
            "min_width": null,
            "object_fit": null,
            "object_position": null,
            "order": null,
            "overflow": null,
            "overflow_x": null,
            "overflow_y": null,
            "padding": null,
            "right": null,
            "top": null,
            "visibility": null,
            "width": null
          }
        },
        "3cd46a3d258a40cb987745972f8884c3": {
          "model_module": "@jupyter-widgets/controls",
          "model_name": "DescriptionStyleModel",
          "model_module_version": "1.5.0",
          "state": {
            "_model_module": "@jupyter-widgets/controls",
            "_model_module_version": "1.5.0",
            "_model_name": "DescriptionStyleModel",
            "_view_count": null,
            "_view_module": "@jupyter-widgets/base",
            "_view_module_version": "1.2.0",
            "_view_name": "StyleView",
            "description_width": ""
          }
        },
        "3098aa11152b4590873ab699102e26d3": {
          "model_module": "@jupyter-widgets/base",
          "model_name": "LayoutModel",
          "model_module_version": "1.2.0",
          "state": {
            "_model_module": "@jupyter-widgets/base",
            "_model_module_version": "1.2.0",
            "_model_name": "LayoutModel",
            "_view_count": null,
            "_view_module": "@jupyter-widgets/base",
            "_view_module_version": "1.2.0",
            "_view_name": "LayoutView",
            "align_content": null,
            "align_items": null,
            "align_self": null,
            "border": null,
            "bottom": null,
            "display": null,
            "flex": null,
            "flex_flow": null,
            "grid_area": null,
            "grid_auto_columns": null,
            "grid_auto_flow": null,
            "grid_auto_rows": null,
            "grid_column": null,
            "grid_gap": null,
            "grid_row": null,
            "grid_template_areas": null,
            "grid_template_columns": null,
            "grid_template_rows": null,
            "height": null,
            "justify_content": null,
            "justify_items": null,
            "left": null,
            "margin": null,
            "max_height": null,
            "max_width": null,
            "min_height": null,
            "min_width": null,
            "object_fit": null,
            "object_position": null,
            "order": null,
            "overflow": null,
            "overflow_x": null,
            "overflow_y": null,
            "padding": null,
            "right": null,
            "top": null,
            "visibility": null,
            "width": null
          }
        },
        "a7f4e59663494090a870817b2578a895": {
          "model_module": "@jupyter-widgets/controls",
          "model_name": "ProgressStyleModel",
          "model_module_version": "1.5.0",
          "state": {
            "_model_module": "@jupyter-widgets/controls",
            "_model_module_version": "1.5.0",
            "_model_name": "ProgressStyleModel",
            "_view_count": null,
            "_view_module": "@jupyter-widgets/base",
            "_view_module_version": "1.2.0",
            "_view_name": "StyleView",
            "bar_color": null,
            "description_width": ""
          }
        },
        "21e27914747c49a1a93488f62100d3df": {
          "model_module": "@jupyter-widgets/base",
          "model_name": "LayoutModel",
          "model_module_version": "1.2.0",
          "state": {
            "_model_module": "@jupyter-widgets/base",
            "_model_module_version": "1.2.0",
            "_model_name": "LayoutModel",
            "_view_count": null,
            "_view_module": "@jupyter-widgets/base",
            "_view_module_version": "1.2.0",
            "_view_name": "LayoutView",
            "align_content": null,
            "align_items": null,
            "align_self": null,
            "border": null,
            "bottom": null,
            "display": null,
            "flex": null,
            "flex_flow": null,
            "grid_area": null,
            "grid_auto_columns": null,
            "grid_auto_flow": null,
            "grid_auto_rows": null,
            "grid_column": null,
            "grid_gap": null,
            "grid_row": null,
            "grid_template_areas": null,
            "grid_template_columns": null,
            "grid_template_rows": null,
            "height": null,
            "justify_content": null,
            "justify_items": null,
            "left": null,
            "margin": null,
            "max_height": null,
            "max_width": null,
            "min_height": null,
            "min_width": null,
            "object_fit": null,
            "object_position": null,
            "order": null,
            "overflow": null,
            "overflow_x": null,
            "overflow_y": null,
            "padding": null,
            "right": null,
            "top": null,
            "visibility": null,
            "width": null
          }
        },
        "9d721bf07a854a5294ca6efbf5688f61": {
          "model_module": "@jupyter-widgets/controls",
          "model_name": "DescriptionStyleModel",
          "model_module_version": "1.5.0",
          "state": {
            "_model_module": "@jupyter-widgets/controls",
            "_model_module_version": "1.5.0",
            "_model_name": "DescriptionStyleModel",
            "_view_count": null,
            "_view_module": "@jupyter-widgets/base",
            "_view_module_version": "1.2.0",
            "_view_name": "StyleView",
            "description_width": ""
          }
        },
        "ab60bc0c78e346b6931b5890dd024a70": {
          "model_module": "@jupyter-widgets/controls",
          "model_name": "HBoxModel",
          "model_module_version": "1.5.0",
          "state": {
            "_dom_classes": [],
            "_model_module": "@jupyter-widgets/controls",
            "_model_module_version": "1.5.0",
            "_model_name": "HBoxModel",
            "_view_count": null,
            "_view_module": "@jupyter-widgets/controls",
            "_view_module_version": "1.5.0",
            "_view_name": "HBoxView",
            "box_style": "",
            "children": [
              "IPY_MODEL_6a0e3eaac4fc45daa4d4a7b56a94a7aa",
              "IPY_MODEL_0d58182b2e6d4ca0a1e068ed5529a97d",
              "IPY_MODEL_f82a3456bb9243309382c491324cd394"
            ],
            "layout": "IPY_MODEL_4f1bb4d646a549b48ef165ec87e7042d"
          }
        },
        "6a0e3eaac4fc45daa4d4a7b56a94a7aa": {
          "model_module": "@jupyter-widgets/controls",
          "model_name": "HTMLModel",
          "model_module_version": "1.5.0",
          "state": {
            "_dom_classes": [],
            "_model_module": "@jupyter-widgets/controls",
            "_model_module_version": "1.5.0",
            "_model_name": "HTMLModel",
            "_view_count": null,
            "_view_module": "@jupyter-widgets/controls",
            "_view_module_version": "1.5.0",
            "_view_name": "HTMLView",
            "description": "",
            "description_tooltip": null,
            "layout": "IPY_MODEL_000f2f54609e46c3a8f579cf0951e88e",
            "placeholder": "​",
            "style": "IPY_MODEL_1d2516f975ea450cb22d0f48c3afc6b0",
            "value": "Computing transition probabilities: 100%"
          }
        },
        "0d58182b2e6d4ca0a1e068ed5529a97d": {
          "model_module": "@jupyter-widgets/controls",
          "model_name": "FloatProgressModel",
          "model_module_version": "1.5.0",
          "state": {
            "_dom_classes": [],
            "_model_module": "@jupyter-widgets/controls",
            "_model_module_version": "1.5.0",
            "_model_name": "FloatProgressModel",
            "_view_count": null,
            "_view_module": "@jupyter-widgets/controls",
            "_view_module_version": "1.5.0",
            "_view_name": "ProgressView",
            "bar_style": "success",
            "description": "",
            "description_tooltip": null,
            "layout": "IPY_MODEL_838f1a2f6ae84974afcf1f555c272095",
            "max": 105,
            "min": 0,
            "orientation": "horizontal",
            "style": "IPY_MODEL_0dbfcfcfb7ba4a1ba37c57d85d64e99c",
            "value": 105
          }
        },
        "f82a3456bb9243309382c491324cd394": {
          "model_module": "@jupyter-widgets/controls",
          "model_name": "HTMLModel",
          "model_module_version": "1.5.0",
          "state": {
            "_dom_classes": [],
            "_model_module": "@jupyter-widgets/controls",
            "_model_module_version": "1.5.0",
            "_model_name": "HTMLModel",
            "_view_count": null,
            "_view_module": "@jupyter-widgets/controls",
            "_view_module_version": "1.5.0",
            "_view_name": "HTMLView",
            "description": "",
            "description_tooltip": null,
            "layout": "IPY_MODEL_cf35f4269815496aa77b1273c788f81e",
            "placeholder": "​",
            "style": "IPY_MODEL_bbc0e8b4268f40d39c9afce7f47ce0a7",
            "value": " 105/105 [00:00&lt;00:00, 1639.49it/s]"
          }
        },
        "4f1bb4d646a549b48ef165ec87e7042d": {
          "model_module": "@jupyter-widgets/base",
          "model_name": "LayoutModel",
          "model_module_version": "1.2.0",
          "state": {
            "_model_module": "@jupyter-widgets/base",
            "_model_module_version": "1.2.0",
            "_model_name": "LayoutModel",
            "_view_count": null,
            "_view_module": "@jupyter-widgets/base",
            "_view_module_version": "1.2.0",
            "_view_name": "LayoutView",
            "align_content": null,
            "align_items": null,
            "align_self": null,
            "border": null,
            "bottom": null,
            "display": null,
            "flex": null,
            "flex_flow": null,
            "grid_area": null,
            "grid_auto_columns": null,
            "grid_auto_flow": null,
            "grid_auto_rows": null,
            "grid_column": null,
            "grid_gap": null,
            "grid_row": null,
            "grid_template_areas": null,
            "grid_template_columns": null,
            "grid_template_rows": null,
            "height": null,
            "justify_content": null,
            "justify_items": null,
            "left": null,
            "margin": null,
            "max_height": null,
            "max_width": null,
            "min_height": null,
            "min_width": null,
            "object_fit": null,
            "object_position": null,
            "order": null,
            "overflow": null,
            "overflow_x": null,
            "overflow_y": null,
            "padding": null,
            "right": null,
            "top": null,
            "visibility": null,
            "width": null
          }
        },
        "000f2f54609e46c3a8f579cf0951e88e": {
          "model_module": "@jupyter-widgets/base",
          "model_name": "LayoutModel",
          "model_module_version": "1.2.0",
          "state": {
            "_model_module": "@jupyter-widgets/base",
            "_model_module_version": "1.2.0",
            "_model_name": "LayoutModel",
            "_view_count": null,
            "_view_module": "@jupyter-widgets/base",
            "_view_module_version": "1.2.0",
            "_view_name": "LayoutView",
            "align_content": null,
            "align_items": null,
            "align_self": null,
            "border": null,
            "bottom": null,
            "display": null,
            "flex": null,
            "flex_flow": null,
            "grid_area": null,
            "grid_auto_columns": null,
            "grid_auto_flow": null,
            "grid_auto_rows": null,
            "grid_column": null,
            "grid_gap": null,
            "grid_row": null,
            "grid_template_areas": null,
            "grid_template_columns": null,
            "grid_template_rows": null,
            "height": null,
            "justify_content": null,
            "justify_items": null,
            "left": null,
            "margin": null,
            "max_height": null,
            "max_width": null,
            "min_height": null,
            "min_width": null,
            "object_fit": null,
            "object_position": null,
            "order": null,
            "overflow": null,
            "overflow_x": null,
            "overflow_y": null,
            "padding": null,
            "right": null,
            "top": null,
            "visibility": null,
            "width": null
          }
        },
        "1d2516f975ea450cb22d0f48c3afc6b0": {
          "model_module": "@jupyter-widgets/controls",
          "model_name": "DescriptionStyleModel",
          "model_module_version": "1.5.0",
          "state": {
            "_model_module": "@jupyter-widgets/controls",
            "_model_module_version": "1.5.0",
            "_model_name": "DescriptionStyleModel",
            "_view_count": null,
            "_view_module": "@jupyter-widgets/base",
            "_view_module_version": "1.2.0",
            "_view_name": "StyleView",
            "description_width": ""
          }
        },
        "838f1a2f6ae84974afcf1f555c272095": {
          "model_module": "@jupyter-widgets/base",
          "model_name": "LayoutModel",
          "model_module_version": "1.2.0",
          "state": {
            "_model_module": "@jupyter-widgets/base",
            "_model_module_version": "1.2.0",
            "_model_name": "LayoutModel",
            "_view_count": null,
            "_view_module": "@jupyter-widgets/base",
            "_view_module_version": "1.2.0",
            "_view_name": "LayoutView",
            "align_content": null,
            "align_items": null,
            "align_self": null,
            "border": null,
            "bottom": null,
            "display": null,
            "flex": null,
            "flex_flow": null,
            "grid_area": null,
            "grid_auto_columns": null,
            "grid_auto_flow": null,
            "grid_auto_rows": null,
            "grid_column": null,
            "grid_gap": null,
            "grid_row": null,
            "grid_template_areas": null,
            "grid_template_columns": null,
            "grid_template_rows": null,
            "height": null,
            "justify_content": null,
            "justify_items": null,
            "left": null,
            "margin": null,
            "max_height": null,
            "max_width": null,
            "min_height": null,
            "min_width": null,
            "object_fit": null,
            "object_position": null,
            "order": null,
            "overflow": null,
            "overflow_x": null,
            "overflow_y": null,
            "padding": null,
            "right": null,
            "top": null,
            "visibility": null,
            "width": null
          }
        },
        "0dbfcfcfb7ba4a1ba37c57d85d64e99c": {
          "model_module": "@jupyter-widgets/controls",
          "model_name": "ProgressStyleModel",
          "model_module_version": "1.5.0",
          "state": {
            "_model_module": "@jupyter-widgets/controls",
            "_model_module_version": "1.5.0",
            "_model_name": "ProgressStyleModel",
            "_view_count": null,
            "_view_module": "@jupyter-widgets/base",
            "_view_module_version": "1.2.0",
            "_view_name": "StyleView",
            "bar_color": null,
            "description_width": ""
          }
        },
        "cf35f4269815496aa77b1273c788f81e": {
          "model_module": "@jupyter-widgets/base",
          "model_name": "LayoutModel",
          "model_module_version": "1.2.0",
          "state": {
            "_model_module": "@jupyter-widgets/base",
            "_model_module_version": "1.2.0",
            "_model_name": "LayoutModel",
            "_view_count": null,
            "_view_module": "@jupyter-widgets/base",
            "_view_module_version": "1.2.0",
            "_view_name": "LayoutView",
            "align_content": null,
            "align_items": null,
            "align_self": null,
            "border": null,
            "bottom": null,
            "display": null,
            "flex": null,
            "flex_flow": null,
            "grid_area": null,
            "grid_auto_columns": null,
            "grid_auto_flow": null,
            "grid_auto_rows": null,
            "grid_column": null,
            "grid_gap": null,
            "grid_row": null,
            "grid_template_areas": null,
            "grid_template_columns": null,
            "grid_template_rows": null,
            "height": null,
            "justify_content": null,
            "justify_items": null,
            "left": null,
            "margin": null,
            "max_height": null,
            "max_width": null,
            "min_height": null,
            "min_width": null,
            "object_fit": null,
            "object_position": null,
            "order": null,
            "overflow": null,
            "overflow_x": null,
            "overflow_y": null,
            "padding": null,
            "right": null,
            "top": null,
            "visibility": null,
            "width": null
          }
        },
        "bbc0e8b4268f40d39c9afce7f47ce0a7": {
          "model_module": "@jupyter-widgets/controls",
          "model_name": "DescriptionStyleModel",
          "model_module_version": "1.5.0",
          "state": {
            "_model_module": "@jupyter-widgets/controls",
            "_model_module_version": "1.5.0",
            "_model_name": "DescriptionStyleModel",
            "_view_count": null,
            "_view_module": "@jupyter-widgets/base",
            "_view_module_version": "1.2.0",
            "_view_name": "StyleView",
            "description_width": ""
          }
        },
        "3b966b53e16c49c8a7a09e83ca0ae429": {
          "model_module": "@jupyter-widgets/controls",
          "model_name": "HBoxModel",
          "model_module_version": "1.5.0",
          "state": {
            "_dom_classes": [],
            "_model_module": "@jupyter-widgets/controls",
            "_model_module_version": "1.5.0",
            "_model_name": "HBoxModel",
            "_view_count": null,
            "_view_module": "@jupyter-widgets/controls",
            "_view_module_version": "1.5.0",
            "_view_name": "HBoxView",
            "box_style": "",
            "children": [
              "IPY_MODEL_24cf348904464f808e710e2e3c6a69f4",
              "IPY_MODEL_16b9953a5e1c492d8135af0106749257",
              "IPY_MODEL_1e0e1dda2d724845bb921e6989ee3ecd"
            ],
            "layout": "IPY_MODEL_9fe4d0f97cd649e69bb9043156f075b9"
          }
        },
        "24cf348904464f808e710e2e3c6a69f4": {
          "model_module": "@jupyter-widgets/controls",
          "model_name": "HTMLModel",
          "model_module_version": "1.5.0",
          "state": {
            "_dom_classes": [],
            "_model_module": "@jupyter-widgets/controls",
            "_model_module_version": "1.5.0",
            "_model_name": "HTMLModel",
            "_view_count": null,
            "_view_module": "@jupyter-widgets/controls",
            "_view_module_version": "1.5.0",
            "_view_name": "HTMLView",
            "description": "",
            "description_tooltip": null,
            "layout": "IPY_MODEL_e8be574640c742378d8f6b20edaf5940",
            "placeholder": "​",
            "style": "IPY_MODEL_11ffe601bf67477eb1a5d7488f81d618",
            "value": "Computing transition probabilities: 100%"
          }
        },
        "16b9953a5e1c492d8135af0106749257": {
          "model_module": "@jupyter-widgets/controls",
          "model_name": "FloatProgressModel",
          "model_module_version": "1.5.0",
          "state": {
            "_dom_classes": [],
            "_model_module": "@jupyter-widgets/controls",
            "_model_module_version": "1.5.0",
            "_model_name": "FloatProgressModel",
            "_view_count": null,
            "_view_module": "@jupyter-widgets/controls",
            "_view_module_version": "1.5.0",
            "_view_name": "ProgressView",
            "bar_style": "success",
            "description": "",
            "description_tooltip": null,
            "layout": "IPY_MODEL_85bde68c75c54ace946d2dd988a0c8b6",
            "max": 105,
            "min": 0,
            "orientation": "horizontal",
            "style": "IPY_MODEL_6867b404b8a140f19591a9bb46333f0b",
            "value": 105
          }
        },
        "1e0e1dda2d724845bb921e6989ee3ecd": {
          "model_module": "@jupyter-widgets/controls",
          "model_name": "HTMLModel",
          "model_module_version": "1.5.0",
          "state": {
            "_dom_classes": [],
            "_model_module": "@jupyter-widgets/controls",
            "_model_module_version": "1.5.0",
            "_model_name": "HTMLModel",
            "_view_count": null,
            "_view_module": "@jupyter-widgets/controls",
            "_view_module_version": "1.5.0",
            "_view_name": "HTMLView",
            "description": "",
            "description_tooltip": null,
            "layout": "IPY_MODEL_3dbc891c2b0648279afb2ebc6d410bbe",
            "placeholder": "​",
            "style": "IPY_MODEL_00bf3dd7e1db4a23a662f8874217a2f1",
            "value": " 105/105 [00:00&lt;00:00, 1588.04it/s]"
          }
        },
        "9fe4d0f97cd649e69bb9043156f075b9": {
          "model_module": "@jupyter-widgets/base",
          "model_name": "LayoutModel",
          "model_module_version": "1.2.0",
          "state": {
            "_model_module": "@jupyter-widgets/base",
            "_model_module_version": "1.2.0",
            "_model_name": "LayoutModel",
            "_view_count": null,
            "_view_module": "@jupyter-widgets/base",
            "_view_module_version": "1.2.0",
            "_view_name": "LayoutView",
            "align_content": null,
            "align_items": null,
            "align_self": null,
            "border": null,
            "bottom": null,
            "display": null,
            "flex": null,
            "flex_flow": null,
            "grid_area": null,
            "grid_auto_columns": null,
            "grid_auto_flow": null,
            "grid_auto_rows": null,
            "grid_column": null,
            "grid_gap": null,
            "grid_row": null,
            "grid_template_areas": null,
            "grid_template_columns": null,
            "grid_template_rows": null,
            "height": null,
            "justify_content": null,
            "justify_items": null,
            "left": null,
            "margin": null,
            "max_height": null,
            "max_width": null,
            "min_height": null,
            "min_width": null,
            "object_fit": null,
            "object_position": null,
            "order": null,
            "overflow": null,
            "overflow_x": null,
            "overflow_y": null,
            "padding": null,
            "right": null,
            "top": null,
            "visibility": null,
            "width": null
          }
        },
        "e8be574640c742378d8f6b20edaf5940": {
          "model_module": "@jupyter-widgets/base",
          "model_name": "LayoutModel",
          "model_module_version": "1.2.0",
          "state": {
            "_model_module": "@jupyter-widgets/base",
            "_model_module_version": "1.2.0",
            "_model_name": "LayoutModel",
            "_view_count": null,
            "_view_module": "@jupyter-widgets/base",
            "_view_module_version": "1.2.0",
            "_view_name": "LayoutView",
            "align_content": null,
            "align_items": null,
            "align_self": null,
            "border": null,
            "bottom": null,
            "display": null,
            "flex": null,
            "flex_flow": null,
            "grid_area": null,
            "grid_auto_columns": null,
            "grid_auto_flow": null,
            "grid_auto_rows": null,
            "grid_column": null,
            "grid_gap": null,
            "grid_row": null,
            "grid_template_areas": null,
            "grid_template_columns": null,
            "grid_template_rows": null,
            "height": null,
            "justify_content": null,
            "justify_items": null,
            "left": null,
            "margin": null,
            "max_height": null,
            "max_width": null,
            "min_height": null,
            "min_width": null,
            "object_fit": null,
            "object_position": null,
            "order": null,
            "overflow": null,
            "overflow_x": null,
            "overflow_y": null,
            "padding": null,
            "right": null,
            "top": null,
            "visibility": null,
            "width": null
          }
        },
        "11ffe601bf67477eb1a5d7488f81d618": {
          "model_module": "@jupyter-widgets/controls",
          "model_name": "DescriptionStyleModel",
          "model_module_version": "1.5.0",
          "state": {
            "_model_module": "@jupyter-widgets/controls",
            "_model_module_version": "1.5.0",
            "_model_name": "DescriptionStyleModel",
            "_view_count": null,
            "_view_module": "@jupyter-widgets/base",
            "_view_module_version": "1.2.0",
            "_view_name": "StyleView",
            "description_width": ""
          }
        },
        "85bde68c75c54ace946d2dd988a0c8b6": {
          "model_module": "@jupyter-widgets/base",
          "model_name": "LayoutModel",
          "model_module_version": "1.2.0",
          "state": {
            "_model_module": "@jupyter-widgets/base",
            "_model_module_version": "1.2.0",
            "_model_name": "LayoutModel",
            "_view_count": null,
            "_view_module": "@jupyter-widgets/base",
            "_view_module_version": "1.2.0",
            "_view_name": "LayoutView",
            "align_content": null,
            "align_items": null,
            "align_self": null,
            "border": null,
            "bottom": null,
            "display": null,
            "flex": null,
            "flex_flow": null,
            "grid_area": null,
            "grid_auto_columns": null,
            "grid_auto_flow": null,
            "grid_auto_rows": null,
            "grid_column": null,
            "grid_gap": null,
            "grid_row": null,
            "grid_template_areas": null,
            "grid_template_columns": null,
            "grid_template_rows": null,
            "height": null,
            "justify_content": null,
            "justify_items": null,
            "left": null,
            "margin": null,
            "max_height": null,
            "max_width": null,
            "min_height": null,
            "min_width": null,
            "object_fit": null,
            "object_position": null,
            "order": null,
            "overflow": null,
            "overflow_x": null,
            "overflow_y": null,
            "padding": null,
            "right": null,
            "top": null,
            "visibility": null,
            "width": null
          }
        },
        "6867b404b8a140f19591a9bb46333f0b": {
          "model_module": "@jupyter-widgets/controls",
          "model_name": "ProgressStyleModel",
          "model_module_version": "1.5.0",
          "state": {
            "_model_module": "@jupyter-widgets/controls",
            "_model_module_version": "1.5.0",
            "_model_name": "ProgressStyleModel",
            "_view_count": null,
            "_view_module": "@jupyter-widgets/base",
            "_view_module_version": "1.2.0",
            "_view_name": "StyleView",
            "bar_color": null,
            "description_width": ""
          }
        },
        "3dbc891c2b0648279afb2ebc6d410bbe": {
          "model_module": "@jupyter-widgets/base",
          "model_name": "LayoutModel",
          "model_module_version": "1.2.0",
          "state": {
            "_model_module": "@jupyter-widgets/base",
            "_model_module_version": "1.2.0",
            "_model_name": "LayoutModel",
            "_view_count": null,
            "_view_module": "@jupyter-widgets/base",
            "_view_module_version": "1.2.0",
            "_view_name": "LayoutView",
            "align_content": null,
            "align_items": null,
            "align_self": null,
            "border": null,
            "bottom": null,
            "display": null,
            "flex": null,
            "flex_flow": null,
            "grid_area": null,
            "grid_auto_columns": null,
            "grid_auto_flow": null,
            "grid_auto_rows": null,
            "grid_column": null,
            "grid_gap": null,
            "grid_row": null,
            "grid_template_areas": null,
            "grid_template_columns": null,
            "grid_template_rows": null,
            "height": null,
            "justify_content": null,
            "justify_items": null,
            "left": null,
            "margin": null,
            "max_height": null,
            "max_width": null,
            "min_height": null,
            "min_width": null,
            "object_fit": null,
            "object_position": null,
            "order": null,
            "overflow": null,
            "overflow_x": null,
            "overflow_y": null,
            "padding": null,
            "right": null,
            "top": null,
            "visibility": null,
            "width": null
          }
        },
        "00bf3dd7e1db4a23a662f8874217a2f1": {
          "model_module": "@jupyter-widgets/controls",
          "model_name": "DescriptionStyleModel",
          "model_module_version": "1.5.0",
          "state": {
            "_model_module": "@jupyter-widgets/controls",
            "_model_module_version": "1.5.0",
            "_model_name": "DescriptionStyleModel",
            "_view_count": null,
            "_view_module": "@jupyter-widgets/base",
            "_view_module_version": "1.2.0",
            "_view_name": "StyleView",
            "description_width": ""
          }
        }
      }
    }
  },
  "cells": [
    {
      "cell_type": "markdown",
      "source": [
        "Σε αυτήν την εργασία, τα αποτελέσματα θα διαφέρουν κάθε φορά που εκτελούμε τον κώδικα, λόγω της τυχαιότητας της εκτέλεσης της εντολής node2vec, αλλά σε κάθε περίπτωση είναι σχεδόν πανομοιότυπα."
      ],
      "metadata": {
        "id": "6KVYlYB7XpJt"
      }
    },
    {
      "cell_type": "code",
      "source": [
        "!pip install node2vec"
      ],
      "metadata": {
        "colab": {
          "base_uri": "https://localhost:8080/"
        },
        "id": "zX6u_aBbjdl9",
        "outputId": "8a8560cf-abba-495b-9c1c-71db0814f220"
      },
      "execution_count": null,
      "outputs": [
        {
          "output_type": "stream",
          "name": "stdout",
          "text": [
            "Looking in indexes: https://pypi.org/simple, https://us-python.pkg.dev/colab-wheels/public/simple/\n",
            "Requirement already satisfied: node2vec in /usr/local/lib/python3.10/dist-packages (0.4.6)\n",
            "Requirement already satisfied: gensim<5.0.0,>=4.1.2 in /usr/local/lib/python3.10/dist-packages (from node2vec) (4.3.1)\n",
            "Requirement already satisfied: joblib<2.0.0,>=1.1.0 in /usr/local/lib/python3.10/dist-packages (from node2vec) (1.2.0)\n",
            "Requirement already satisfied: networkx<3.0,>=2.5 in /usr/local/lib/python3.10/dist-packages (from node2vec) (2.8.8)\n",
            "Requirement already satisfied: numpy<2.0.0,>=1.19.5 in /usr/local/lib/python3.10/dist-packages (from node2vec) (1.22.4)\n",
            "Requirement already satisfied: tqdm<5.0.0,>=4.55.1 in /usr/local/lib/python3.10/dist-packages (from node2vec) (4.65.0)\n",
            "Requirement already satisfied: scipy>=1.7.0 in /usr/local/lib/python3.10/dist-packages (from gensim<5.0.0,>=4.1.2->node2vec) (1.10.1)\n",
            "Requirement already satisfied: smart-open>=1.8.1 in /usr/local/lib/python3.10/dist-packages (from gensim<5.0.0,>=4.1.2->node2vec) (6.3.0)\n"
          ]
        }
      ]
    },
    {
      "cell_type": "code",
      "execution_count": null,
      "metadata": {
        "id": "vGGs02rFa7AA"
      },
      "outputs": [],
      "source": [
        "import community\n",
        "import networkx as nx\n",
        "import pandas as pd\n",
        "import matplotlib.pyplot as plt\n",
        "import scipy\n",
        "import math\n",
        "from node2vec import Node2Vec\n",
        "from sklearn.cluster import KMeans\n",
        "import numpy as np\n",
        "from sklearn.manifold import TSNE\n",
        "import matplotlib.cm as cm\n",
        "import itertools\n",
        "import random\n",
        "from sklearn.model_selection import train_test_split\n",
        "from sklearn.linear_model import LogisticRegression\n",
        "from sklearn.metrics import accuracy_score, precision_score, recall_score\n",
        "\n",
        "# Create the graph we will need\n",
        "G = nx.read_gml(\"/content/polbooks.gml\", label='id')"
      ]
    },
    {
      "cell_type": "code",
      "source": [
        "nx.is_connected(nx.Graph(G))"
      ],
      "metadata": {
        "colab": {
          "base_uri": "https://localhost:8080/"
        },
        "id": "Sg6K4ZwwdA0l",
        "outputId": "ce80b787-478e-4614-fe52-43b0eac4069c"
      },
      "execution_count": null,
      "outputs": [
        {
          "output_type": "execute_result",
          "data": {
            "text/plain": [
              "True"
            ]
          },
          "metadata": {},
          "execution_count": 3
        }
      ]
    },
    {
      "cell_type": "markdown",
      "source": [
        "Βλέπω ότι ο γράφος είναι συνδεδεμένος, οπότε δεν θα χρειαστεί να πάρω την μεγαλύτερη συνεκτική συνιστώσα.\n",
        "\n",
        "H εργασία ακολουθεί την ίδια προεπεξεργασία αρχείου, όπως και αυτήν που πραγματοποίησα στην 2η εργασία που μας είχε ανατεθεί.\n",
        "\n",
        "Βρίσκουμε αρχικά τα ground truth communities που υπάρχουν, και κάνουμε plot τον γράφο για να έχουμε μία γενική ιδέα για την τοπολογία του δικτύου."
      ],
      "metadata": {
        "id": "kB1AfxghdU2Z"
      }
    },
    {
      "cell_type": "code",
      "source": [
        "# Get the label values for each node\n",
        "node_labels = nx.get_node_attributes(G, \"value\")"
      ],
      "metadata": {
        "id": "ZOfbbOB_dxjH"
      },
      "execution_count": null,
      "outputs": []
    },
    {
      "cell_type": "code",
      "source": [
        "# I want to find my ground truth communities as lists, so first im creating an new dict having as keys the values of my node_labels and \n",
        "# as values, the list of the nodes that had the same label\n",
        "new_dict = {}\n",
        "for value in set(node_labels.values()):\n",
        "    new_dict[value] = []\n",
        "for key, value in node_labels.items():\n",
        "    new_dict[value].append(key)\n",
        "\n",
        "# And now creating the list of our communities \n",
        "communities_ground_truth = [[value for value in values] for values in new_dict.values()]"
      ],
      "metadata": {
        "id": "X9dg6BvmehOR"
      },
      "execution_count": null,
      "outputs": []
    },
    {
      "cell_type": "code",
      "source": [
        "# We have 3 ground truth communities so we are using three colors in order to plot the graph\n",
        "pos = nx.spring_layout(G)\n",
        "plt.figure(figsize=(15,10))\n",
        "colors = ['salmon', 'lightblue','yellow']\n",
        "nx.draw_networkx_edges(G, pos=pos, width=3, edge_color='darkgray')\n",
        "for community, color in zip(communities_ground_truth, colors):\n",
        "    nx.draw_networkx_nodes(G, pos=pos, nodelist=community, node_color=color, node_size=640)\n",
        "nx.draw_networkx_labels(G, pos=pos)\n",
        "_ = plt.axis('off')"
      ],
      "metadata": {
        "colab": {
          "base_uri": "https://localhost:8080/",
          "height": 807
        },
        "id": "7z0zB7YFdBSS",
        "outputId": "9daedfe3-73e7-46cd-cd35-64afea31a6f1"
      },
      "execution_count": null,
      "outputs": [
        {
          "output_type": "display_data",
          "data": {
            "text/plain": [
              "<Figure size 1500x1000 with 1 Axes>"
            ],
            "image/png": "[encoded data removed]"
          },
          "metadata": {}
        }
      ]
    },
    {
      "cell_type": "code",
      "source": [
        "# Creating again the label_dict to store the label of each cluster\n",
        "label_dict={}\n",
        "for i, j in enumerate(communities_ground_truth):\n",
        "  for value in j:\n",
        "    label_dict[value] = i\n",
        "\n",
        "# And now appending the labels in our previous dataframe \n",
        "# We will store all of our information in a dataframe so that we can manipulate it easier\n",
        "df = pd.DataFrame.from_dict(label_dict, orient='index',columns=['ground_truth_labels'])\n",
        "df.sort_index(inplace=True)\n"
      ],
      "metadata": {
        "id": "KnCYxsHXpv-5"
      },
      "execution_count": null,
      "outputs": []
    },
    {
      "cell_type": "markdown",
      "source": [
        "Εδώ πέρα σχηματίζουμε τα node embeddings και τις τις 3 διαφορετικές περιπτώσεις\n",
        "Ο κώδικας θα είναι ο ίδιος για κάθε περίπτωση node embedding και το μόνο που θα αλλάζει είναι η ονομασία των μεταβλητών για να ξεχωρίζουμε κάθε φορά την περίπτωση στην οποία βρισκόμαστε."
      ],
      "metadata": {
        "id": "ZG8t_ilwUiYk"
      }
    },
    {
      "cell_type": "markdown",
      "source": [
        "# Node2Vec q=2, p=1 "
      ],
      "metadata": {
        "id": "6SG_Wi1AjrTD"
      }
    },
    {
      "cell_type": "code",
      "source": [
        "# Compute Node Embeddings \n",
        "first_node2vec = Node2Vec(G, dimensions=64, p=1, q=2)\n",
        "\n",
        "# Fitting the model\n",
        "first_model = first_node2vec.fit()\n",
        "\n",
        "# Creating the embeddings variable \n",
        "embeddings_1 = first_model.wv\n",
        "\n",
        "# Get the node names (keys)\n",
        "nodes = first_model.wv.index_to_key\n",
        "\n",
        "# Create a dictionary to store the node embeddings\n",
        "node_embeddings = {}\n",
        "\n",
        "# Adding values to the dictionary\n",
        "for node in nodes:\n",
        "    embedding = first_model.wv[node]\n",
        "    node_embeddings[node] = embedding\n",
        "\n",
        "# Create a DataFrame from the dictionary\n",
        "df_embed_1 = pd.DataFrame.from_dict(node_embeddings, orient='index')\n",
        "\n",
        "# Rename the columns with names of their dimensions\n",
        "df_embed_1.columns = [f'dimension_{i}' for i in range(df_embed_1.shape[1])]\n",
        "\n",
        "df_embed_1.index.name = 'node_index'\n",
        "\n",
        "# Convert the index from string to numeric\n",
        "df_embed_1.index = pd.to_numeric(df_embed_1.index)\n",
        "\n",
        "# Sorting the values in order for our dataframe to be easier readable\n",
        "df_embed_1.sort_index(inplace=True)\n"
      ],
      "metadata": {
        "colab": {
          "base_uri": "https://localhost:8080/",
          "height": 66,
          "referenced_widgets": [
            "9e68beeca9f847e2a4ecbc3176157efd",
            "8cff5f25246047beaeedd355d2e3ed3b",
            "bda5bfb52ca445c8bc9db245128c5fdd",
            "07e3c3a16577465e98eb2b9fa4c38832",
            "055a418637264bffad100a8c5c0549b2",
            "1e4f6549c55d48febbbdd0360489b34a",
            "3cd46a3d258a40cb987745972f8884c3",
            "3098aa11152b4590873ab699102e26d3",
            "a7f4e59663494090a870817b2578a895",
            "21e27914747c49a1a93488f62100d3df",
            "9d721bf07a854a5294ca6efbf5688f61"
          ]
        },
        "id": "L1nS64PzfQ40",
        "outputId": "2bf5a1a3-86bc-4450-985d-5de0efab78fd"
      },
      "execution_count": null,
      "outputs": [
        {
          "output_type": "display_data",
          "data": {
            "text/plain": [
              "Computing transition probabilities:   0%|          | 0/105 [00:00<?, ?it/s]"
            ],
            "application/vnd.jupyter.widget-view+json": {
              "version_major": 2,
              "version_minor": 0,
              "model_id": "9e68beeca9f847e2a4ecbc3176157efd"
            }
          },
          "metadata": {}
        },
        {
          "output_type": "stream",
          "name": "stderr",
          "text": [
            "Generating walks (CPU: 1): 100%|██████████| 10/10 [00:00<00:00, 31.93it/s]\n"
          ]
        }
      ]
    },
    {
      "cell_type": "code",
      "source": [
        "df_embed_1"
      ],
      "metadata": {
        "colab": {
          "base_uri": "https://localhost:8080/",
          "height": 519
        },
        "id": "9IAhnlNkCSku",
        "outputId": "0f43e8ad-a0b0-42cd-e13c-333e253f6959"
      },
      "execution_count": null,
      "outputs": [
        {
          "output_type": "execute_result",
          "data": {
            "text/plain": [
              "            dimension_0  dimension_1  dimension_2  dimension_3  dimension_4  \\\n",
              "node_index                                                                    \n",
              "0              0.380782     0.024497     0.223754     0.040679     0.203834   \n",
              "1              0.507594     0.182905     0.245334    -0.007272     0.287507   \n",
              "2              0.537692    -0.226548     0.359463     0.030313     0.256596   \n",
              "3              0.315665     0.128133     0.066663    -0.035049    -0.023511   \n",
              "4              0.240428    -0.161633     0.158378     0.108705     0.317314   \n",
              "...                 ...          ...          ...          ...          ...   \n",
              "100            0.150373    -0.181801     0.594582     0.302906    -0.047934   \n",
              "101           -0.006193     0.006308     0.621371     0.306699     0.138523   \n",
              "102            0.221772    -0.197832     0.108362     0.359844     0.291518   \n",
              "103            0.130704    -0.441425     0.016581     0.208934    -0.097638   \n",
              "104            0.163500    -0.427880    -0.031320     0.028816    -0.121972   \n",
              "\n",
              "            dimension_5  dimension_6  dimension_7  dimension_8  dimension_9  \\\n",
              "node_index                                                                    \n",
              "0              0.138521     0.588733    -0.123821    -0.002019    -0.049121   \n",
              "1              0.065491     0.550311    -0.111406    -0.106124     0.008770   \n",
              "2              0.009163     0.573341     0.070331    -0.141248    -0.057821   \n",
              "3             -0.213628     0.319766    -0.267426    -0.302682     0.205724   \n",
              "4              0.122057     0.463975     0.047467     0.184707    -0.248591   \n",
              "...                 ...          ...          ...          ...          ...   \n",
              "100           -0.563759     0.273891     0.028407    -0.292872    -0.154429   \n",
              "101           -0.532451     0.184348    -0.088650    -0.487445    -0.082711   \n",
              "102           -0.029963    -0.121324     0.156095    -0.232820    -0.145173   \n",
              "103           -0.316091     0.224536    -0.058661    -0.084417    -0.619245   \n",
              "104           -0.282225     0.178269    -0.018878     0.017463    -0.605711   \n",
              "\n",
              "            ...  dimension_54  dimension_55  dimension_56  dimension_57  \\\n",
              "node_index  ...                                                           \n",
              "0           ...     -0.058488      0.061970      0.136987     -0.229143   \n",
              "1           ...      0.031278      0.156399      0.259018     -0.285797   \n",
              "2           ...     -0.071552      0.171043      0.075123     -0.279270   \n",
              "3           ...      0.089713      0.264198      0.573541     -0.299346   \n",
              "4           ...     -0.042968      0.143896      0.028739     -0.012058   \n",
              "...         ...           ...           ...           ...           ...   \n",
              "100         ...     -0.145316     -0.041767     -0.248580      0.097835   \n",
              "101         ...     -0.087154     -0.097259     -0.223772     -0.021931   \n",
              "102         ...      0.208738     -0.058067      0.282743      0.176784   \n",
              "103         ...      0.627158      0.134672     -0.354308     -0.173868   \n",
              "104         ...      0.660698      0.258201     -0.225310     -0.147732   \n",
              "\n",
              "            dimension_58  dimension_59  dimension_60  dimension_61  \\\n",
              "node_index                                                           \n",
              "0               0.200530      0.073817      0.150767     -0.447812   \n",
              "1               0.234946      0.012782      0.056053     -0.277065   \n",
              "2               0.149999      0.226983     -0.030184     -0.250959   \n",
              "3               0.130494      0.041288      0.060944     -0.118762   \n",
              "4               0.049006     -0.011567      0.263418     -0.396493   \n",
              "...                  ...           ...           ...           ...   \n",
              "100             0.295400      0.155287      0.452981     -0.524208   \n",
              "101            -0.028750      0.396297      0.446210     -0.435680   \n",
              "102            -0.352645      0.139565      0.094619     -0.704020   \n",
              "103             0.168315      0.696971      0.133269     -0.201123   \n",
              "104             0.162248      0.609681     -0.000264     -0.138748   \n",
              "\n",
              "            dimension_62  dimension_63  \n",
              "node_index                              \n",
              "0              -0.071807     -0.424048  \n",
              "1               0.015622     -0.354627  \n",
              "2              -0.045564     -0.393749  \n",
              "3               0.240348     -0.032609  \n",
              "4               0.145470     -0.506408  \n",
              "...                  ...           ...  \n",
              "100            -0.345153      0.144060  \n",
              "101            -0.507473      0.211379  \n",
              "102            -0.371400      0.141819  \n",
              "103            -0.117476      0.501548  \n",
              "104             0.021876      0.489317  \n",
              "\n",
              "[105 rows x 64 columns]"
            ],
            "text/html": [
              "\n",
              "  <div id=\"df-a7838003-cacf-4247-bf90-2fd45b305855\">\n",
              "    <div class=\"colab-df-container\">\n",
              "      <div>\n",
              "<style scoped>\n",
              "    .dataframe tbody tr th:only-of-type {\n",
              "        vertical-align: middle;\n",
              "    }\n",
              "\n",
              "    .dataframe tbody tr th {\n",
              "        vertical-align: top;\n",
              "    }\n",
              "\n",
              "    .dataframe thead th {\n",
              "        text-align: right;\n",
              "    }\n",
              "</style>\n",
              "<table border=\"1\" class=\"dataframe\">\n",
              "  <thead>\n",
              "    <tr style=\"text-align: right;\">\n",
              "      <th></th>\n",
              "      <th>dimension_0</th>\n",
              "      <th>dimension_1</th>\n",
              "      <th>dimension_2</th>\n",
              "      <th>dimension_3</th>\n",
              "      <th>dimension_4</th>\n",
              "      <th>dimension_5</th>\n",
              "      <th>dimension_6</th>\n",
              "      <th>dimension_7</th>\n",
              "      <th>dimension_8</th>\n",
              "      <th>dimension_9</th>\n",
              "      <th>...</th>\n",
              "      <th>dimension_54</th>\n",
              "      <th>dimension_55</th>\n",
              "      <th>dimension_56</th>\n",
              "      <th>dimension_57</th>\n",
              "      <th>dimension_58</th>\n",
              "      <th>dimension_59</th>\n",
              "      <th>dimension_60</th>\n",
              "      <th>dimension_61</th>\n",
              "      <th>dimension_62</th>\n",
              "      <th>dimension_63</th>\n",
              "    </tr>\n",
              "    <tr>\n",
              "      <th>node_index</th>\n",
              "      <th></th>\n",
              "      <th></th>\n",
              "      <th></th>\n",
              "      <th></th>\n",
              "      <th></th>\n",
              "      <th></th>\n",
              "      <th></th>\n",
              "      <th></th>\n",
              "      <th></th>\n",
              "      <th></th>\n",
              "      <th></th>\n",
              "      <th></th>\n",
              "      <th></th>\n",
              "      <th></th>\n",
              "      <th></th>\n",
              "      <th></th>\n",
              "      <th></th>\n",
              "      <th></th>\n",
              "      <th></th>\n",
              "      <th></th>\n",
              "      <th></th>\n",
              "    </tr>\n",
              "  </thead>\n",
              "  <tbody>\n",
              "    <tr>\n",
              "      <th>0</th>\n",
              "      <td>0.380782</td>\n",
              "      <td>0.024497</td>\n",
              "      <td>0.223754</td>\n",
              "      <td>0.040679</td>\n",
              "      <td>0.203834</td>\n",
              "      <td>0.138521</td>\n",
              "      <td>0.588733</td>\n",
              "      <td>-0.123821</td>\n",
              "      <td>-0.002019</td>\n",
              "      <td>-0.049121</td>\n",
              "      <td>...</td>\n",
              "      <td>-0.058488</td>\n",
              "      <td>0.061970</td>\n",
              "      <td>0.136987</td>\n",
              "      <td>-0.229143</td>\n",
              "      <td>0.200530</td>\n",
              "      <td>0.073817</td>\n",
              "      <td>0.150767</td>\n",
              "      <td>-0.447812</td>\n",
              "      <td>-0.071807</td>\n",
              "      <td>-0.424048</td>\n",
              "    </tr>\n",
              "    <tr>\n",
              "      <th>1</th>\n",
              "      <td>0.507594</td>\n",
              "      <td>0.182905</td>\n",
              "      <td>0.245334</td>\n",
              "      <td>-0.007272</td>\n",
              "      <td>0.287507</td>\n",
              "      <td>0.065491</td>\n",
              "      <td>0.550311</td>\n",
              "      <td>-0.111406</td>\n",
              "      <td>-0.106124</td>\n",
              "      <td>0.008770</td>\n",
              "      <td>...</td>\n",
              "      <td>0.031278</td>\n",
              "      <td>0.156399</td>\n",
              "      <td>0.259018</td>\n",
              "      <td>-0.285797</td>\n",
              "      <td>0.234946</td>\n",
              "      <td>0.012782</td>\n",
              "      <td>0.056053</td>\n",
              "      <td>-0.277065</td>\n",
              "      <td>0.015622</td>\n",
              "      <td>-0.354627</td>\n",
              "    </tr>\n",
              "    <tr>\n",
              "      <th>2</th>\n",
              "      <td>0.537692</td>\n",
              "      <td>-0.226548</td>\n",
              "      <td>0.359463</td>\n",
              "      <td>0.030313</td>\n",
              "      <td>0.256596</td>\n",
              "      <td>0.009163</td>\n",
              "      <td>0.573341</td>\n",
              "      <td>0.070331</td>\n",
              "      <td>-0.141248</td>\n",
              "      <td>-0.057821</td>\n",
              "      <td>...</td>\n",
              "      <td>-0.071552</td>\n",
              "      <td>0.171043</td>\n",
              "      <td>0.075123</td>\n",
              "      <td>-0.279270</td>\n",
              "      <td>0.149999</td>\n",
              "      <td>0.226983</td>\n",
              "      <td>-0.030184</td>\n",
              "      <td>-0.250959</td>\n",
              "      <td>-0.045564</td>\n",
              "      <td>-0.393749</td>\n",
              "    </tr>\n",
              "    <tr>\n",
              "      <th>3</th>\n",
              "      <td>0.315665</td>\n",
              "      <td>0.128133</td>\n",
              "      <td>0.066663</td>\n",
              "      <td>-0.035049</td>\n",
              "      <td>-0.023511</td>\n",
              "      <td>-0.213628</td>\n",
              "      <td>0.319766</td>\n",
              "      <td>-0.267426</td>\n",
              "      <td>-0.302682</td>\n",
              "      <td>0.205724</td>\n",
              "      <td>...</td>\n",
              "      <td>0.089713</td>\n",
              "      <td>0.264198</td>\n",
              "      <td>0.573541</td>\n",
              "      <td>-0.299346</td>\n",
              "      <td>0.130494</td>\n",
              "      <td>0.041288</td>\n",
              "      <td>0.060944</td>\n",
              "      <td>-0.118762</td>\n",
              "      <td>0.240348</td>\n",
              "      <td>-0.032609</td>\n",
              "    </tr>\n",
              "    <tr>\n",
              "      <th>4</th>\n",
              "      <td>0.240428</td>\n",
              "      <td>-0.161633</td>\n",
              "      <td>0.158378</td>\n",
              "      <td>0.108705</td>\n",
              "      <td>0.317314</td>\n",
              "      <td>0.122057</td>\n",
              "      <td>0.463975</td>\n",
              "      <td>0.047467</td>\n",
              "      <td>0.184707</td>\n",
              "      <td>-0.248591</td>\n",
              "      <td>...</td>\n",
              "      <td>-0.042968</td>\n",
              "      <td>0.143896</td>\n",
              "      <td>0.028739</td>\n",
              "      <td>-0.012058</td>\n",
              "      <td>0.049006</td>\n",
              "      <td>-0.011567</td>\n",
              "      <td>0.263418</td>\n",
              "      <td>-0.396493</td>\n",
              "      <td>0.145470</td>\n",
              "      <td>-0.506408</td>\n",
              "    </tr>\n",
              "    <tr>\n",
              "      <th>...</th>\n",
              "      <td>...</td>\n",
              "      <td>...</td>\n",
              "      <td>...</td>\n",
              "      <td>...</td>\n",
              "      <td>...</td>\n",
              "      <td>...</td>\n",
              "      <td>...</td>\n",
              "      <td>...</td>\n",
              "      <td>...</td>\n",
              "      <td>...</td>\n",
              "      <td>...</td>\n",
              "      <td>...</td>\n",
              "      <td>...</td>\n",
              "      <td>...</td>\n",
              "      <td>...</td>\n",
              "      <td>...</td>\n",
              "      <td>...</td>\n",
              "      <td>...</td>\n",
              "      <td>...</td>\n",
              "      <td>...</td>\n",
              "      <td>...</td>\n",
              "    </tr>\n",
              "    <tr>\n",
              "      <th>100</th>\n",
              "      <td>0.150373</td>\n",
              "      <td>-0.181801</td>\n",
              "      <td>0.594582</td>\n",
              "      <td>0.302906</td>\n",
              "      <td>-0.047934</td>\n",
              "      <td>-0.563759</td>\n",
              "      <td>0.273891</td>\n",
              "      <td>0.028407</td>\n",
              "      <td>-0.292872</td>\n",
              "      <td>-0.154429</td>\n",
              "      <td>...</td>\n",
              "      <td>-0.145316</td>\n",
              "      <td>-0.041767</td>\n",
              "      <td>-0.248580</td>\n",
              "      <td>0.097835</td>\n",
              "      <td>0.295400</td>\n",
              "      <td>0.155287</td>\n",
              "      <td>0.452981</td>\n",
              "      <td>-0.524208</td>\n",
              "      <td>-0.345153</td>\n",
              "      <td>0.144060</td>\n",
              "    </tr>\n",
              "    <tr>\n",
              "      <th>101</th>\n",
              "      <td>-0.006193</td>\n",
              "      <td>0.006308</td>\n",
              "      <td>0.621371</td>\n",
              "      <td>0.306699</td>\n",
              "      <td>0.138523</td>\n",
              "      <td>-0.532451</td>\n",
              "      <td>0.184348</td>\n",
              "      <td>-0.088650</td>\n",
              "      <td>-0.487445</td>\n",
              "      <td>-0.082711</td>\n",
              "      <td>...</td>\n",
              "      <td>-0.087154</td>\n",
              "      <td>-0.097259</td>\n",
              "      <td>-0.223772</td>\n",
              "      <td>-0.021931</td>\n",
              "      <td>-0.028750</td>\n",
              "      <td>0.396297</td>\n",
              "      <td>0.446210</td>\n",
              "      <td>-0.435680</td>\n",
              "      <td>-0.507473</td>\n",
              "      <td>0.211379</td>\n",
              "    </tr>\n",
              "    <tr>\n",
              "      <th>102</th>\n",
              "      <td>0.221772</td>\n",
              "      <td>-0.197832</td>\n",
              "      <td>0.108362</td>\n",
              "      <td>0.359844</td>\n",
              "      <td>0.291518</td>\n",
              "      <td>-0.029963</td>\n",
              "      <td>-0.121324</td>\n",
              "      <td>0.156095</td>\n",
              "      <td>-0.232820</td>\n",
              "      <td>-0.145173</td>\n",
              "      <td>...</td>\n",
              "      <td>0.208738</td>\n",
              "      <td>-0.058067</td>\n",
              "      <td>0.282743</td>\n",
              "      <td>0.176784</td>\n",
              "      <td>-0.352645</td>\n",
              "      <td>0.139565</td>\n",
              "      <td>0.094619</td>\n",
              "      <td>-0.704020</td>\n",
              "      <td>-0.371400</td>\n",
              "      <td>0.141819</td>\n",
              "    </tr>\n",
              "    <tr>\n",
              "      <th>103</th>\n",
              "      <td>0.130704</td>\n",
              "      <td>-0.441425</td>\n",
              "      <td>0.016581</td>\n",
              "      <td>0.208934</td>\n",
              "      <td>-0.097638</td>\n",
              "      <td>-0.316091</td>\n",
              "      <td>0.224536</td>\n",
              "      <td>-0.058661</td>\n",
              "      <td>-0.084417</td>\n",
              "      <td>-0.619245</td>\n",
              "      <td>...</td>\n",
              "      <td>0.627158</td>\n",
              "      <td>0.134672</td>\n",
              "      <td>-0.354308</td>\n",
              "      <td>-0.173868</td>\n",
              "      <td>0.168315</td>\n",
              "      <td>0.696971</td>\n",
              "      <td>0.133269</td>\n",
              "      <td>-0.201123</td>\n",
              "      <td>-0.117476</td>\n",
              "      <td>0.501548</td>\n",
              "    </tr>\n",
              "    <tr>\n",
              "      <th>104</th>\n",
              "      <td>0.163500</td>\n",
              "      <td>-0.427880</td>\n",
              "      <td>-0.031320</td>\n",
              "      <td>0.028816</td>\n",
              "      <td>-0.121972</td>\n",
              "      <td>-0.282225</td>\n",
              "      <td>0.178269</td>\n",
              "      <td>-0.018878</td>\n",
              "      <td>0.017463</td>\n",
              "      <td>-0.605711</td>\n",
              "      <td>...</td>\n",
              "      <td>0.660698</td>\n",
              "      <td>0.258201</td>\n",
              "      <td>-0.225310</td>\n",
              "      <td>-0.147732</td>\n",
              "      <td>0.162248</td>\n",
              "      <td>0.609681</td>\n",
              "      <td>-0.000264</td>\n",
              "      <td>-0.138748</td>\n",
              "      <td>0.021876</td>\n",
              "      <td>0.489317</td>\n",
              "    </tr>\n",
              "  </tbody>\n",
              "</table>\n",
              "<p>105 rows × 64 columns</p>\n",
              "</div>\n",
              "      <button class=\"colab-df-convert\" onclick=\"convertToInteractive('df-a7838003-cacf-4247-bf90-2fd45b305855')\"\n",
              "              title=\"Convert this dataframe to an interactive table.\"\n",
              "              style=\"display:none;\">\n",
              "        \n",
              "  <svg xmlns=\"http://www.w3.org/2000/svg\" height=\"24px\"viewBox=\"0 0 24 24\"\n",
              "       width=\"24px\">\n",
              "    <path d=\"M0 0h24v24H0V0z\" fill=\"none\"/>\n",
              "    <path d=\"M18.56 5.44l.94 2.06.94-2.06 2.06-.94-2.06-.94-.94-2.06-.94 2.06-2.06.94zm-11 1L8.5 8.5l.94-2.06 2.06-.94-2.06-.94L8.5 2.5l-.94 2.06-2.06.94zm10 10l.94 2.06.94-2.06 2.06-.94-2.06-.94-.94-2.06-.94 2.06-2.06.94z\"/><path d=\"M17.41 7.96l-1.37-1.37c-.4-.4-.92-.59-1.43-.59-.52 0-1.04.2-1.43.59L10.3 9.45l-7.72 7.72c-.78.78-.78 2.05 0 2.83L4 21.41c.39.39.9.59 1.41.59.51 0 1.02-.2 1.41-.59l7.78-7.78 2.81-2.81c.8-.78.8-2.07 0-2.86zM5.41 20L4 18.59l7.72-7.72 1.47 1.35L5.41 20z\"/>\n",
              "  </svg>\n",
              "      </button>\n",
              "      \n",
              "  <style>\n",
              "    .colab-df-container {\n",
              "      display:flex;\n",
              "      flex-wrap:wrap;\n",
              "      gap: 12px;\n",
              "    }\n",
              "\n",
              "    .colab-df-convert {\n",
              "      background-color: #E8F0FE;\n",
              "      border: none;\n",
              "      border-radius: 50%;\n",
              "      cursor: pointer;\n",
              "      display: none;\n",
              "      fill: #1967D2;\n",
              "      height: 32px;\n",
              "      padding: 0 0 0 0;\n",
              "      width: 32px;\n",
              "    }\n",
              "\n",
              "    .colab-df-convert:hover {\n",
              "      background-color: #E2EBFA;\n",
              "      box-shadow: 0px 1px 2px rgba(60, 64, 67, 0.3), 0px 1px 3px 1px rgba(60, 64, 67, 0.15);\n",
              "      fill: #174EA6;\n",
              "    }\n",
              "\n",
              "    [theme=dark] .colab-df-convert {\n",
              "      background-color: #3B4455;\n",
              "      fill: #D2E3FC;\n",
              "    }\n",
              "\n",
              "    [theme=dark] .colab-df-convert:hover {\n",
              "      background-color: #434B5C;\n",
              "      box-shadow: 0px 1px 3px 1px rgba(0, 0, 0, 0.15);\n",
              "      filter: drop-shadow(0px 1px 2px rgba(0, 0, 0, 0.3));\n",
              "      fill: #FFFFFF;\n",
              "    }\n",
              "  </style>\n",
              "\n",
              "      <script>\n",
              "        const buttonEl =\n",
              "          document.querySelector('#df-a7838003-cacf-4247-bf90-2fd45b305855 button.colab-df-convert');\n",
              "        buttonEl.style.display =\n",
              "          google.colab.kernel.accessAllowed ? 'block' : 'none';\n",
              "\n",
              "        async function convertToInteractive(key) {\n",
              "          const element = document.querySelector('#df-a7838003-cacf-4247-bf90-2fd45b305855');\n",
              "          const dataTable =\n",
              "            await google.colab.kernel.invokeFunction('convertToInteractive',\n",
              "                                                     [key], {});\n",
              "          if (!dataTable) return;\n",
              "\n",
              "          const docLinkHtml = 'Like what you see? Visit the ' +\n",
              "            '<a target=\"_blank\" href=https://colab.research.google.com/notebooks/data_table.ipynb>data table notebook</a>'\n",
              "            + ' to learn more about interactive tables.';\n",
              "          element.innerHTML = '';\n",
              "          dataTable['output_type'] = 'display_data';\n",
              "          await google.colab.output.renderOutput(dataTable, element);\n",
              "          const docLink = document.createElement('div');\n",
              "          docLink.innerHTML = docLinkHtml;\n",
              "          element.appendChild(docLink);\n",
              "        }\n",
              "      </script>\n",
              "    </div>\n",
              "  </div>\n",
              "  "
            ]
          },
          "metadata": {},
          "execution_count": 9
        }
      ]
    },
    {
      "cell_type": "markdown",
      "source": [
        "# Node2Vec q = 0.5, p = 1"
      ],
      "metadata": {
        "id": "wYt7RvLOwWVQ"
      }
    },
    {
      "cell_type": "code",
      "source": [
        "# Compute Node Embeddings \n",
        "second_node2vec = Node2Vec(G, dimensions=64, p=1, q=2)\n",
        "\n",
        "# Fitting the model\n",
        "second_model = second_node2vec.fit()\n",
        "\n",
        "# Creating the embeddings variable \n",
        "embeddings_2 = second_model.wv\n",
        "\n",
        "# Get the node names (keys)\n",
        "nodes_2 = second_model.wv.index_to_key\n",
        "\n",
        "# Create a dictionary to store the node embeddings\n",
        "node_embeddings_2 = {}\n",
        "\n",
        "# Assing values to the dictionary\n",
        "for node in nodes_2:\n",
        "    embedding = second_model.wv[node]\n",
        "    node_embeddings_2[node] = embedding\n",
        "\n",
        "# Create a DataFrame from the dictionary\n",
        "df_embed_2 = pd.DataFrame.from_dict(node_embeddings_2, orient='index')\n",
        "\n",
        "# Rename the columns with names of their dimensions\n",
        "df_embed_2.columns = [f'dimension_{i}' for i in range(df_embed_2.shape[1])]\n",
        "\n",
        "df_embed_2.index.name = 'node_index'\n",
        "\n",
        "# Convert the index from string to numeric\n",
        "df_embed_2.index = pd.to_numeric(df_embed_2.index)\n",
        "\n",
        "df_embed_2.sort_index(inplace=True)"
      ],
      "metadata": {
        "colab": {
          "base_uri": "https://localhost:8080/",
          "height": 66,
          "referenced_widgets": [
            "ab60bc0c78e346b6931b5890dd024a70",
            "6a0e3eaac4fc45daa4d4a7b56a94a7aa",
            "0d58182b2e6d4ca0a1e068ed5529a97d",
            "f82a3456bb9243309382c491324cd394",
            "4f1bb4d646a549b48ef165ec87e7042d",
            "000f2f54609e46c3a8f579cf0951e88e",
            "1d2516f975ea450cb22d0f48c3afc6b0",
            "838f1a2f6ae84974afcf1f555c272095",
            "0dbfcfcfb7ba4a1ba37c57d85d64e99c",
            "cf35f4269815496aa77b1273c788f81e",
            "bbc0e8b4268f40d39c9afce7f47ce0a7"
          ]
        },
        "id": "gHDm_juzwVfM",
        "outputId": "e9371702-2d04-4baa-cc19-e05260b49b73"
      },
      "execution_count": null,
      "outputs": [
        {
          "output_type": "display_data",
          "data": {
            "text/plain": [
              "Computing transition probabilities:   0%|          | 0/105 [00:00<?, ?it/s]"
            ],
            "application/vnd.jupyter.widget-view+json": {
              "version_major": 2,
              "version_minor": 0,
              "model_id": "ab60bc0c78e346b6931b5890dd024a70"
            }
          },
          "metadata": {}
        },
        {
          "output_type": "stream",
          "name": "stderr",
          "text": [
            "Generating walks (CPU: 1): 100%|██████████| 10/10 [00:00<00:00, 32.91it/s]\n"
          ]
        }
      ]
    },
    {
      "cell_type": "markdown",
      "source": [
        "# Node2Vec q = 1, p = 1"
      ],
      "metadata": {
        "id": "knmbpQslw1Ca"
      }
    },
    {
      "cell_type": "code",
      "source": [
        "## Compute Node Embeddings \n",
        "third_node2vec = Node2Vec(G, dimensions=64, p=1, q=2)\n",
        "\n",
        "# Fitting the model\n",
        "third_model = third_node2vec.fit()\n",
        "\n",
        "# Creating the embeddings variable \n",
        "embeddings_3 = third_model.wv\n",
        "\n",
        "# Get the node names (keys)\n",
        "nodes_3 = third_model.wv.index_to_key\n",
        "\n",
        "# Create a dictionary to store the node embeddings\n",
        "node_embeddings_3 = {}\n",
        "\n",
        "# Assing values to the dictionary\n",
        "for node in nodes_3:\n",
        "    embedding = third_model.wv[node]\n",
        "    node_embeddings_3[node] = embedding\n",
        "\n",
        "# Create a DataFrame from the dictionary\n",
        "df_embed_3 = pd.DataFrame.from_dict(node_embeddings_3, orient='index')\n",
        "\n",
        "# Rename the columns with names of their dimensions\n",
        "df_embed_3.columns = [f'dimension_{i}' for i in range(df_embed_3.shape[1])]\n",
        "\n",
        "df_embed_3.index.name = 'node_index'\n",
        "\n",
        "# Convert the index from string to numeric\n",
        "df_embed_3.index = pd.to_numeric(df_embed_3.index)\n",
        "\n",
        "df_embed_3.sort_index(inplace=True)"
      ],
      "metadata": {
        "colab": {
          "base_uri": "https://localhost:8080/",
          "height": 66,
          "referenced_widgets": [
            "3b966b53e16c49c8a7a09e83ca0ae429",
            "24cf348904464f808e710e2e3c6a69f4",
            "16b9953a5e1c492d8135af0106749257",
            "1e0e1dda2d724845bb921e6989ee3ecd",
            "9fe4d0f97cd649e69bb9043156f075b9",
            "e8be574640c742378d8f6b20edaf5940",
            "11ffe601bf67477eb1a5d7488f81d618",
            "85bde68c75c54ace946d2dd988a0c8b6",
            "6867b404b8a140f19591a9bb46333f0b",
            "3dbc891c2b0648279afb2ebc6d410bbe",
            "00bf3dd7e1db4a23a662f8874217a2f1"
          ]
        },
        "id": "x3BXDAgnwqgD",
        "outputId": "f66a72a9-b28f-4215-bb86-4bd0f5dc942e"
      },
      "execution_count": null,
      "outputs": [
        {
          "output_type": "display_data",
          "data": {
            "text/plain": [
              "Computing transition probabilities:   0%|          | 0/105 [00:00<?, ?it/s]"
            ],
            "application/vnd.jupyter.widget-view+json": {
              "version_major": 2,
              "version_minor": 0,
              "model_id": "3b966b53e16c49c8a7a09e83ca0ae429"
            }
          },
          "metadata": {}
        },
        {
          "output_type": "stream",
          "name": "stderr",
          "text": [
            "Generating walks (CPU: 1): 100%|██████████| 10/10 [00:00<00:00, 19.05it/s]\n"
          ]
        }
      ]
    },
    {
      "cell_type": "markdown",
      "source": [
        "# Link Prediction"
      ],
      "metadata": {
        "id": "f5gmrHvVdF8a"
      }
    },
    {
      "cell_type": "markdown",
      "source": [
        "Αρχικά αποθηκεύουμε σε μία λίστα τις υπάρχοντες ακμές στην μεταβλητή positives και βρίσκουμε όλες τις ακμές που δεν υπάρχουν στην μεταβλητή negatives.\n",
        "Ο αριθμός των ακμών μεταξύ κόμβων όμως που δεν υπάρχουν είναι πολύ μεγαλύτερος συγκριτικά με τον αριθμό των κόμβων που υπάρχουν, οπότε πρέπει να κρατήσουμε μόνο τόσους κόμβους όσοι είναι και ο αριθμός των positives.\n",
        "\n",
        "Στην συνέχεια δημιουργούμε τα διανύσματα samples_embeddings(το οποίο παίζει τον ρόλο των εξαρτημένων μεταβλητών), στο οποίο αποθηκεύονται τα ζευγάρια embeddings των κόμβων που έχουμε αποθηκέυσει στην μεταβλητή samples, και την μεταβλητή labels(που παίζει τον ρόλο της μεταβλητής που θέλουμε να προβλέψουμε), που μας λέει ότι το κάθε ζευγάρι κόμβων ενώνεται με ακμή αν έχει την τιμή 1 , και δεν ενώνεται αν έχει την τιμή 0."
      ],
      "metadata": {
        "id": "zMlodzRidHwD"
      }
    },
    {
      "cell_type": "code",
      "source": [
        "# Get all existing edges (positive samples)\n",
        "positives = list(G.edges())\n",
        "# Get all possible node pairs (excluding existing edges)\n",
        "nodes = list(G.nodes())\n",
        "all_pairs = list(itertools.combinations(nodes, 2))\n",
        "existing_pairs = set(positives)\n",
        "negatives = list(set(all_pairs) - existing_pairs)\n",
        "\n",
        "# Randomly sample negative samples\n",
        "num_negatives = len(positives)  # Adjust the number of negative samples if needed\n",
        "random.seed(0)\n",
        "random.shuffle(negatives)\n",
        "negatives = negatives[:num_negatives]\n",
        "\n",
        "# Create new node embeddings that have intger values as keys\n",
        "new_node_embeddings_1={}\n",
        "for key, value in node_embeddings.items():\n",
        "    new_key = int(key) \n",
        "    new_node_embeddings_1[new_key] = value\n",
        "\n",
        "# Combine positive and negative samples\n",
        "samples = np.vstack((positives, negatives))\n",
        "labels = np.concatenate((np.ones(len(positives)), np.zeros(len(negatives))))\n",
        "\n",
        "# Initialize an empty list to store the node embeddings for each sample\n",
        "sample_embeddings_1 = []\n",
        "\n",
        "# Retrieve embeddings for each node pair in the samples\n",
        "for sample in samples:\n",
        "    node1, node2 = sample\n",
        "    embedding1 = new_node_embeddings_1[node1]\n",
        "    embedding2 = new_node_embeddings_1[node2]\n",
        "    sample_embeddings_1.append([embedding1, embedding2])\n",
        "\n",
        "# Convert the sample_embeddings list to a NumPy array\n",
        "sample_embeddings_1 = np.array(sample_embeddings_1)"
      ],
      "metadata": {
        "id": "i8A-RDNmcZAc"
      },
      "execution_count": null,
      "outputs": []
    },
    {
      "cell_type": "markdown",
      "source": [
        "Έτσι βρισκόμαστε σε θέση να εκπαιδέυσουμε το μοντέλο της λογιστικής παλινδρόμησης, αφού πρώτα χωρίσουμε το σύνολο δεδομένων μας σε train και test samples, και στην συνέχεια να εξετάσουμε τα αποτελέσματα μας. "
      ],
      "metadata": {
        "id": "t5T4KrE7kS4D"
      }
    },
    {
      "cell_type": "code",
      "source": [
        "# Reshape the embeddings to 2D\n",
        "num_samples, embedding_dim,_  = sample_embeddings_1.shape\n",
        "reshaped_embeddings_1 = sample_embeddings_1.reshape(num_samples, -1)\n",
        "# Split the data train - test sets\n",
        "X_train, X_test, y_train, y_test = train_test_split(reshaped_embeddings_1, labels, test_size=0.2, random_state=0)\n",
        "\n",
        "# Train the logistic regression classifier\n",
        "classifier_1 = LogisticRegression()\n",
        "classifier_1.fit(X_train, y_train)\n",
        "\n",
        "# Predict on the test set\n",
        "y_pred_1 = classifier_1.predict(X_test)\n",
        "\n",
        "# Calculate metrics\n",
        "accuracy_1 = accuracy_score(y_test, y_pred_1)\n",
        "precision_1 = precision_score(y_test, y_pred_1)\n",
        "recall_1 = recall_score(y_test, y_pred_1)\n",
        "print(accuracy_1)\n",
        "print(precision_1)\n",
        "print(recall_1)"
      ],
      "metadata": {
        "colab": {
          "base_uri": "https://localhost:8080/"
        },
        "id": "FJrHAyqjhV5d",
        "outputId": "ea5d3a79-8aad-4c72-dc15-5f1d2dba6c17"
      },
      "execution_count": null,
      "outputs": [
        {
          "output_type": "stream",
          "name": "stdout",
          "text": [
            "0.807909604519774\n",
            "0.7777777777777778\n",
            "0.8651685393258427\n"
          ]
        }
      ]
    },
    {
      "cell_type": "markdown",
      "source": [
        "Δουλεύουμε όμοια και για τις άλλες δύο περιπτώσεις: "
      ],
      "metadata": {
        "id": "uNNEUkFvlcZF"
      }
    },
    {
      "cell_type": "code",
      "source": [
        "# Create new node embeddings that have intger values as keys\n",
        "new_node_embeddings_2={}\n",
        "for key, value in node_embeddings_2.items():\n",
        "    new_key = int(key) \n",
        "    new_node_embeddings_2[new_key] = value\n",
        "\n",
        "# Combine positive and negative samples\n",
        "samples = np.vstack((positives, negatives))\n",
        "labels = np.concatenate((np.ones(len(positives)), np.zeros(len(negatives))))\n",
        "\n",
        "# Initialize an empty list to store the node embeddings for each sample\n",
        "sample_embeddings_2 = []\n",
        "\n",
        "# Retrieve embeddings for each node pair in the samples\n",
        "for sample in samples:\n",
        "    node1, node2 = sample\n",
        "    embedding1 = new_node_embeddings_2[node1]\n",
        "    embedding2 = new_node_embeddings_2[node2]\n",
        "    sample_embeddings_2.append([embedding1, embedding2])\n",
        "\n",
        "# Convert the sample_embeddings list to a NumPy array\n",
        "sample_embeddings_2 = np.array(sample_embeddings_2)\n",
        "\n",
        "# Reshape the embeddings to 2D\n",
        "num_samples, embedding_dim,_  = sample_embeddings_2.shape\n",
        "reshaped_embeddings_2 = sample_embeddings_2.reshape(num_samples, -1)\n",
        "# Split the data train - test sets\n",
        "X_train, X_test, y_train, y_test = train_test_split(reshaped_embeddings_2, labels, test_size=0.2, random_state=0)\n",
        "\n",
        "# Train the logistic regression classifier\n",
        "classifier_2 = LogisticRegression()\n",
        "classifier_2.fit(X_train, y_train)\n",
        "\n",
        "# Predict on the test set\n",
        "y_pred_2 = classifier_2.predict(X_test)\n",
        "\n",
        "# Calculate metrics\n",
        "accuracy_2 = accuracy_score(y_test, y_pred_2)\n",
        "precision_2 = precision_score(y_test, y_pred_2)\n",
        "recall_2 = recall_score(y_test, y_pred_2)\n",
        "print(accuracy_2)\n",
        "print(precision_2)\n",
        "print(recall_2)"
      ],
      "metadata": {
        "colab": {
          "base_uri": "https://localhost:8080/"
        },
        "id": "NIYpaIGFlqvj",
        "outputId": "5f1015ce-2bb9-4003-d93a-e4ff5f838583"
      },
      "execution_count": null,
      "outputs": [
        {
          "output_type": "stream",
          "name": "stdout",
          "text": [
            "0.7853107344632768\n",
            "0.7428571428571429\n",
            "0.8764044943820225\n"
          ]
        }
      ]
    },
    {
      "cell_type": "code",
      "source": [
        "# Create new node embeddings that have intger values as keys\n",
        "new_node_embeddings_3={}\n",
        "for key, value in node_embeddings_3.items():\n",
        "    new_key = int(key) \n",
        "    new_node_embeddings_3[new_key] = value\n",
        "\n",
        "# Combine positive and negative samples\n",
        "samples = np.vstack((positives, negatives))\n",
        "labels = np.concatenate((np.ones(len(positives)), np.zeros(len(negatives))))\n",
        "\n",
        "# Initialize an empty list to store the node embeddings for each sample\n",
        "sample_embeddings_3 = []\n",
        "\n",
        "# Retrieve embeddings for each node pair in the samples\n",
        "for sample in samples:\n",
        "    node1, node2 = sample\n",
        "    embedding1 = new_node_embeddings_3[node1]\n",
        "    embedding2 = new_node_embeddings_3[node2]\n",
        "    sample_embeddings_3.append([embedding1, embedding2])\n",
        "\n",
        "# Convert the sample_embeddings list to a NumPy array\n",
        "sample_embeddings_3 = np.array(sample_embeddings_3)\n",
        "\n",
        "# Reshape the embeddings to 2D\n",
        "num_samples, embedding_dim,_  = sample_embeddings_3.shape\n",
        "reshaped_embeddings_3 = sample_embeddings_3.reshape(num_samples, -1)\n",
        "# Split the data train - test sets\n",
        "X_train, X_test, y_train, y_test = train_test_split(reshaped_embeddings_3, labels, test_size=0.2, random_state=0)\n",
        "\n",
        "# Train the logistic regression classifier\n",
        "classifier_3 = LogisticRegression()\n",
        "classifier_3.fit(X_train, y_train)\n",
        "\n",
        "# Predict on the test set\n",
        "y_pred_3 = classifier_3.predict(X_test)\n",
        "\n",
        "# Calculate metrics\n",
        "accuracy_3 = accuracy_score(y_test, y_pred_3)\n",
        "precision_3 = precision_score(y_test, y_pred_3)\n",
        "recall_3 = recall_score(y_test, y_pred_3)\n",
        "print(accuracy_3)\n",
        "print(precision_3)\n",
        "print(recall_3)"
      ],
      "metadata": {
        "colab": {
          "base_uri": "https://localhost:8080/"
        },
        "id": "wU2IXC1ImtdP",
        "outputId": "bf8d9a99-efa3-465a-ed01-d3f92b34e629"
      },
      "execution_count": null,
      "outputs": [
        {
          "output_type": "stream",
          "name": "stdout",
          "text": [
            "0.8305084745762712\n",
            "0.7920792079207921\n",
            "0.898876404494382\n"
          ]
        }
      ]
    },
    {
      "cell_type": "markdown",
      "source": [
        "Παρακάτω παρουσιάζονται συνοπτικά τα αποτελέσματα για το link prediction χρησιμοποιώντας το μοντέλο της λογιστικής παλινδρόμησης.  "
      ],
      "metadata": {
        "id": "0o0S_xqYoR_B"
      }
    },
    {
      "cell_type": "markdown",
      "source": [
        "\\begin{array}{llll}\n",
        "Case used for Link prediction   & Accuracy & Precision & Recall\\\\\n",
        "Node2Vec (q = 2, p = 1) & 0.808       & 0.778       & 865   \\\\\n",
        "Node2Vec (q = 0.5, p = 1)      & 0.785       & 0.743      & 0.876  \\\\\n",
        "Node2Vec (q = 1, p = 1) & 0.831       & 0.792       & 0.899 \n",
        "\\end{array}"
      ],
      "metadata": {
        "id": "Fwdc_6mNoRgD"
      }
    },
    {
      "cell_type": "markdown",
      "source": [
        "Μπορούμε πολύ εύκολα να καταλάβουμε ότι η χρήση των Embeddings μπορεί να βοηθήσει πάρα πολύ στο link prediction. Και οι τρεις περιπτώσεις βλέπουμε ότι παράγουν το ίδιο καλά αποτελέσματα. "
      ],
      "metadata": {
        "id": "kIQnhYBvryAk"
      }
    },
    {
      "cell_type": "markdown",
      "source": [
        "# K - Means"
      ],
      "metadata": {
        "id": "pY-PxK37wJYJ"
      }
    },
    {
      "cell_type": "markdown",
      "source": [
        "Από εδώ ξεκινάει το κομμάτι του κώδικα που σχετίζεται με το δεύτερο κομμάτι της εργασίας, και πιο συγκεκριμένα, αυτό που σχετίζεται με τον k-means. \n",
        "\n",
        "Θα δουλέυουμε κάθε φορά παράλληλα και για τις τρεις περιπτώσεις. Ο κώδικας πάλι θα είναι ο ίδιος για κάθε περίπτωση, μόνο που θα αλλάζουν τα ονόματα των μεταβλητών.\n",
        "\n",
        "Αρχικά, χρησιμοποιώντας τον αλγόριθμο και για τις τρεις περιπτώσεις, σχηματίζονται labels για τα nodes τα οποία αποθηκεύουμε σε ένα dataframe για να μας βοηθήσει αργότερα."
      ],
      "metadata": {
        "id": "-Mn3Una5VGA5"
      }
    },
    {
      "cell_type": "code",
      "source": [
        "# K means for our first model\n",
        "# Using k means fit method\n",
        "kmeans_1 = KMeans(n_clusters=3, random_state=0).fit(df_embed_1)\n",
        "\n",
        "# Get labels from clustering\n",
        "cluster_labels_1 = kmeans_1.predict(df_embed_1)\n",
        "\n",
        "# And now creating a dictionary containing the labels of each node using kmeans\n",
        "label_dict_1 = {index: element for index, element in enumerate(cluster_labels_1)}\n",
        "\n",
        "# Storing it into our dataframe\n",
        "df['Clustering_1'] = None\n",
        "\n",
        "for key, value in label_dict_1.items():\n",
        "    df.loc[key, 'Clustering_1'] = value"
      ],
      "metadata": {
        "colab": {
          "base_uri": "https://localhost:8080/"
        },
        "id": "nH5ayzzEnTte",
        "outputId": "dd222c33-fa30-4eee-af78-030c1f0cfe34"
      },
      "execution_count": null,
      "outputs": [
        {
          "output_type": "stream",
          "name": "stderr",
          "text": [
            "/usr/local/lib/python3.10/dist-packages/sklearn/cluster/_kmeans.py:870: FutureWarning: The default value of `n_init` will change from 10 to 'auto' in 1.4. Set the value of `n_init` explicitly to suppress the warning\n",
            "  warnings.warn(\n"
          ]
        }
      ]
    },
    {
      "cell_type": "code",
      "source": [
        "# K means for our second model\n",
        "# Using k means fit method\n",
        "kmeans_2 = KMeans(n_clusters=3, random_state=0).fit(df_embed_2)\n",
        "\n",
        "# Get labels from clustering\n",
        "cluster_labels_2 = kmeans_1.predict(df_embed_2)\n",
        "\n",
        "# And now creating a dictionary containing the labels of each node using kmeans\n",
        "label_dict_2 = {index: element for index, element in enumerate(cluster_labels_2)}\n",
        "\n",
        "# Storing it into our dataframe\n",
        "df['Clustering_2'] = None\n",
        "\n",
        "for key, value in label_dict_2.items():\n",
        "    df.loc[key, 'Clustering_2'] = value"
      ],
      "metadata": {
        "colab": {
          "base_uri": "https://localhost:8080/"
        },
        "id": "Mrb-24fZxJQ8",
        "outputId": "d1e369c7-f320-47c7-d385-d76dfc4cb65e"
      },
      "execution_count": null,
      "outputs": [
        {
          "output_type": "stream",
          "name": "stderr",
          "text": [
            "/usr/local/lib/python3.10/dist-packages/sklearn/cluster/_kmeans.py:870: FutureWarning: The default value of `n_init` will change from 10 to 'auto' in 1.4. Set the value of `n_init` explicitly to suppress the warning\n",
            "  warnings.warn(\n"
          ]
        }
      ]
    },
    {
      "cell_type": "code",
      "source": [
        "# K means for our third model\n",
        "# Using k means fit method\n",
        "kmeans_3 = KMeans(n_clusters=3, random_state=0).fit(df_embed_3)\n",
        "\n",
        "# Get labels from clustering\n",
        "cluster_labels_3 = kmeans_3.labels_\n",
        "\n",
        "# And now creating a dictionary containing the labels of each node using kmeans\n",
        "label_dict_3 = {index: element for index, element in enumerate(cluster_labels_3)}\n",
        "\n",
        "# Storing it into our dataframe\n",
        "df['Clustering_3'] = None\n",
        "\n",
        "for key, value in label_dict_3.items():\n",
        "    df.loc[key, 'Clustering_3'] = value"
      ],
      "metadata": {
        "colab": {
          "base_uri": "https://localhost:8080/"
        },
        "id": "GtvxwDWRxV61",
        "outputId": "74839bce-ac7a-45e1-f49e-760b911f56d0"
      },
      "execution_count": null,
      "outputs": [
        {
          "output_type": "stream",
          "name": "stderr",
          "text": [
            "/usr/local/lib/python3.10/dist-packages/sklearn/cluster/_kmeans.py:870: FutureWarning: The default value of `n_init` will change from 10 to 'auto' in 1.4. Set the value of `n_init` explicitly to suppress the warning\n",
            "  warnings.warn(\n"
          ]
        }
      ]
    },
    {
      "cell_type": "code",
      "source": [
        "df"
      ],
      "metadata": {
        "colab": {
          "base_uri": "https://localhost:8080/",
          "height": 424
        },
        "id": "mu3niPe5tJM2",
        "outputId": "22923bdc-e356-41da-d0f0-3a28869851af"
      },
      "execution_count": null,
      "outputs": [
        {
          "output_type": "execute_result",
          "data": {
            "text/plain": [
              "     ground_truth_labels Clustering_1 Clustering_2 Clustering_3\n",
              "0                      0            1            2            0\n",
              "1                      1            1            2            0\n",
              "2                      1            1            2            0\n",
              "3                      1            1            2            0\n",
              "4                      0            1            1            0\n",
              "..                   ...          ...          ...          ...\n",
              "100                    2            2            1            1\n",
              "101                    2            2            1            1\n",
              "102                    2            2            2            1\n",
              "103                    0            0            1            2\n",
              "104                    0            0            1            2\n",
              "\n",
              "[105 rows x 4 columns]"
            ],
            "text/html": [
              "\n",
              "  <div id=\"df-2231d64e-096a-4898-b4a1-7c47776452d9\">\n",
              "    <div class=\"colab-df-container\">\n",
              "      <div>\n",
              "<style scoped>\n",
              "    .dataframe tbody tr th:only-of-type {\n",
              "        vertical-align: middle;\n",
              "    }\n",
              "\n",
              "    .dataframe tbody tr th {\n",
              "        vertical-align: top;\n",
              "    }\n",
              "\n",
              "    .dataframe thead th {\n",
              "        text-align: right;\n",
              "    }\n",
              "</style>\n",
              "<table border=\"1\" class=\"dataframe\">\n",
              "  <thead>\n",
              "    <tr style=\"text-align: right;\">\n",
              "      <th></th>\n",
              "      <th>ground_truth_labels</th>\n",
              "      <th>Clustering_1</th>\n",
              "      <th>Clustering_2</th>\n",
              "      <th>Clustering_3</th>\n",
              "    </tr>\n",
              "  </thead>\n",
              "  <tbody>\n",
              "    <tr>\n",
              "      <th>0</th>\n",
              "      <td>0</td>\n",
              "      <td>1</td>\n",
              "      <td>2</td>\n",
              "      <td>0</td>\n",
              "    </tr>\n",
              "    <tr>\n",
              "      <th>1</th>\n",
              "      <td>1</td>\n",
              "      <td>1</td>\n",
              "      <td>2</td>\n",
              "      <td>0</td>\n",
              "    </tr>\n",
              "    <tr>\n",
              "      <th>2</th>\n",
              "      <td>1</td>\n",
              "      <td>1</td>\n",
              "      <td>2</td>\n",
              "      <td>0</td>\n",
              "    </tr>\n",
              "    <tr>\n",
              "      <th>3</th>\n",
              "      <td>1</td>\n",
              "      <td>1</td>\n",
              "      <td>2</td>\n",
              "      <td>0</td>\n",
              "    </tr>\n",
              "    <tr>\n",
              "      <th>4</th>\n",
              "      <td>0</td>\n",
              "      <td>1</td>\n",
              "      <td>1</td>\n",
              "      <td>0</td>\n",
              "    </tr>\n",
              "    <tr>\n",
              "      <th>...</th>\n",
              "      <td>...</td>\n",
              "      <td>...</td>\n",
              "      <td>...</td>\n",
              "      <td>...</td>\n",
              "    </tr>\n",
              "    <tr>\n",
              "      <th>100</th>\n",
              "      <td>2</td>\n",
              "      <td>2</td>\n",
              "      <td>1</td>\n",
              "      <td>1</td>\n",
              "    </tr>\n",
              "    <tr>\n",
              "      <th>101</th>\n",
              "      <td>2</td>\n",
              "      <td>2</td>\n",
              "      <td>1</td>\n",
              "      <td>1</td>\n",
              "    </tr>\n",
              "    <tr>\n",
              "      <th>102</th>\n",
              "      <td>2</td>\n",
              "      <td>2</td>\n",
              "      <td>2</td>\n",
              "      <td>1</td>\n",
              "    </tr>\n",
              "    <tr>\n",
              "      <th>103</th>\n",
              "      <td>0</td>\n",
              "      <td>0</td>\n",
              "      <td>1</td>\n",
              "      <td>2</td>\n",
              "    </tr>\n",
              "    <tr>\n",
              "      <th>104</th>\n",
              "      <td>0</td>\n",
              "      <td>0</td>\n",
              "      <td>1</td>\n",
              "      <td>2</td>\n",
              "    </tr>\n",
              "  </tbody>\n",
              "</table>\n",
              "<p>105 rows × 4 columns</p>\n",
              "</div>\n",
              "      <button class=\"colab-df-convert\" onclick=\"convertToInteractive('df-2231d64e-096a-4898-b4a1-7c47776452d9')\"\n",
              "              title=\"Convert this dataframe to an interactive table.\"\n",
              "              style=\"display:none;\">\n",
              "        \n",
              "  <svg xmlns=\"http://www.w3.org/2000/svg\" height=\"24px\"viewBox=\"0 0 24 24\"\n",
              "       width=\"24px\">\n",
              "    <path d=\"M0 0h24v24H0V0z\" fill=\"none\"/>\n",
              "    <path d=\"M18.56 5.44l.94 2.06.94-2.06 2.06-.94-2.06-.94-.94-2.06-.94 2.06-2.06.94zm-11 1L8.5 8.5l.94-2.06 2.06-.94-2.06-.94L8.5 2.5l-.94 2.06-2.06.94zm10 10l.94 2.06.94-2.06 2.06-.94-2.06-.94-.94-2.06-.94 2.06-2.06.94z\"/><path d=\"M17.41 7.96l-1.37-1.37c-.4-.4-.92-.59-1.43-.59-.52 0-1.04.2-1.43.59L10.3 9.45l-7.72 7.72c-.78.78-.78 2.05 0 2.83L4 21.41c.39.39.9.59 1.41.59.51 0 1.02-.2 1.41-.59l7.78-7.78 2.81-2.81c.8-.78.8-2.07 0-2.86zM5.41 20L4 18.59l7.72-7.72 1.47 1.35L5.41 20z\"/>\n",
              "  </svg>\n",
              "      </button>\n",
              "      \n",
              "  <style>\n",
              "    .colab-df-container {\n",
              "      display:flex;\n",
              "      flex-wrap:wrap;\n",
              "      gap: 12px;\n",
              "    }\n",
              "\n",
              "    .colab-df-convert {\n",
              "      background-color: #E8F0FE;\n",
              "      border: none;\n",
              "      border-radius: 50%;\n",
              "      cursor: pointer;\n",
              "      display: none;\n",
              "      fill: #1967D2;\n",
              "      height: 32px;\n",
              "      padding: 0 0 0 0;\n",
              "      width: 32px;\n",
              "    }\n",
              "\n",
              "    .colab-df-convert:hover {\n",
              "      background-color: #E2EBFA;\n",
              "      box-shadow: 0px 1px 2px rgba(60, 64, 67, 0.3), 0px 1px 3px 1px rgba(60, 64, 67, 0.15);\n",
              "      fill: #174EA6;\n",
              "    }\n",
              "\n",
              "    [theme=dark] .colab-df-convert {\n",
              "      background-color: #3B4455;\n",
              "      fill: #D2E3FC;\n",
              "    }\n",
              "\n",
              "    [theme=dark] .colab-df-convert:hover {\n",
              "      background-color: #434B5C;\n",
              "      box-shadow: 0px 1px 3px 1px rgba(0, 0, 0, 0.15);\n",
              "      filter: drop-shadow(0px 1px 2px rgba(0, 0, 0, 0.3));\n",
              "      fill: #FFFFFF;\n",
              "    }\n",
              "  </style>\n",
              "\n",
              "      <script>\n",
              "        const buttonEl =\n",
              "          document.querySelector('#df-2231d64e-096a-4898-b4a1-7c47776452d9 button.colab-df-convert');\n",
              "        buttonEl.style.display =\n",
              "          google.colab.kernel.accessAllowed ? 'block' : 'none';\n",
              "\n",
              "        async function convertToInteractive(key) {\n",
              "          const element = document.querySelector('#df-2231d64e-096a-4898-b4a1-7c47776452d9');\n",
              "          const dataTable =\n",
              "            await google.colab.kernel.invokeFunction('convertToInteractive',\n",
              "                                                     [key], {});\n",
              "          if (!dataTable) return;\n",
              "\n",
              "          const docLinkHtml = 'Like what you see? Visit the ' +\n",
              "            '<a target=\"_blank\" href=https://colab.research.google.com/notebooks/data_table.ipynb>data table notebook</a>'\n",
              "            + ' to learn more about interactive tables.';\n",
              "          element.innerHTML = '';\n",
              "          dataTable['output_type'] = 'display_data';\n",
              "          await google.colab.output.renderOutput(dataTable, element);\n",
              "          const docLink = document.createElement('div');\n",
              "          docLink.innerHTML = docLinkHtml;\n",
              "          element.appendChild(docLink);\n",
              "        }\n",
              "      </script>\n",
              "    </div>\n",
              "  </div>\n",
              "  "
            ]
          },
          "metadata": {},
          "execution_count": 19
        }
      ]
    },
    {
      "cell_type": "markdown",
      "source": [
        "Αφού έχει σχηματιστεί το dataframe, δημιουργούμε τις λίστες οι οποίες περιλαμβάνουν τα communities που βρέθηκαν χρησιμοποιώντας τον k-means."
      ],
      "metadata": {
        "id": "7CPfKNEmWQKa"
      }
    },
    {
      "cell_type": "code",
      "source": [
        "# Finding communities vectors using the dictionaries in each case\n",
        "\n",
        "# First k-means\n",
        "communities_1 = [[],[],[]]\n",
        "\n",
        "for key, value in label_dict_1.items():\n",
        "    if value == 0:\n",
        "        communities_1[0].append(key)\n",
        "    elif value == 1:\n",
        "        communities_1[1].append(key)\n",
        "    elif value == 2:\n",
        "        communities_1[2].append(key)\n",
        "\n",
        "# Second k-means\n",
        "communities_2 = [[],[],[]]\n",
        "\n",
        "for key, value in label_dict_2.items():\n",
        "    if value == 0:\n",
        "        communities_2[0].append(key)\n",
        "    elif value == 1:\n",
        "        communities_2[1].append(key)\n",
        "    elif value == 2:\n",
        "        communities_2[2].append(key)\n",
        "\n",
        "# Third k-means\n",
        "communities_3 = [[],[],[]]\n",
        "\n",
        "for key, value in label_dict_3.items():\n",
        "    if value == 0:\n",
        "        communities_3[0].append(key)\n",
        "    elif value == 1:\n",
        "        communities_3[1].append(key)\n",
        "    elif value == 2:\n",
        "        communities_3[2].append(key)"
      ],
      "metadata": {
        "id": "8JnO39YTtnO1"
      },
      "execution_count": null,
      "outputs": []
    },
    {
      "cell_type": "markdown",
      "source": [
        "## Purity "
      ],
      "metadata": {
        "id": "JBFnsV4X4f9y"
      }
    },
    {
      "cell_type": "markdown",
      "source": [
        "Και τώρα βρισκόμαστε σε θέση να υπολογίσουμε purity και modularity. \n",
        "\n",
        "Για τον υπολογισμό τους θα χρησιμοποιήσω τις συναρτήσεις οι οποίες βοήθησαν στην πραγματοποίηση της δεύτερης εργασίας, μόνο που θα τις επεξεργαστούμε κατάλληλα προκειμένου να βγάλει σωστά αποτελέσματα. "
      ],
      "metadata": {
        "id": "JHlJ1PknWd2z"
      }
    },
    {
      "cell_type": "code",
      "source": [
        "# Editing my purity function from 2nd Assignment in order to calculate it\n",
        "def purity(communities):\n",
        "  ''' Takes for argument a list with the desired communities and returns purity values for the given clustering algorithm.\n",
        "  '''\n",
        "\n",
        "   # First of all, we will use again the lists count_0_list and count_1_list.\n",
        "  count_0_list = []\n",
        "  count_1_list = []\n",
        "  count_2_list = []\n",
        "  for community in communities:\n",
        "    count_0_number = 0 \n",
        "    count_1_number = 0\n",
        "    count_2_number = 0\n",
        "    # if there is a community with a single node we dont have to count it\n",
        "    for node in community:\n",
        "      if df.loc[node, 'ground_truth_labels'] == 0:\n",
        "        count_0_number += 1\n",
        "      elif df.loc[node, 'ground_truth_labels'] == 1:\n",
        "        count_1_number += 1\n",
        "      else: \n",
        "        count_2_number += 1\n",
        "    count_0_list.append(count_0_number)\n",
        "    count_1_list.append(count_1_number) \n",
        "    count_2_list.append(count_2_number)\n",
        "\n",
        "   # We now define the numerator of the type given to calculate purity. We find the number of nodes that are the majority in a community, and then we sum them one by one\n",
        "  purity_numerator = 0 \n",
        "  for i in range(len(count_0_list)):\n",
        "    if count_0_list[i] >= count_1_list[i] and count_0_list[i] >= count_2_list[i] :\n",
        "      purity_numerator += count_0_list[i]\n",
        "    elif count_1_list[i] >= count_0_list[i] and count_1_list[i] >= count_2_list[i] :\n",
        "      purity_numerator += count_1_list[i]\n",
        "    else:\n",
        "      purity_numerator += count_2_list[i]\n",
        "\n",
        "  purity = purity_numerator/len(G.nodes)\n",
        "  \n",
        "  print('Purity: ' + str(purity))"
      ],
      "metadata": {
        "id": "aWK1eveGy89j"
      },
      "execution_count": null,
      "outputs": []
    },
    {
      "cell_type": "markdown",
      "source": [
        "Και τώρα βρισκόμαστε σε θέση να υπολογίσουμε τις τιμές των purity και για τις τρεις περιπτώσεις μας "
      ],
      "metadata": {
        "id": "I5lWGPFSW1-T"
      }
    },
    {
      "cell_type": "code",
      "source": [
        "purity(communities_1)"
      ],
      "metadata": {
        "colab": {
          "base_uri": "https://localhost:8080/"
        },
        "id": "emX-GE7I1kBt",
        "outputId": "598dde2b-5cdd-4137-a7ba-6ac193ae7bcf"
      },
      "execution_count": null,
      "outputs": [
        {
          "output_type": "stream",
          "name": "stdout",
          "text": [
            "Purity: 0.8380952380952381\n"
          ]
        }
      ]
    },
    {
      "cell_type": "code",
      "source": [
        "purity(communities_2)"
      ],
      "metadata": {
        "colab": {
          "base_uri": "https://localhost:8080/"
        },
        "id": "QTOtT7mn1uRl",
        "outputId": "3fc0da0d-a059-42e0-f15c-cdc2e1a7a85e"
      },
      "execution_count": null,
      "outputs": [
        {
          "output_type": "stream",
          "name": "stdout",
          "text": [
            "Purity: 0.7333333333333333\n"
          ]
        }
      ]
    },
    {
      "cell_type": "code",
      "source": [
        "purity(communities_3)"
      ],
      "metadata": {
        "colab": {
          "base_uri": "https://localhost:8080/"
        },
        "id": "iGp4fQ1I3PpX",
        "outputId": "22cc61ee-a068-479d-b0f1-8a42aa4a66cf"
      },
      "execution_count": null,
      "outputs": [
        {
          "output_type": "stream",
          "name": "stdout",
          "text": [
            "Purity: 0.8380952380952381\n"
          ]
        }
      ]
    },
    {
      "cell_type": "markdown",
      "source": [
        "Παρατηρούμε ότι με τα node embeddings, ο k-means βρισκόταν σε θέση να κατηγοριοποιήσει τους κόμβους με τέτοιο τρόπο ώστε το purity του γράφου σε κάθε περίπτωση να ξεπερνάει το 0.7\n",
        "\n",
        "Η καλύετρη τιμή του purity, αυτή την φορά (το τρέχω κάθε φορά και μου δίνει και διαφορετικά αποτελέσματα λόγω της τυχαιότητας του node2vec), βλέπουμε ότι παρατηρείται στην πρώτη και τρίτη περίπτωση. "
      ],
      "metadata": {
        "id": "KJ1f23qfXHYJ"
      }
    },
    {
      "cell_type": "markdown",
      "source": [
        "## Modularity "
      ],
      "metadata": {
        "id": "aQSEZmlL4igL"
      }
    },
    {
      "cell_type": "code",
      "source": [
        "# Using the function from 2nd Assignment\n",
        "def home_made_modularity(communities):\n",
        "  ground_truth_modularity = nx.algorithms.community.modularity(G, communities_ground_truth)\n",
        "  community_modularity =  nx.algorithms.community.modularity(G, communities)\n",
        "\n",
        "  print('Modularity: ' + str(community_modularity) + ' (modularity for our starting graph:  ' + str(ground_truth_modularity) + ')')"
      ],
      "metadata": {
        "id": "5cJYdNCk4mbb"
      },
      "execution_count": null,
      "outputs": []
    },
    {
      "cell_type": "code",
      "source": [
        "home_made_modularity(communities_1)"
      ],
      "metadata": {
        "colab": {
          "base_uri": "https://localhost:8080/"
        },
        "id": "Fo31JNZX4ryX",
        "outputId": "86436a4a-08b3-48b7-d437-babe1e956ede"
      },
      "execution_count": null,
      "outputs": [
        {
          "output_type": "stream",
          "name": "stdout",
          "text": [
            "Modularity: 0.5022650027509115 (modularity for our starting graph:  0.4149402769422207)\n"
          ]
        }
      ]
    },
    {
      "cell_type": "code",
      "source": [
        "home_made_modularity(communities_2)"
      ],
      "metadata": {
        "colab": {
          "base_uri": "https://localhost:8080/"
        },
        "id": "0VhCZEaS4tpn",
        "outputId": "654a1ef3-61c8-4b0a-d86b-f443709c6ab6"
      },
      "execution_count": null,
      "outputs": [
        {
          "output_type": "stream",
          "name": "stdout",
          "text": [
            "Modularity: 0.30729222906093656 (modularity for our starting graph:  0.4149402769422207)\n"
          ]
        }
      ]
    },
    {
      "cell_type": "code",
      "source": [
        "home_made_modularity(communities_3)"
      ],
      "metadata": {
        "colab": {
          "base_uri": "https://localhost:8080/"
        },
        "id": "IIMLLfiS43P8",
        "outputId": "625364d6-e69b-445c-cc05-d08ec55f16e2"
      },
      "execution_count": null,
      "outputs": [
        {
          "output_type": "stream",
          "name": "stdout",
          "text": [
            "Modularity: 0.5022650027509115 (modularity for our starting graph:  0.4149402769422207)\n"
          ]
        }
      ]
    },
    {
      "cell_type": "markdown",
      "source": [
        "Όσον αφορά το modularity, βλέπουμε ότι οι τιμές των τριών περιπτώσεων είναι κοντά στις τιμές modularity των ground truth communities, οπότε και τα node embeddings επιφέρουν πολύ καλά αποτελέσματα όσον αφορά αυτόν τον γράφο"
      ],
      "metadata": {
        "id": "Dzat8RzDYIVb"
      }
    },
    {
      "cell_type": "markdown",
      "source": [
        "## Visualization"
      ],
      "metadata": {
        "id": "Lxh9Ilq6Jkvz"
      }
    },
    {
      "cell_type": "markdown",
      "source": [
        "Προχωράμε στο κομμάτι της οπτικοποίησης των node embeddings.\n",
        "\n",
        "Τα σχόλια περιγράφουν την διαδικασία την οποία ακολουθήσαμε προκεμένου να βγουν τα αποτελέσματα μας."
      ],
      "metadata": {
        "id": "lb7m5bnJYu6E"
      }
    },
    {
      "cell_type": "code",
      "source": [
        "# Creating an array with the embedding values\n",
        "visual_array_1 = df_embed_1.values\n",
        "\n",
        "# Fitting our method to this array\n",
        "tsne = TSNE(n_components=2)\n",
        "embedded_data_1 = tsne.fit_transform(visual_array_1)\n",
        "\n",
        "# Creating a new dataframe that have the ground truth labels and labels found from k means for this Node2Vec\n",
        "visual_df_1 = pd.DataFrame(embedded_data_1, columns=['Dimension 1', 'Dimension 2'])\n",
        "visual_df_1['ground_truth_labels'] = df['ground_truth_labels']\n",
        "visual_df_1['Clustering_1'] = df['Clustering_1']\n",
        "\n",
        "# Plotting using ground truth labels\n",
        "\n",
        "# Get the values for the x and y coordinates\n",
        "x = visual_df_1['Dimension 1']\n",
        "y = visual_df_1['Dimension 2']\n",
        "\n",
        "# Get the unique labels from ground_truth_labels\n",
        "labels = visual_df_1['ground_truth_labels'].unique()\n",
        "\n",
        "# Define a colormap for the labels\n",
        "colormap = plt.cm.get_cmap('Set1', len(labels))\n",
        "\n",
        "# Create a scatter plot and assign colors based on labels\n",
        "plt.figure(figsize=(8, 6))\n",
        "for label in labels:\n",
        "    mask = visual_df_1['ground_truth_labels'] == label\n",
        "    plt.scatter(x[mask], y[mask], c=colormap(label), label=f'Label {label}')\n",
        "\n",
        "plt.xlabel('Dimension 1')\n",
        "plt.ylabel('Dimension 2')\n",
        "plt.title('Scatter Plot with Color Based on Ground Truth Labels')\n",
        "plt.legend()\n",
        "plt.show()\n",
        "\n",
        "# Plotting using labels produced from k-means \n",
        "# Get the values for the x and y coordinates\n",
        "x = visual_df_1['Dimension 1']\n",
        "y = visual_df_1['Dimension 2']\n",
        "\n",
        "# Get the unique labels from ground_truth_labels \n",
        "labels = visual_df_1['Clustering_1'].unique()\n",
        "\n",
        "# Define a colormap for the labels\n",
        "colormap = plt.cm.get_cmap('Set1', len(labels))\n",
        "\n",
        "# Create a scatter plot and assign colors based on labels\n",
        "plt.figure(figsize=(8, 6))\n",
        "for label in labels:\n",
        "    mask = visual_df_1['Clustering_1'] == label\n",
        "    plt.scatter(x[mask], y[mask], c=colormap(label), label=f'Label {label}')\n",
        "\n",
        "plt.xlabel('Dimension 1')\n",
        "plt.ylabel('Dimension 2')\n",
        "plt.title('Scatter Plot with Color Based on Clustering_1 labels')\n",
        "plt.legend()\n",
        "plt.show()"
      ],
      "metadata": {
        "colab": {
          "base_uri": "https://localhost:8080/",
          "height": 1000
        },
        "id": "0Q5gRIOPJhrd",
        "outputId": "c5f48170-6f65-4d09-98e3-e38ad8e39fe7"
      },
      "execution_count": null,
      "outputs": [
        {
          "output_type": "stream",
          "name": "stderr",
          "text": [
            "<ipython-input-29-2b934e4faf28>:23: MatplotlibDeprecationWarning: The get_cmap function was deprecated in Matplotlib 3.7 and will be removed two minor releases later. Use ``matplotlib.colormaps[name]`` or ``matplotlib.colormaps.get_cmap(obj)`` instead.\n",
            "  colormap = plt.cm.get_cmap('Set1', len(labels))\n",
            "<ipython-input-29-2b934e4faf28>:29: UserWarning: *c* argument looks like a single numeric RGB or RGBA sequence, which should be avoided as value-mapping will have precedence in case its length matches with *x* & *y*.  Please use the *color* keyword-argument or provide a 2D array with a single row if you intend to specify the same RGB or RGBA value for all points.\n",
            "  plt.scatter(x[mask], y[mask], c=colormap(label), label=f'Label {label}')\n"
          ]
        },
        {
          "output_type": "display_data",
          "data": {
            "text/plain": [
              "<Figure size 800x600 with 1 Axes>"
            ],
            "image/png": "[encoded data removed]"
          },
          "metadata": {}
        },
        {
          "output_type": "stream",
          "name": "stderr",
          "text": [
            "<ipython-input-29-2b934e4faf28>:46: MatplotlibDeprecationWarning: The get_cmap function was deprecated in Matplotlib 3.7 and will be removed two minor releases later. Use ``matplotlib.colormaps[name]`` or ``matplotlib.colormaps.get_cmap(obj)`` instead.\n",
            "  colormap = plt.cm.get_cmap('Set1', len(labels))\n",
            "<ipython-input-29-2b934e4faf28>:52: UserWarning: *c* argument looks like a single numeric RGB or RGBA sequence, which should be avoided as value-mapping will have precedence in case its length matches with *x* & *y*.  Please use the *color* keyword-argument or provide a 2D array with a single row if you intend to specify the same RGB or RGBA value for all points.\n",
            "  plt.scatter(x[mask], y[mask], c=colormap(label), label=f'Label {label}')\n"
          ]
        },
        {
          "output_type": "display_data",
          "data": {
            "text/plain": [
              "<Figure size 800x600 with 1 Axes>"
            ],
            "image/png": "[encoded data removed]"
          },
          "metadata": {}
        }
      ]
    },
    {
      "cell_type": "code",
      "source": [
        "# Creating an array with the embedding values\n",
        "visual_array_2 = df_embed_2.values\n",
        "\n",
        "# Fitting our method to this array\n",
        "tsne = TSNE(n_components=2)\n",
        "embedded_data_2 = tsne.fit_transform(visual_array_2)\n",
        "\n",
        "# Creating a new dataframe that have the ground truth labels and labels found from k means for this Node2Vec\n",
        "visual_df_2 = pd.DataFrame(embedded_data_2, columns=['Dimension 1', 'Dimension 2'])\n",
        "visual_df_2['ground_truth_labels'] = df['ground_truth_labels']\n",
        "visual_df_2['Clustering_2'] = df['Clustering_2']\n",
        "\n",
        "# Plotting using ground truth labels\n",
        "\n",
        "# Get the values for the x and y coordinates\n",
        "x = visual_df_2['Dimension 1']\n",
        "y = visual_df_2['Dimension 2']\n",
        "\n",
        "# Get the unique labels from ground_truth_labels column\n",
        "labels = visual_df_2['ground_truth_labels'].unique()\n",
        "\n",
        "# Define a colormap for the labels\n",
        "colormap = plt.cm.get_cmap('Set1', len(labels))\n",
        "\n",
        "# Create a scatter plot and assign colors based on labels\n",
        "plt.figure(figsize=(8, 6))\n",
        "for label in labels:\n",
        "    mask = visual_df_1['ground_truth_labels'] == label\n",
        "    plt.scatter(x[mask], y[mask], c=colormap(label), label=f'Label {label}')\n",
        "\n",
        "plt.xlabel('Dimension 1')\n",
        "plt.ylabel('Dimension 2')\n",
        "plt.title('Scatter Plot with Color Based on Ground Truth Labels')\n",
        "plt.legend()\n",
        "plt.show()\n",
        "\n",
        "# Plotting using labels produced from k-means \n",
        "\n",
        "# Get the unique labels from ground_truth_labels \n",
        "labels = visual_df_2['Clustering_2'].unique()\n",
        "\n",
        "# Define a colormap for the labels\n",
        "colormap = plt.cm.get_cmap('Set1', len(labels))\n",
        "\n",
        "# Create a scatter plot and assign colors based on labels\n",
        "plt.figure(figsize=(8, 6))\n",
        "for label in labels:\n",
        "    mask = visual_df_2['Clustering_2'] == label\n",
        "    plt.scatter(x[mask], y[mask], c=colormap(label), label=f'Label {label}')\n",
        "\n",
        "plt.xlabel('Dimension 1')\n",
        "plt.ylabel('Dimension 2')\n",
        "plt.title('Scatter Plot with Color Based on Clustering_2 labels')\n",
        "plt.legend()\n",
        "plt.show()"
      ],
      "metadata": {
        "colab": {
          "base_uri": "https://localhost:8080/",
          "height": 1000
        },
        "id": "eyp94cJZTMzk",
        "outputId": "5ec15484-1e7d-46d4-8182-58ea6e47a208"
      },
      "execution_count": null,
      "outputs": [
        {
          "output_type": "stream",
          "name": "stderr",
          "text": [
            "<ipython-input-30-2a5e889c84d5>:23: MatplotlibDeprecationWarning: The get_cmap function was deprecated in Matplotlib 3.7 and will be removed two minor releases later. Use ``matplotlib.colormaps[name]`` or ``matplotlib.colormaps.get_cmap(obj)`` instead.\n",
            "  colormap = plt.cm.get_cmap('Set1', len(labels))\n",
            "<ipython-input-30-2a5e889c84d5>:29: UserWarning: *c* argument looks like a single numeric RGB or RGBA sequence, which should be avoided as value-mapping will have precedence in case its length matches with *x* & *y*.  Please use the *color* keyword-argument or provide a 2D array with a single row if you intend to specify the same RGB or RGBA value for all points.\n",
            "  plt.scatter(x[mask], y[mask], c=colormap(label), label=f'Label {label}')\n"
          ]
        },
        {
          "output_type": "display_data",
          "data": {
            "text/plain": [
              "<Figure size 800x600 with 1 Axes>"
            ],
            "image/png": "[encoded data removed]"
          },
          "metadata": {}
        },
        {
          "output_type": "stream",
          "name": "stderr",
          "text": [
            "<ipython-input-30-2a5e889c84d5>:43: MatplotlibDeprecationWarning: The get_cmap function was deprecated in Matplotlib 3.7 and will be removed two minor releases later. Use ``matplotlib.colormaps[name]`` or ``matplotlib.colormaps.get_cmap(obj)`` instead.\n",
            "  colormap = plt.cm.get_cmap('Set1', len(labels))\n",
            "<ipython-input-30-2a5e889c84d5>:49: UserWarning: *c* argument looks like a single numeric RGB or RGBA sequence, which should be avoided as value-mapping will have precedence in case its length matches with *x* & *y*.  Please use the *color* keyword-argument or provide a 2D array with a single row if you intend to specify the same RGB or RGBA value for all points.\n",
            "  plt.scatter(x[mask], y[mask], c=colormap(label), label=f'Label {label}')\n"
          ]
        },
        {
          "output_type": "display_data",
          "data": {
            "text/plain": [
              "<Figure size 800x600 with 1 Axes>"
            ],
            "image/png": "[encoded data removed]"
          },
          "metadata": {}
        }
      ]
    },
    {
      "cell_type": "code",
      "source": [
        "# Creating an array with the embedding values\n",
        "visual_array_3 = df_embed_3.values\n",
        "\n",
        "# Fitting our method to this array\n",
        "tsne = TSNE(n_components=2)\n",
        "embedded_data_3 = tsne.fit_transform(visual_array_3)\n",
        "\n",
        "# Creating a new dataframe that have the ground truth labels and labels found from k means for this Node2Vec\n",
        "visual_df_3 = pd.DataFrame(embedded_data_3, columns=['Dimension 1', 'Dimension 2'])\n",
        "visual_df_3['ground_truth_labels'] = df['ground_truth_labels']\n",
        "visual_df_3['Clustering_3'] = df['Clustering_3']\n",
        "\n",
        "\n",
        "# Plotting using ground truth labels\n",
        "# Get the values for the x and y coordinates\n",
        "x = visual_df_3['Dimension 1']\n",
        "y = visual_df_3['Dimension 2']\n",
        "\n",
        "# Get the unique labels from ground_truth_labels\n",
        "labels = visual_df_3['ground_truth_labels'].unique()\n",
        "\n",
        "# Define a colormap for the labels\n",
        "colormap = plt.cm.get_cmap('Set1', len(labels))\n",
        "\n",
        "# Create a scatter plot and assign colors based on labels\n",
        "plt.figure(figsize=(8, 6))\n",
        "for label in labels:\n",
        "    mask = visual_df_3['ground_truth_labels'] == label\n",
        "    plt.scatter(x[mask], y[mask], c=colormap(label), label=f'Label {label}')\n",
        "\n",
        "plt.xlabel('Dimension 1')\n",
        "plt.ylabel('Dimension 2')\n",
        "plt.title('Scatter Plot with Color Based on Ground Truth Labels')\n",
        "plt.legend()\n",
        "plt.show()\n",
        "\n",
        "# Plotting using labels produced from k-means \n",
        "# Get the unique labels from ground_truth_labels column\n",
        "labels = visual_df_3['Clustering_3'].unique()\n",
        "\n",
        "# Define a colormap for the labels\n",
        "colormap = plt.cm.get_cmap('Set1', len(labels))\n",
        "\n",
        "# Create a scatter plot and assign colors based on labels\n",
        "plt.figure(figsize=(8, 6))\n",
        "for label in labels:\n",
        "    mask = visual_df_3['Clustering_3'] == label\n",
        "    plt.scatter(x[mask], y[mask], c=colormap(label), label=f'Label {label}')\n",
        "\n",
        "plt.xlabel('Dimension 1')\n",
        "plt.ylabel('Dimension 2')\n",
        "plt.title('Scatter Plot with Color Based on Clustering_3 labels')\n",
        "plt.legend()\n",
        "plt.show()"
      ],
      "metadata": {
        "colab": {
          "base_uri": "https://localhost:8080/",
          "height": 1000
        },
        "id": "hSckriVJTtPU",
        "outputId": "71960f4c-cadd-4e2e-d34e-9c2ed1a62898"
      },
      "execution_count": null,
      "outputs": [
        {
          "output_type": "stream",
          "name": "stderr",
          "text": [
            "<ipython-input-31-7c8540688352>:23: MatplotlibDeprecationWarning: The get_cmap function was deprecated in Matplotlib 3.7 and will be removed two minor releases later. Use ``matplotlib.colormaps[name]`` or ``matplotlib.colormaps.get_cmap(obj)`` instead.\n",
            "  colormap = plt.cm.get_cmap('Set1', len(labels))\n",
            "<ipython-input-31-7c8540688352>:29: UserWarning: *c* argument looks like a single numeric RGB or RGBA sequence, which should be avoided as value-mapping will have precedence in case its length matches with *x* & *y*.  Please use the *color* keyword-argument or provide a 2D array with a single row if you intend to specify the same RGB or RGBA value for all points.\n",
            "  plt.scatter(x[mask], y[mask], c=colormap(label), label=f'Label {label}')\n"
          ]
        },
        {
          "output_type": "display_data",
          "data": {
            "text/plain": [
              "<Figure size 800x600 with 1 Axes>"
            ],
            "image/png": "[encoded data removed]"
          },
          "metadata": {}
        },
        {
          "output_type": "stream",
          "name": "stderr",
          "text": [
            "<ipython-input-31-7c8540688352>:42: MatplotlibDeprecationWarning: The get_cmap function was deprecated in Matplotlib 3.7 and will be removed two minor releases later. Use ``matplotlib.colormaps[name]`` or ``matplotlib.colormaps.get_cmap(obj)`` instead.\n",
            "  colormap = plt.cm.get_cmap('Set1', len(labels))\n",
            "<ipython-input-31-7c8540688352>:48: UserWarning: *c* argument looks like a single numeric RGB or RGBA sequence, which should be avoided as value-mapping will have precedence in case its length matches with *x* & *y*.  Please use the *color* keyword-argument or provide a 2D array with a single row if you intend to specify the same RGB or RGBA value for all points.\n",
            "  plt.scatter(x[mask], y[mask], c=colormap(label), label=f'Label {label}')\n"
          ]
        },
        {
          "output_type": "display_data",
          "data": {
            "text/plain": [
              "<Figure size 800x600 with 1 Axes>"
            ],
            "image/png": "[encoded data removed]"
          },
          "metadata": {}
        }
      ]
    },
    {
      "cell_type": "markdown",
      "source": [
        "Και στις τρεις περιπτώσεις αναπαράστασης των node embeddings στον χώρο, βλέπουμε ότι ο k means βρισκόταν σε πολύ καλή θέση να ξεχωρίσει τα nodes με τα ίδια labels. Προφανώς και υπάρχουν ορισμένοι κόμβοι τους οποίους δεν μπόρεσε να κατηγοριοποιήσει στο σωστό community, καθώς λαμβάνει υπόψη την απόσταση μεταξύ των κόμβων"
      ],
      "metadata": {
        "id": "BcJj1W7bZUzd"
      }
    }
  ]
}